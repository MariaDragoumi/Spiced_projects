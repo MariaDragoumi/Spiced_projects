{
 "cells": [
  {
   "cell_type": "code",
   "execution_count": 731,
   "id": "342a09a7-6007-4a2c-bee0-5dacfd82e2b4",
   "metadata": {},
   "outputs": [],
   "source": [
    "import numpy as np\n",
    "import pandas as pd\n",
    "import seaborn as sns\n",
    "import matplotlib.pyplot as plt\n",
    "from sklearn.linear_model import LogisticRegression\n",
    "from sklearn.model_selection import train_test_split\n",
    "from sklearn.impute import SimpleImputer\n",
    "from sklearn.preprocessing import OneHotEncoder\n",
    "from sklearn.preprocessing import MinMaxScaler, StandardScaler\n",
    "from sklearn.preprocessing import KBinsDiscretizer\n",
    "from sklearn.pipeline import Pipeline\n",
    "from sklearn.compose import ColumnTransformer\n",
    "from sklearn.metrics import accuracy_score, precision_score, recall_score, classification_report  \n",
    "from sklearn.model_selection import cross_val_score, cross_validate\n",
    "from sklearn.tree import DecisionTreeClassifier, plot_tree"
   ]
  },
  {
   "cell_type": "code",
   "execution_count": 732,
   "id": "9ef3e23e",
   "metadata": {},
   "outputs": [
    {
     "data": {
      "text/plain": [
       "Index(['PassengerId', 'Survived', 'Pclass', 'Name', 'Sex', 'Age', 'SibSp',\n",
       "       'Parch', 'Ticket', 'Fare', 'Cabin', 'Embarked'],\n",
       "      dtype='object')"
      ]
     },
     "execution_count": 732,
     "metadata": {},
     "output_type": "execute_result"
    }
   ],
   "source": [
    "df = pd.read_csv('data/train.csv')\n",
    "df.columns"
   ]
  },
  {
   "cell_type": "code",
   "execution_count": 733,
   "id": "a4ddb91c",
   "metadata": {},
   "outputs": [
    {
     "data": {
      "text/plain": [
       "((891, 9), (891,))"
      ]
     },
     "execution_count": 733,
     "metadata": {},
     "output_type": "execute_result"
    }
   ],
   "source": [
    "X = df[['Pclass','Sex','Age','SibSp','Parch','Fare','Embarked','Cabin','Ticket']]#'Name',\n",
    "y = df['Survived']\n",
    "X.shape,y.shape"
   ]
  },
  {
   "cell_type": "code",
   "execution_count": 734,
   "id": "74b16297",
   "metadata": {},
   "outputs": [
    {
     "name": "stderr",
     "output_type": "stream",
     "text": [
      "/var/folders/c4/jkw5wy1d7lndc6p4y832vmrc0000gn/T/ipykernel_33323/2751445116.py:1: SettingWithCopyWarning: \n",
      "A value is trying to be set on a copy of a slice from a DataFrame.\n",
      "Try using .loc[row_indexer,col_indexer] = value instead\n",
      "\n",
      "See the caveats in the documentation: https://pandas.pydata.org/pandas-docs/stable/user_guide/indexing.html#returning-a-view-versus-a-copy\n",
      "  X['Alone'] = np.where((X['Parch']<1) & (X['SibSp']<1),1,0)\n"
     ]
    },
    {
     "data": {
      "text/plain": [
       "1    537\n",
       "0    354\n",
       "Name: Alone, dtype: int64"
      ]
     },
     "execution_count": 734,
     "metadata": {},
     "output_type": "execute_result"
    }
   ],
   "source": [
    "X['Alone'] = np.where((X['Parch']<1) & (X['SibSp']<1),1,0)\n",
    "X['Alone'].value_counts()"
   ]
  },
  {
   "cell_type": "code",
   "execution_count": 735,
   "id": "c8d66e13",
   "metadata": {},
   "outputs": [
    {
     "name": "stderr",
     "output_type": "stream",
     "text": [
      "/Users/maria/opt/anaconda3/lib/python3.9/site-packages/pandas/core/generic.py:6392: SettingWithCopyWarning: \n",
      "A value is trying to be set on a copy of a slice from a DataFrame\n",
      "\n",
      "See the caveats in the documentation: https://pandas.pydata.org/pandas-docs/stable/user_guide/indexing.html#returning-a-view-versus-a-copy\n",
      "  return self._update_inplace(result)\n"
     ]
    }
   ],
   "source": [
    "X['Cabin'].fillna(\"Unknown\",inplace=True)"
   ]
  },
  {
   "cell_type": "code",
   "execution_count": 736,
   "id": "b102ed8a",
   "metadata": {},
   "outputs": [
    {
     "name": "stderr",
     "output_type": "stream",
     "text": [
      "/var/folders/c4/jkw5wy1d7lndc6p4y832vmrc0000gn/T/ipykernel_33323/2836540753.py:1: SettingWithCopyWarning: \n",
      "A value is trying to be set on a copy of a slice from a DataFrame.\n",
      "Try using .loc[row_indexer,col_indexer] = value instead\n",
      "\n",
      "See the caveats in the documentation: https://pandas.pydata.org/pandas-docs/stable/user_guide/indexing.html#returning-a-view-versus-a-copy\n",
      "  X['Cabin_A']=np.where(X['Cabin'].str.contains('A'),1,0)\n"
     ]
    }
   ],
   "source": [
    "X['Cabin_A']=np.where(X['Cabin'].str.contains('A'),1,0)\n",
    "X['Cabin_B']=np.where(X['Cabin'].str.contains('B'),1,0)\n",
    "X['Cabin_C']=np.where(X['Cabin'].str.contains('C'),1,0)\n",
    "X['Cabin_D']=np.where(X['Cabin'].str.contains('D'),1,0)\n",
    "X['Cabin_E']=np.where(X['Cabin'].str.contains('E'),1,0)\n",
    "X['Cabin_F']=np.where(X['Cabin'].str.contains('F'),1,0)\n",
    "X['Cabin_G']=np.where(X['Cabin'].str.contains('G'),1,0)"
   ]
  },
  {
   "cell_type": "code",
   "execution_count": 737,
   "id": "b102ed8a",
   "metadata": {},
   "outputs": [],
   "source": [
    "#We could do something similar with names but they are too divergent.\n"
   ]
  },
  {
   "cell_type": "code",
   "execution_count": 738,
   "id": "dd629b75",
   "metadata": {},
   "outputs": [],
   "source": [
    "X.drop('Cabin', axis=1, inplace=True)"
   ]
  },
  {
   "cell_type": "code",
   "execution_count": 739,
   "id": "d30020a2",
   "metadata": {},
   "outputs": [],
   "source": [
    "X['Ticket_frequency'] = X['Ticket'].map(X['Ticket'].value_counts())"
   ]
  },
  {
   "cell_type": "code",
   "execution_count": 740,
   "id": "833e2d9d",
   "metadata": {},
   "outputs": [],
   "source": [
    "X.drop('Ticket', axis=1, inplace=True)"
   ]
  },
  {
   "cell_type": "code",
   "execution_count": 741,
   "id": "b7c26402",
   "metadata": {},
   "outputs": [
    {
     "data": {
      "text/plain": [
       "Pclass             -0.338481\n",
       "Age                -0.077221\n",
       "SibSp              -0.035322\n",
       "Parch               0.081629\n",
       "Fare                0.257307\n",
       "Alone              -0.203367\n",
       "Cabin_A             0.022287\n",
       "Cabin_B             0.175095\n",
       "Cabin_C             0.114652\n",
       "Cabin_D             0.150716\n",
       "Cabin_E             0.150716\n",
       "Cabin_F             0.057935\n",
       "Cabin_G            -0.017955\n",
       "Ticket_frequency    0.038247\n",
       "dtype: float64"
      ]
     },
     "execution_count": 741,
     "metadata": {},
     "output_type": "execute_result"
    }
   ],
   "source": [
    "X.corrwith(y) "
   ]
  },
  {
   "cell_type": "code",
   "execution_count": 742,
   "id": "408288e8",
   "metadata": {},
   "outputs": [],
   "source": [
    "# The most correlated are: Pclass, Fare, Alone and some cabins. To make age more relevant we create new column"
   ]
  },
  {
   "cell_type": "code",
   "execution_count": 743,
   "id": "16ceca0c",
   "metadata": {},
   "outputs": [
    {
     "data": {
      "text/plain": [
       "<AxesSubplot:xlabel='Age', ylabel='Density'>"
      ]
     },
     "execution_count": 743,
     "metadata": {},
     "output_type": "execute_result"
    },
    {
     "data": {
      "image/png": "[encoded data removed]",
      "text/plain": [
       "<Figure size 432x288 with 1 Axes>"
      ]
     },
     "metadata": {
      "needs_background": "light"
     },
     "output_type": "display_data"
    }
   ],
   "source": [
    "sns.histplot(data=X[X['Sex']=='female'], x=\"Age\", hue = y,stat=\"density\",bins=100)"
   ]
  },
  {
   "cell_type": "code",
   "execution_count": 744,
   "id": "0263cf10",
   "metadata": {},
   "outputs": [
    {
     "data": {
      "text/plain": [
       "<AxesSubplot:xlabel='Age', ylabel='Density'>"
      ]
     },
     "execution_count": 744,
     "metadata": {},
     "output_type": "execute_result"
    },
    {
     "data": {
      "image/png": "[encoded data removed]",
      "text/plain": [
       "<Figure size 432x288 with 1 Axes>"
      ]
     },
     "metadata": {
      "needs_background": "light"
     },
     "output_type": "display_data"
    }
   ],
   "source": [
    "sns.histplot(data=X[X['Sex']=='male'], x=\"Age\", hue = y,stat=\"density\",bins=100)"
   ]
  },
  {
   "cell_type": "code",
   "execution_count": 745,
   "id": "226d8539",
   "metadata": {},
   "outputs": [
    {
     "data": {
      "text/plain": [
       "0    855\n",
       "1     36\n",
       "Name: Young_male, dtype: int64"
      ]
     },
     "execution_count": 745,
     "metadata": {},
     "output_type": "execute_result"
    }
   ],
   "source": [
    "X['Young_male'] = np.where((X['Sex']=='male') & (X['Age']<12.0),1,0) #Age seem more important for male passingers \n",
    "X['Young_male'].value_counts()"
   ]
  },
  {
   "cell_type": "code",
   "execution_count": 746,
   "id": "5b38a157",
   "metadata": {},
   "outputs": [],
   "source": [
    "X_train, X_test, y_train, y_test = train_test_split(X, y, test_size = 0.2) #"
   ]
  },
  {
   "cell_type": "code",
   "execution_count": 747,
   "id": "f2246359",
   "metadata": {},
   "outputs": [
    {
     "data": {
      "text/plain": [
       "((712, 17), (712,))"
      ]
     },
     "execution_count": 747,
     "metadata": {},
     "output_type": "execute_result"
    }
   ],
   "source": [
    "X_train.shape,y_train.shape"
   ]
  },
  {
   "cell_type": "code",
   "execution_count": 748,
   "id": "d92e5b69",
   "metadata": {},
   "outputs": [
    {
     "data": {
      "text/plain": [
       "((179, 17), (179,))"
      ]
     },
     "execution_count": 748,
     "metadata": {},
     "output_type": "execute_result"
    }
   ],
   "source": [
    "X_test.shape,y_test.shape"
   ]
  },
  {
   "cell_type": "code",
   "execution_count": 749,
   "id": "fdfb7a30",
   "metadata": {},
   "outputs": [],
   "source": [
    "numerical_columns = ['Age','Fare',]\n",
    "categorical_columns = ['Embarked','Pclass','Sex','SibSp','Parch','Alone'] #"
   ]
  },
  {
   "cell_type": "code",
   "execution_count": 750,
   "id": "18a7c524",
   "metadata": {},
   "outputs": [],
   "source": [
    "numerical_pipeline = Pipeline([\n",
    "    ('numerical_imputer',SimpleImputer(missing_values=np.nan, strategy='mean')),\n",
    "    ('num_scaler',StandardScaler()),\n",
    "    ('num_discritazer',KBinsDiscretizer(n_bins=10, strategy='uniform'),)\n",
    "])"
   ]
  },
  {
   "cell_type": "code",
   "execution_count": 751,
   "id": "1866c19f",
   "metadata": {},
   "outputs": [],
   "source": [
    "categorical_pipeline = Pipeline([\n",
    "    ('categorical_imputer',SimpleImputer(missing_values=np.nan, strategy='most_frequent')),\n",
    "    ('categorical_ohe',OneHotEncoder(sparse=False, handle_unknown='error',drop='first')),\n",
    "])"
   ]
  },
  {
   "cell_type": "code",
   "execution_count": 752,
   "id": "99cafc61",
   "metadata": {},
   "outputs": [],
   "source": [
    "column_transformer = ColumnTransformer([\n",
    "    ('numerical_pipeline',numerical_pipeline,['Age','Fare',]),\n",
    "    ('categorical_pipeline',categorical_pipeline,['Embarked','Pclass','Sex','Alone','SibSp','Parch','Ticket_frequency',]),#\n",
    "],remainder=\"passthrough\")"
   ]
  },
  {
   "cell_type": "code",
   "execution_count": 753,
   "id": "4bd4fa55",
   "metadata": {},
   "outputs": [
    {
     "data": {
      "text/plain": [
       "Index(['Pclass', 'Sex', 'Age', 'SibSp', 'Parch', 'Fare', 'Embarked', 'Alone',\n",
       "       'Cabin_A', 'Cabin_B', 'Cabin_C', 'Cabin_D', 'Cabin_E', 'Cabin_F',\n",
       "       'Cabin_G', 'Ticket_frequency', 'Young_male'],\n",
       "      dtype='object')"
      ]
     },
     "execution_count": 753,
     "metadata": {},
     "output_type": "execute_result"
    }
   ],
   "source": [
    "X_test.columns"
   ]
  },
  {
   "cell_type": "code",
   "execution_count": null,
   "id": "01b1668f",
   "metadata": {},
   "outputs": [],
   "source": []
  },
  {
   "cell_type": "code",
   "execution_count": 754,
   "id": "b18a23df",
   "metadata": {},
   "outputs": [],
   "source": [
    "column_transformer.fit(X_train) #learn how to do the transforamtion\n",
    "X_train_fe = column_transformer.transform(X_train) #Do the accual transformation\n",
    "X_test_fe = column_transformer.transform(X_test) #Do the same transformation on test set "
   ]
  },
  {
   "cell_type": "code",
   "execution_count": 755,
   "id": "97bee704",
   "metadata": {},
   "outputs": [
    {
     "data": {
      "text/plain": [
       "LogisticRegression()"
      ]
     },
     "execution_count": 755,
     "metadata": {},
     "output_type": "execute_result"
    }
   ],
   "source": [
    "m = LogisticRegression() #class_weight='balanced'\n",
    "m.fit(X_train_fe,y_train) "
   ]
  },
  {
   "cell_type": "code",
   "execution_count": 756,
   "id": "f8c66cdc",
   "metadata": {},
   "outputs": [
    {
     "data": {
      "text/plain": [
       "array([0.761, 0.789, 0.789, 0.789, 0.803, 0.803, 0.817, 0.819, 0.873,\n",
       "       0.889])"
      ]
     },
     "execution_count": 756,
     "metadata": {},
     "output_type": "execute_result"
    }
   ],
   "source": [
    "scores = cross_val_score(m, X_train_fe, y_train, cv=10)\n",
    "np.sort(scores.round(3))"
   ]
  },
  {
   "cell_type": "code",
   "execution_count": 757,
   "id": "6b1a9f07",
   "metadata": {},
   "outputs": [
    {
     "data": {
      "text/plain": [
       "'Mean cross-validation score:  0.813'"
      ]
     },
     "execution_count": 757,
     "metadata": {},
     "output_type": "execute_result"
    }
   ],
   "source": [
    "f\"Mean cross-validation score: {scores.mean(): 5.3f}\""
   ]
  },
  {
   "cell_type": "code",
   "execution_count": 758,
   "id": "2518452f",
   "metadata": {},
   "outputs": [],
   "source": [
    "y_pred = m.predict(X_test_fe)"
   ]
  },
  {
   "cell_type": "code",
   "execution_count": 759,
   "id": "06e6f7a8",
   "metadata": {},
   "outputs": [
    {
     "data": {
      "text/plain": [
       "0.8212290502793296"
      ]
     },
     "execution_count": 759,
     "metadata": {},
     "output_type": "execute_result"
    }
   ],
   "source": [
    "score =accuracy_score(y_test,y_pred) \n",
    "score"
   ]
  }
 ],
 "metadata": {
  "kernelspec": {
   "display_name": "Python 3 (ipykernel)",
   "language": "python",
   "name": "python3"
  },
  "language_info": {
   "codemirror_mode": {
    "name": "ipython",
    "version": 3
   },
   "file_extension": ".py",
   "mimetype": "text/x-python",
   "name": "python",
   "nbconvert_exporter": "python",
   "pygments_lexer": "ipython3",
   "version": "3.9.7"
  }
 },
 "nbformat": 4,
 "nbformat_minor": 5
}
