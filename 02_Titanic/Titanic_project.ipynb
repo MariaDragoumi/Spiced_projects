{
 "cells": [
  {
   "cell_type": "code",
   "execution_count": 2611,
   "id": "861f45fa-7c68-466e-8de1-d13285ffbcdc",
   "metadata": {},
   "outputs": [],
   "source": [
    "import numpy as np\n",
    "import pandas as pd\n",
    "import seaborn as sns\n",
    "import matplotlib.pyplot as plt\n",
    "from sklearn.linear_model import LogisticRegression\n",
    "from sklearn.model_selection import train_test_split\n",
    "from sklearn.impute import SimpleImputer\n",
    "from sklearn.preprocessing import OneHotEncoder\n",
    "from sklearn.preprocessing import MinMaxScaler, StandardScaler\n",
    "from sklearn.preprocessing import KBinsDiscretizer\n",
    "from sklearn.pipeline import Pipeline\n",
    "from sklearn.compose import ColumnTransformer\n",
    "from sklearn.metrics import accuracy_score, precision_score, recall_score, classification_report  \n",
    "from sklearn.model_selection import cross_val_score, cross_validate\n",
    "from sklearn.tree import DecisionTreeClassifier, plot_tree\n",
    "from sklearn.ensemble import RandomForestClassifier"
   ]
  },
  {
   "cell_type": "code",
   "execution_count": 2612,
   "id": "6c7acfd1",
   "metadata": {},
   "outputs": [],
   "source": [
    "pd.options.mode.chained_assignment = None "
   ]
  },
  {
   "cell_type": "code",
   "execution_count": 2613,
   "id": "17972b55",
   "metadata": {},
   "outputs": [
    {
     "name": "stdout",
     "output_type": "stream",
     "text": [
      "<class 'pandas.core.frame.DataFrame'>\n",
      "RangeIndex: 891 entries, 0 to 890\n",
      "Data columns (total 12 columns):\n",
      " #   Column       Non-Null Count  Dtype  \n",
      "---  ------       --------------  -----  \n",
      " 0   PassengerId  891 non-null    int64  \n",
      " 1   Survived     891 non-null    int64  \n",
      " 2   Pclass       891 non-null    int64  \n",
      " 3   Name         891 non-null    object \n",
      " 4   Sex          891 non-null    object \n",
      " 5   Age          714 non-null    float64\n",
      " 6   SibSp        891 non-null    int64  \n",
      " 7   Parch        891 non-null    int64  \n",
      " 8   Ticket       891 non-null    object \n",
      " 9   Fare         891 non-null    float64\n",
      " 10  Cabin        204 non-null    object \n",
      " 11  Embarked     889 non-null    object \n",
      "dtypes: float64(2), int64(5), object(5)\n",
      "memory usage: 83.7+ KB\n"
     ]
    }
   ],
   "source": [
    "df = pd.read_csv('../data/train.csv')\n",
    "df.info()"
   ]
  },
  {
   "cell_type": "code",
   "execution_count": 2614,
   "id": "a9a1fba6",
   "metadata": {},
   "outputs": [
    {
     "data": {
      "text/html": [
       "<div>\n",
       "<style scoped>\n",
       "    .dataframe tbody tr th:only-of-type {\n",
       "        vertical-align: middle;\n",
       "    }\n",
       "\n",
       "    .dataframe tbody tr th {\n",
       "        vertical-align: top;\n",
       "    }\n",
       "\n",
       "    .dataframe thead th {\n",
       "        text-align: right;\n",
       "    }\n",
       "</style>\n",
       "<table border=\"1\" class=\"dataframe\">\n",
       "  <thead>\n",
       "    <tr style=\"text-align: right;\">\n",
       "      <th></th>\n",
       "      <th>PassengerId</th>\n",
       "      <th>Survived</th>\n",
       "      <th>Pclass</th>\n",
       "      <th>Name</th>\n",
       "      <th>Sex</th>\n",
       "      <th>Age</th>\n",
       "      <th>SibSp</th>\n",
       "      <th>Parch</th>\n",
       "      <th>Ticket</th>\n",
       "      <th>Fare</th>\n",
       "      <th>Cabin</th>\n",
       "      <th>Embarked</th>\n",
       "    </tr>\n",
       "  </thead>\n",
       "  <tbody>\n",
       "    <tr>\n",
       "      <th>0</th>\n",
       "      <td>1</td>\n",
       "      <td>0</td>\n",
       "      <td>3</td>\n",
       "      <td>Braund, Mr. Owen Harris</td>\n",
       "      <td>male</td>\n",
       "      <td>22.0</td>\n",
       "      <td>1</td>\n",
       "      <td>0</td>\n",
       "      <td>A/5 21171</td>\n",
       "      <td>7.2500</td>\n",
       "      <td>NaN</td>\n",
       "      <td>S</td>\n",
       "    </tr>\n",
       "    <tr>\n",
       "      <th>1</th>\n",
       "      <td>2</td>\n",
       "      <td>1</td>\n",
       "      <td>1</td>\n",
       "      <td>Cumings, Mrs. John Bradley (Florence Briggs Th...</td>\n",
       "      <td>female</td>\n",
       "      <td>38.0</td>\n",
       "      <td>1</td>\n",
       "      <td>0</td>\n",
       "      <td>PC 17599</td>\n",
       "      <td>71.2833</td>\n",
       "      <td>C85</td>\n",
       "      <td>C</td>\n",
       "    </tr>\n",
       "    <tr>\n",
       "      <th>2</th>\n",
       "      <td>3</td>\n",
       "      <td>1</td>\n",
       "      <td>3</td>\n",
       "      <td>Heikkinen, Miss. Laina</td>\n",
       "      <td>female</td>\n",
       "      <td>26.0</td>\n",
       "      <td>0</td>\n",
       "      <td>0</td>\n",
       "      <td>STON/O2. 3101282</td>\n",
       "      <td>7.9250</td>\n",
       "      <td>NaN</td>\n",
       "      <td>S</td>\n",
       "    </tr>\n",
       "    <tr>\n",
       "      <th>3</th>\n",
       "      <td>4</td>\n",
       "      <td>1</td>\n",
       "      <td>1</td>\n",
       "      <td>Futrelle, Mrs. Jacques Heath (Lily May Peel)</td>\n",
       "      <td>female</td>\n",
       "      <td>35.0</td>\n",
       "      <td>1</td>\n",
       "      <td>0</td>\n",
       "      <td>113803</td>\n",
       "      <td>53.1000</td>\n",
       "      <td>C123</td>\n",
       "      <td>S</td>\n",
       "    </tr>\n",
       "    <tr>\n",
       "      <th>4</th>\n",
       "      <td>5</td>\n",
       "      <td>0</td>\n",
       "      <td>3</td>\n",
       "      <td>Allen, Mr. William Henry</td>\n",
       "      <td>male</td>\n",
       "      <td>35.0</td>\n",
       "      <td>0</td>\n",
       "      <td>0</td>\n",
       "      <td>373450</td>\n",
       "      <td>8.0500</td>\n",
       "      <td>NaN</td>\n",
       "      <td>S</td>\n",
       "    </tr>\n",
       "  </tbody>\n",
       "</table>\n",
       "</div>"
      ],
      "text/plain": [
       "   PassengerId  Survived  Pclass  \\\n",
       "0            1         0       3   \n",
       "1            2         1       1   \n",
       "2            3         1       3   \n",
       "3            4         1       1   \n",
       "4            5         0       3   \n",
       "\n",
       "                                                Name     Sex   Age  SibSp  \\\n",
       "0                            Braund, Mr. Owen Harris    male  22.0      1   \n",
       "1  Cumings, Mrs. John Bradley (Florence Briggs Th...  female  38.0      1   \n",
       "2                             Heikkinen, Miss. Laina  female  26.0      0   \n",
       "3       Futrelle, Mrs. Jacques Heath (Lily May Peel)  female  35.0      1   \n",
       "4                           Allen, Mr. William Henry    male  35.0      0   \n",
       "\n",
       "   Parch            Ticket     Fare Cabin Embarked  \n",
       "0      0         A/5 21171   7.2500   NaN        S  \n",
       "1      0          PC 17599  71.2833   C85        C  \n",
       "2      0  STON/O2. 3101282   7.9250   NaN        S  \n",
       "3      0            113803  53.1000  C123        S  \n",
       "4      0            373450   8.0500   NaN        S  "
      ]
     },
     "execution_count": 2614,
     "metadata": {},
     "output_type": "execute_result"
    }
   ],
   "source": [
    "df.head()"
   ]
  },
  {
   "cell_type": "code",
   "execution_count": 2615,
   "id": "d20878f2",
   "metadata": {},
   "outputs": [
    {
     "data": {
      "text/plain": [
       "0    549\n",
       "1    342\n",
       "Name: Survived, dtype: int64"
      ]
     },
     "execution_count": 2615,
     "metadata": {},
     "output_type": "execute_result"
    }
   ],
   "source": [
    "df['Survived'].value_counts()"
   ]
  },
  {
   "cell_type": "code",
   "execution_count": 2616,
   "id": "1e8d7838",
   "metadata": {},
   "outputs": [
    {
     "data": {
      "image/png": "[encoded data removed]",
      "text/plain": [
       "<Figure size 432x288 with 1 Axes>"
      ]
     },
     "metadata": {
      "needs_background": "light"
     },
     "output_type": "display_data"
    }
   ],
   "source": [
    "sns.countplot(data=df,x='Survived')\n",
    "None"
   ]
  },
  {
   "cell_type": "code",
   "execution_count": 2617,
   "id": "ed0eb07c",
   "metadata": {},
   "outputs": [
    {
     "data": {
      "image/png": "[encoded data removed]",
      "text/plain": [
       "<Figure size 411.875x360 with 1 Axes>"
      ]
     },
     "metadata": {
      "needs_background": "light"
     },
     "output_type": "display_data"
    },
    {
     "data": {
      "image/png": "[encoded data removed]",
      "text/plain": [
       "<Figure size 411.875x360 with 1 Axes>"
      ]
     },
     "metadata": {
      "needs_background": "light"
     },
     "output_type": "display_data"
    }
   ],
   "source": [
    "import matplotlib.pyplot as plt\n",
    "for column in ['Age','Fare']: #  left out:  Name, Ticket, Cabin \n",
    "    sns.displot(data=df, x=column, hue = 'Survived',alpha=0.5)\n",
    "    plt.show()\n",
    "    plt.close()\n",
    "None\n",
    "    "
   ]
  },
  {
   "cell_type": "code",
   "execution_count": 2618,
   "id": "ff23b90e",
   "metadata": {},
   "outputs": [
    {
     "data": {
      "image/png": "[encoded data removed]",
      "text/plain": [
       "<Figure size 411.875x360 with 1 Axes>"
      ]
     },
     "metadata": {
      "needs_background": "light"
     },
     "output_type": "display_data"
    }
   ],
   "source": [
    "sns.displot(data=df[df['Sex']=='male'], x=\"Age\", hue = 'Survived',stat=\"density\",bins=100)\n",
    "None"
   ]
  },
  {
   "cell_type": "code",
   "execution_count": 2619,
   "id": "65dc851d",
   "metadata": {},
   "outputs": [
    {
     "data": {
      "image/png": "[encoded data removed]",
      "text/plain": [
       "<Figure size 411.875x360 with 1 Axes>"
      ]
     },
     "metadata": {
      "needs_background": "light"
     },
     "output_type": "display_data"
    }
   ],
   "source": [
    "sns.displot(data=df[df['Sex']=='female'], x=\"Age\", hue = 'Survived',stat=\"density\",bins=100)\n",
    "None"
   ]
  },
  {
   "cell_type": "code",
   "execution_count": 2620,
   "id": "f2e6b345",
   "metadata": {},
   "outputs": [
    {
     "data": {
      "image/png": "[encoded data removed]",
      "text/plain": [
       "<Figure size 432x288 with 1 Axes>"
      ]
     },
     "metadata": {
      "needs_background": "light"
     },
     "output_type": "display_data"
    },
    {
     "data": {
      "image/png": "[encoded data removed]",
      "text/plain": [
       "<Figure size 432x288 with 1 Axes>"
      ]
     },
     "metadata": {
      "needs_background": "light"
     },
     "output_type": "display_data"
    },
    {
     "data": {
      "image/png": "[encoded data removed]",
      "text/plain": [
       "<Figure size 432x288 with 1 Axes>"
      ]
     },
     "metadata": {
      "needs_background": "light"
     },
     "output_type": "display_data"
    },
    {
     "data": {
      "image/png": "[encoded data removed]",
      "text/plain": [
       "<Figure size 432x288 with 1 Axes>"
      ]
     },
     "metadata": {
      "needs_background": "light"
     },
     "output_type": "display_data"
    },
    {
     "data": {
      "image/png": "[encoded data removed]",
      "text/plain": [
       "<Figure size 432x288 with 1 Axes>"
      ]
     },
     "metadata": {
      "needs_background": "light"
     },
     "output_type": "display_data"
    }
   ],
   "source": [
    "import matplotlib.pyplot as plt\n",
    "for column in ['Sex','Embarked','Pclass', 'SibSp','Parch',]:   \n",
    "    sns.countplot(data=df, x=column,hue='Survived')\n",
    "    plt.show()\n",
    "    plt.close()\n",
    "None"
   ]
  },
  {
   "cell_type": "code",
   "execution_count": 2621,
   "id": "94339bf4",
   "metadata": {},
   "outputs": [
    {
     "data": {
      "text/html": [
       "<div>\n",
       "<style scoped>\n",
       "    .dataframe tbody tr th:only-of-type {\n",
       "        vertical-align: middle;\n",
       "    }\n",
       "\n",
       "    .dataframe tbody tr th {\n",
       "        vertical-align: top;\n",
       "    }\n",
       "\n",
       "    .dataframe thead th {\n",
       "        text-align: right;\n",
       "    }\n",
       "</style>\n",
       "<table border=\"1\" class=\"dataframe\">\n",
       "  <thead>\n",
       "    <tr style=\"text-align: right;\">\n",
       "      <th></th>\n",
       "      <th>Cabin</th>\n",
       "    </tr>\n",
       "  </thead>\n",
       "  <tbody>\n",
       "    <tr>\n",
       "      <th>count</th>\n",
       "      <td>204</td>\n",
       "    </tr>\n",
       "    <tr>\n",
       "      <th>unique</th>\n",
       "      <td>147</td>\n",
       "    </tr>\n",
       "    <tr>\n",
       "      <th>top</th>\n",
       "      <td>B96 B98</td>\n",
       "    </tr>\n",
       "    <tr>\n",
       "      <th>freq</th>\n",
       "      <td>4</td>\n",
       "    </tr>\n",
       "  </tbody>\n",
       "</table>\n",
       "</div>"
      ],
      "text/plain": [
       "          Cabin\n",
       "count       204\n",
       "unique      147\n",
       "top     B96 B98\n",
       "freq          4"
      ]
     },
     "execution_count": 2621,
     "metadata": {},
     "output_type": "execute_result"
    }
   ],
   "source": [
    "df[['Cabin']].describe()"
   ]
  },
  {
   "cell_type": "code",
   "execution_count": 2622,
   "id": "219ffaa1",
   "metadata": {},
   "outputs": [
    {
     "data": {
      "text/html": [
       "<div>\n",
       "<style scoped>\n",
       "    .dataframe tbody tr th:only-of-type {\n",
       "        vertical-align: middle;\n",
       "    }\n",
       "\n",
       "    .dataframe tbody tr th {\n",
       "        vertical-align: top;\n",
       "    }\n",
       "\n",
       "    .dataframe thead th {\n",
       "        text-align: right;\n",
       "    }\n",
       "</style>\n",
       "<table border=\"1\" class=\"dataframe\">\n",
       "  <thead>\n",
       "    <tr style=\"text-align: right;\">\n",
       "      <th></th>\n",
       "      <th>Ticket</th>\n",
       "    </tr>\n",
       "  </thead>\n",
       "  <tbody>\n",
       "    <tr>\n",
       "      <th>count</th>\n",
       "      <td>891</td>\n",
       "    </tr>\n",
       "    <tr>\n",
       "      <th>unique</th>\n",
       "      <td>681</td>\n",
       "    </tr>\n",
       "    <tr>\n",
       "      <th>top</th>\n",
       "      <td>347082</td>\n",
       "    </tr>\n",
       "    <tr>\n",
       "      <th>freq</th>\n",
       "      <td>7</td>\n",
       "    </tr>\n",
       "  </tbody>\n",
       "</table>\n",
       "</div>"
      ],
      "text/plain": [
       "        Ticket\n",
       "count      891\n",
       "unique     681\n",
       "top     347082\n",
       "freq         7"
      ]
     },
     "execution_count": 2622,
     "metadata": {},
     "output_type": "execute_result"
    }
   ],
   "source": [
    "df[['Ticket']].describe()"
   ]
  },
  {
   "cell_type": "code",
   "execution_count": 2623,
   "id": "67575d12",
   "metadata": {},
   "outputs": [
    {
     "data": {
      "text/plain": [
       "((891, 10), (891,))"
      ]
     },
     "execution_count": 2623,
     "metadata": {},
     "output_type": "execute_result"
    }
   ],
   "source": [
    "X = df[['Pclass','Sex','Age','SibSp','Parch','Fare','Embarked','Cabin','Ticket','Name',]]#\n",
    "y = df['Survived']\n",
    "X.shape,y.shape"
   ]
  },
  {
   "cell_type": "code",
   "execution_count": 2624,
   "id": "176bdc5d",
   "metadata": {},
   "outputs": [
    {
     "data": {
      "text/plain": [
       "((712, 10), (712,), (179, 10), (179,))"
      ]
     },
     "execution_count": 2624,
     "metadata": {},
     "output_type": "execute_result"
    }
   ],
   "source": [
    "X_train, X_test, y_train, y_test = train_test_split(X, y, test_size = 0.2,random_state=37) \n",
    "X_train.shape,y_train.shape,X_test.shape,y_test.shape"
   ]
  },
  {
   "cell_type": "code",
   "execution_count": 2625,
   "id": "9b772894",
   "metadata": {},
   "outputs": [
    {
     "data": {
      "text/plain": [
       "1    435\n",
       "0    277\n",
       "Name: Alone, dtype: int64"
      ]
     },
     "execution_count": 2625,
     "metadata": {},
     "output_type": "execute_result"
    }
   ],
   "source": [
    "X_train['Alone'] = np.where((X_train['Parch']==0) & (X_train['SibSp']==0),1,0)\n",
    "X_test['Alone'] = np.where((X_test['Parch']==0) & (X_test['SibSp']==0),1,0)\n",
    "X_train['Alone'].value_counts()"
   ]
  },
  {
   "cell_type": "code",
   "execution_count": 2626,
   "id": "cafef86f",
   "metadata": {},
   "outputs": [],
   "source": [
    "numerical_columns = ['Age','Fare',]\n",
    "categorical_columns = ['Embarked','Pclass','Sex','SibSp','Parch','Alone'] #"
   ]
  },
  {
   "cell_type": "code",
   "execution_count": 2627,
   "id": "7c1fc323",
   "metadata": {},
   "outputs": [
    {
     "data": {
      "text/plain": [
       "Pclass        0\n",
       "Sex           0\n",
       "Age         135\n",
       "SibSp         0\n",
       "Parch         0\n",
       "Fare          0\n",
       "Embarked      1\n",
       "Cabin       551\n",
       "Ticket        0\n",
       "Name          0\n",
       "Alone         0\n",
       "dtype: int64"
      ]
     },
     "execution_count": 2627,
     "metadata": {},
     "output_type": "execute_result"
    }
   ],
   "source": [
    "X_train.isna().sum()"
   ]
  },
  {
   "cell_type": "markdown",
   "id": "68e04e01",
   "metadata": {},
   "source": [
    "# Starting with a minimal set features\n",
    "* Age\n",
    "* Pclass\n",
    "* Sex\n",
    "* Alone"
   ]
  },
  {
   "cell_type": "code",
   "execution_count": 2628,
   "id": "a5a70990",
   "metadata": {},
   "outputs": [],
   "source": [
    "numerical_pipeline = Pipeline([\n",
    "    ('numerical_imputer',SimpleImputer(missing_values=np.nan, strategy='mean')),\n",
    "    ('num_scaler',StandardScaler()),\n",
    "    ('num_discritazer',KBinsDiscretizer(n_bins=10, strategy='uniform'),)\n",
    "])"
   ]
  },
  {
   "cell_type": "code",
   "execution_count": 2629,
   "id": "91d2fce7",
   "metadata": {},
   "outputs": [],
   "source": [
    "categorical_pipeline = Pipeline([\n",
    "    ('categorical_imputer',SimpleImputer(missing_values=np.nan, strategy='most_frequent')),\n",
    "    ('categorical_ohe',OneHotEncoder(sparse=False,drop='first')),\n",
    "])"
   ]
  },
  {
   "cell_type": "code",
   "execution_count": 2630,
   "id": "1ad6408e",
   "metadata": {},
   "outputs": [],
   "source": [
    "column_transformer_minimal = ColumnTransformer([\n",
    "    ('numerical_pipeline',numerical_pipeline,['Age',]),\n",
    "    ('categorical_pipeline',categorical_pipeline,['Pclass','Sex','Alone',]),\n",
    "])"
   ]
  },
  {
   "cell_type": "code",
   "execution_count": 2631,
   "id": "aaf75c71",
   "metadata": {},
   "outputs": [],
   "source": [
    "column_transformer_minimal.fit(X_train) #learn how to do the transforamtion\n",
    "X_train_minimal = column_transformer_minimal.transform(X_train) #Do the accual transformation\n",
    "X_test_minimal = column_transformer_minimal.transform(X_test) #Do the same transformation on test set "
   ]
  },
  {
   "cell_type": "code",
   "execution_count": 2632,
   "id": "ea45daff",
   "metadata": {},
   "outputs": [],
   "source": [
    "m_minimal = LogisticRegression() #class_weight='balanced'\n",
    "m_minimal.fit(X_train_minimal,y_train) \n",
    "None"
   ]
  },
  {
   "cell_type": "code",
   "execution_count": 2633,
   "id": "24464060",
   "metadata": {},
   "outputs": [
    {
     "data": {
      "text/plain": [
       "'Mean cross-validation score:  0.806'"
      ]
     },
     "execution_count": 2633,
     "metadata": {},
     "output_type": "execute_result"
    }
   ],
   "source": [
    "cross_val_scores = cross_val_score(m_minimal, X_train_minimal, y_train, cv=10)\n",
    "np.sort(cross_val_scores.round(3))\n",
    "f\"Mean cross-validation score: {cross_val_scores.mean(): 5.3f}\""
   ]
  },
  {
   "cell_type": "code",
   "execution_count": 2634,
   "id": "7685df2b",
   "metadata": {},
   "outputs": [],
   "source": [
    "y_pred_minimal = m_minimal.predict(X_test_minimal)"
   ]
  },
  {
   "cell_type": "code",
   "execution_count": 2635,
   "id": "7fe98618",
   "metadata": {},
   "outputs": [
    {
     "data": {
      "text/plain": [
       "0.7988826815642458"
      ]
     },
     "execution_count": 2635,
     "metadata": {},
     "output_type": "execute_result"
    }
   ],
   "source": [
    "score =accuracy_score(y_test,y_pred_minimal) \n",
    "score"
   ]
  },
  {
   "cell_type": "markdown",
   "id": "64e49d1f",
   "metadata": {},
   "source": [
    "# Starting to add more features"
   ]
  },
  {
   "cell_type": "code",
   "execution_count": 2636,
   "id": "8b512ccd",
   "metadata": {},
   "outputs": [],
   "source": [
    "X_train['Cabin'].fillna(\"Unknown\",inplace=True)\n"
   ]
  },
  {
   "cell_type": "code",
   "execution_count": 2637,
   "id": "aa4304ea",
   "metadata": {},
   "outputs": [
    {
     "name": "stdout",
     "output_type": "stream",
     "text": [
      "1    10\n",
      "Name: Pclass, dtype: int64\n",
      "1    37\n",
      "Name: Pclass, dtype: int64\n",
      "1    51\n",
      "Name: Pclass, dtype: int64\n",
      "1    24\n",
      "2     2\n",
      "Name: Pclass, dtype: int64\n",
      "1    16\n",
      "3     4\n",
      "2     3\n",
      "Name: Pclass, dtype: int64\n",
      "3    5\n",
      "2    5\n",
      "Name: Pclass, dtype: int64\n",
      "3    7\n",
      "Name: Pclass, dtype: int64\n",
      "3    378\n",
      "2    140\n",
      "1     33\n",
      "Name: Pclass, dtype: int64\n"
     ]
    }
   ],
   "source": [
    "for letter in ['A','B','C','D','E','F','G','U']:\n",
    "    print(X_train[X_train['Cabin'].str.contains(letter)]['Pclass'].value_counts())"
   ]
  },
  {
   "cell_type": "code",
   "execution_count": 2638,
   "id": "fab858a4",
   "metadata": {},
   "outputs": [
    {
     "data": {
      "text/html": [
       "<div>\n",
       "<style scoped>\n",
       "    .dataframe tbody tr th:only-of-type {\n",
       "        vertical-align: middle;\n",
       "    }\n",
       "\n",
       "    .dataframe tbody tr th {\n",
       "        vertical-align: top;\n",
       "    }\n",
       "\n",
       "    .dataframe thead th {\n",
       "        text-align: right;\n",
       "    }\n",
       "</style>\n",
       "<table border=\"1\" class=\"dataframe\">\n",
       "  <thead>\n",
       "    <tr style=\"text-align: right;\">\n",
       "      <th></th>\n",
       "      <th>Pclass</th>\n",
       "      <th>Sex</th>\n",
       "      <th>Age</th>\n",
       "      <th>SibSp</th>\n",
       "      <th>Parch</th>\n",
       "      <th>Fare</th>\n",
       "      <th>Embarked</th>\n",
       "      <th>Cabin</th>\n",
       "      <th>Ticket</th>\n",
       "      <th>Name</th>\n",
       "      <th>Alone</th>\n",
       "      <th>Cabin_A</th>\n",
       "      <th>Cabin_B</th>\n",
       "      <th>Cabin_C</th>\n",
       "      <th>Cabin_D</th>\n",
       "      <th>Cabin_E</th>\n",
       "      <th>Cabin_F</th>\n",
       "      <th>Cabin_G</th>\n",
       "      <th>Cabin_U</th>\n",
       "    </tr>\n",
       "  </thead>\n",
       "  <tbody>\n",
       "    <tr>\n",
       "      <th>795</th>\n",
       "      <td>2</td>\n",
       "      <td>male</td>\n",
       "      <td>39.0</td>\n",
       "      <td>0</td>\n",
       "      <td>0</td>\n",
       "      <td>13.0000</td>\n",
       "      <td>S</td>\n",
       "      <td>Unknown</td>\n",
       "      <td>28213</td>\n",
       "      <td>Otter, Mr. Richard</td>\n",
       "      <td>1</td>\n",
       "      <td>0</td>\n",
       "      <td>0</td>\n",
       "      <td>0</td>\n",
       "      <td>0</td>\n",
       "      <td>0</td>\n",
       "      <td>0</td>\n",
       "      <td>0</td>\n",
       "      <td>1</td>\n",
       "    </tr>\n",
       "    <tr>\n",
       "      <th>715</th>\n",
       "      <td>3</td>\n",
       "      <td>male</td>\n",
       "      <td>19.0</td>\n",
       "      <td>0</td>\n",
       "      <td>0</td>\n",
       "      <td>7.6500</td>\n",
       "      <td>S</td>\n",
       "      <td>F G73</td>\n",
       "      <td>348124</td>\n",
       "      <td>Soholt, Mr. Peter Andreas Lauritz Andersen</td>\n",
       "      <td>1</td>\n",
       "      <td>0</td>\n",
       "      <td>0</td>\n",
       "      <td>0</td>\n",
       "      <td>0</td>\n",
       "      <td>0</td>\n",
       "      <td>1</td>\n",
       "      <td>1</td>\n",
       "      <td>0</td>\n",
       "    </tr>\n",
       "    <tr>\n",
       "      <th>406</th>\n",
       "      <td>3</td>\n",
       "      <td>male</td>\n",
       "      <td>51.0</td>\n",
       "      <td>0</td>\n",
       "      <td>0</td>\n",
       "      <td>7.7500</td>\n",
       "      <td>S</td>\n",
       "      <td>Unknown</td>\n",
       "      <td>347064</td>\n",
       "      <td>Widegren, Mr. Carl/Charles Peter</td>\n",
       "      <td>1</td>\n",
       "      <td>0</td>\n",
       "      <td>0</td>\n",
       "      <td>0</td>\n",
       "      <td>0</td>\n",
       "      <td>0</td>\n",
       "      <td>0</td>\n",
       "      <td>0</td>\n",
       "      <td>1</td>\n",
       "    </tr>\n",
       "    <tr>\n",
       "      <th>294</th>\n",
       "      <td>3</td>\n",
       "      <td>male</td>\n",
       "      <td>24.0</td>\n",
       "      <td>0</td>\n",
       "      <td>0</td>\n",
       "      <td>7.8958</td>\n",
       "      <td>S</td>\n",
       "      <td>Unknown</td>\n",
       "      <td>349233</td>\n",
       "      <td>Mineff, Mr. Ivan</td>\n",
       "      <td>1</td>\n",
       "      <td>0</td>\n",
       "      <td>0</td>\n",
       "      <td>0</td>\n",
       "      <td>0</td>\n",
       "      <td>0</td>\n",
       "      <td>0</td>\n",
       "      <td>0</td>\n",
       "      <td>1</td>\n",
       "    </tr>\n",
       "    <tr>\n",
       "      <th>780</th>\n",
       "      <td>3</td>\n",
       "      <td>female</td>\n",
       "      <td>13.0</td>\n",
       "      <td>0</td>\n",
       "      <td>0</td>\n",
       "      <td>7.2292</td>\n",
       "      <td>C</td>\n",
       "      <td>Unknown</td>\n",
       "      <td>2687</td>\n",
       "      <td>Ayoub, Miss. Banoura</td>\n",
       "      <td>1</td>\n",
       "      <td>0</td>\n",
       "      <td>0</td>\n",
       "      <td>0</td>\n",
       "      <td>0</td>\n",
       "      <td>0</td>\n",
       "      <td>0</td>\n",
       "      <td>0</td>\n",
       "      <td>1</td>\n",
       "    </tr>\n",
       "  </tbody>\n",
       "</table>\n",
       "</div>"
      ],
      "text/plain": [
       "     Pclass     Sex   Age  SibSp  Parch     Fare Embarked    Cabin  Ticket  \\\n",
       "795       2    male  39.0      0      0  13.0000        S  Unknown   28213   \n",
       "715       3    male  19.0      0      0   7.6500        S    F G73  348124   \n",
       "406       3    male  51.0      0      0   7.7500        S  Unknown  347064   \n",
       "294       3    male  24.0      0      0   7.8958        S  Unknown  349233   \n",
       "780       3  female  13.0      0      0   7.2292        C  Unknown    2687   \n",
       "\n",
       "                                           Name  Alone  Cabin_A  Cabin_B  \\\n",
       "795                          Otter, Mr. Richard      1        0        0   \n",
       "715  Soholt, Mr. Peter Andreas Lauritz Andersen      1        0        0   \n",
       "406            Widegren, Mr. Carl/Charles Peter      1        0        0   \n",
       "294                            Mineff, Mr. Ivan      1        0        0   \n",
       "780                        Ayoub, Miss. Banoura      1        0        0   \n",
       "\n",
       "     Cabin_C  Cabin_D  Cabin_E  Cabin_F  Cabin_G  Cabin_U  \n",
       "795        0        0        0        0        0        1  \n",
       "715        0        0        0        1        1        0  \n",
       "406        0        0        0        0        0        1  \n",
       "294        0        0        0        0        0        1  \n",
       "780        0        0        0        0        0        1  "
      ]
     },
     "execution_count": 2638,
     "metadata": {},
     "output_type": "execute_result"
    }
   ],
   "source": [
    "for letter in ['A','B','C','D','E','F','G','U']:\n",
    "    X_train[f'Cabin_{letter}']=np.where(X_train['Cabin'].str.contains(f'{letter}'),1,0)\n",
    "    X_test[f'Cabin_{letter}']=np.where(X_test['Cabin'].str.contains(letter),1,0)\n",
    "X_train.head()"
   ]
  },
  {
   "cell_type": "code",
   "execution_count": 2639,
   "id": "945bac1b",
   "metadata": {},
   "outputs": [
    {
     "data": {
      "text/html": [
       "<div>\n",
       "<style scoped>\n",
       "    .dataframe tbody tr th:only-of-type {\n",
       "        vertical-align: middle;\n",
       "    }\n",
       "\n",
       "    .dataframe tbody tr th {\n",
       "        vertical-align: top;\n",
       "    }\n",
       "\n",
       "    .dataframe thead th {\n",
       "        text-align: right;\n",
       "    }\n",
       "</style>\n",
       "<table border=\"1\" class=\"dataframe\">\n",
       "  <thead>\n",
       "    <tr style=\"text-align: right;\">\n",
       "      <th></th>\n",
       "      <th>Pclass</th>\n",
       "      <th>Sex</th>\n",
       "      <th>Age</th>\n",
       "      <th>SibSp</th>\n",
       "      <th>Parch</th>\n",
       "      <th>Fare</th>\n",
       "      <th>Embarked</th>\n",
       "      <th>Ticket</th>\n",
       "      <th>Name</th>\n",
       "      <th>Alone</th>\n",
       "      <th>Cabin_A</th>\n",
       "      <th>Cabin_B</th>\n",
       "      <th>Cabin_C</th>\n",
       "      <th>Cabin_D</th>\n",
       "      <th>Cabin_E</th>\n",
       "      <th>Cabin_F</th>\n",
       "      <th>Cabin_G</th>\n",
       "      <th>Cabin_U</th>\n",
       "    </tr>\n",
       "  </thead>\n",
       "  <tbody>\n",
       "    <tr>\n",
       "      <th>795</th>\n",
       "      <td>2</td>\n",
       "      <td>male</td>\n",
       "      <td>39.0</td>\n",
       "      <td>0</td>\n",
       "      <td>0</td>\n",
       "      <td>13.0000</td>\n",
       "      <td>S</td>\n",
       "      <td>28213</td>\n",
       "      <td>Otter, Mr. Richard</td>\n",
       "      <td>1</td>\n",
       "      <td>0</td>\n",
       "      <td>0</td>\n",
       "      <td>0</td>\n",
       "      <td>0</td>\n",
       "      <td>0</td>\n",
       "      <td>0</td>\n",
       "      <td>0</td>\n",
       "      <td>1</td>\n",
       "    </tr>\n",
       "    <tr>\n",
       "      <th>715</th>\n",
       "      <td>3</td>\n",
       "      <td>male</td>\n",
       "      <td>19.0</td>\n",
       "      <td>0</td>\n",
       "      <td>0</td>\n",
       "      <td>7.6500</td>\n",
       "      <td>S</td>\n",
       "      <td>348124</td>\n",
       "      <td>Soholt, Mr. Peter Andreas Lauritz Andersen</td>\n",
       "      <td>1</td>\n",
       "      <td>0</td>\n",
       "      <td>0</td>\n",
       "      <td>0</td>\n",
       "      <td>0</td>\n",
       "      <td>0</td>\n",
       "      <td>1</td>\n",
       "      <td>1</td>\n",
       "      <td>0</td>\n",
       "    </tr>\n",
       "    <tr>\n",
       "      <th>406</th>\n",
       "      <td>3</td>\n",
       "      <td>male</td>\n",
       "      <td>51.0</td>\n",
       "      <td>0</td>\n",
       "      <td>0</td>\n",
       "      <td>7.7500</td>\n",
       "      <td>S</td>\n",
       "      <td>347064</td>\n",
       "      <td>Widegren, Mr. Carl/Charles Peter</td>\n",
       "      <td>1</td>\n",
       "      <td>0</td>\n",
       "      <td>0</td>\n",
       "      <td>0</td>\n",
       "      <td>0</td>\n",
       "      <td>0</td>\n",
       "      <td>0</td>\n",
       "      <td>0</td>\n",
       "      <td>1</td>\n",
       "    </tr>\n",
       "    <tr>\n",
       "      <th>294</th>\n",
       "      <td>3</td>\n",
       "      <td>male</td>\n",
       "      <td>24.0</td>\n",
       "      <td>0</td>\n",
       "      <td>0</td>\n",
       "      <td>7.8958</td>\n",
       "      <td>S</td>\n",
       "      <td>349233</td>\n",
       "      <td>Mineff, Mr. Ivan</td>\n",
       "      <td>1</td>\n",
       "      <td>0</td>\n",
       "      <td>0</td>\n",
       "      <td>0</td>\n",
       "      <td>0</td>\n",
       "      <td>0</td>\n",
       "      <td>0</td>\n",
       "      <td>0</td>\n",
       "      <td>1</td>\n",
       "    </tr>\n",
       "    <tr>\n",
       "      <th>780</th>\n",
       "      <td>3</td>\n",
       "      <td>female</td>\n",
       "      <td>13.0</td>\n",
       "      <td>0</td>\n",
       "      <td>0</td>\n",
       "      <td>7.2292</td>\n",
       "      <td>C</td>\n",
       "      <td>2687</td>\n",
       "      <td>Ayoub, Miss. Banoura</td>\n",
       "      <td>1</td>\n",
       "      <td>0</td>\n",
       "      <td>0</td>\n",
       "      <td>0</td>\n",
       "      <td>0</td>\n",
       "      <td>0</td>\n",
       "      <td>0</td>\n",
       "      <td>0</td>\n",
       "      <td>1</td>\n",
       "    </tr>\n",
       "  </tbody>\n",
       "</table>\n",
       "</div>"
      ],
      "text/plain": [
       "     Pclass     Sex   Age  SibSp  Parch     Fare Embarked  Ticket  \\\n",
       "795       2    male  39.0      0      0  13.0000        S   28213   \n",
       "715       3    male  19.0      0      0   7.6500        S  348124   \n",
       "406       3    male  51.0      0      0   7.7500        S  347064   \n",
       "294       3    male  24.0      0      0   7.8958        S  349233   \n",
       "780       3  female  13.0      0      0   7.2292        C    2687   \n",
       "\n",
       "                                           Name  Alone  Cabin_A  Cabin_B  \\\n",
       "795                          Otter, Mr. Richard      1        0        0   \n",
       "715  Soholt, Mr. Peter Andreas Lauritz Andersen      1        0        0   \n",
       "406            Widegren, Mr. Carl/Charles Peter      1        0        0   \n",
       "294                            Mineff, Mr. Ivan      1        0        0   \n",
       "780                        Ayoub, Miss. Banoura      1        0        0   \n",
       "\n",
       "     Cabin_C  Cabin_D  Cabin_E  Cabin_F  Cabin_G  Cabin_U  \n",
       "795        0        0        0        0        0        1  \n",
       "715        0        0        0        1        1        0  \n",
       "406        0        0        0        0        0        1  \n",
       "294        0        0        0        0        0        1  \n",
       "780        0        0        0        0        0        1  "
      ]
     },
     "execution_count": 2639,
     "metadata": {},
     "output_type": "execute_result"
    }
   ],
   "source": [
    "X_train.drop('Cabin', axis=1, inplace=True)\n",
    "X_test.drop('Cabin', axis=1, inplace=True)\n",
    "X_train.head()"
   ]
  },
  {
   "cell_type": "code",
   "execution_count": 2640,
   "id": "f886b11f",
   "metadata": {},
   "outputs": [
    {
     "data": {
      "text/html": [
       "<div>\n",
       "<style scoped>\n",
       "    .dataframe tbody tr th:only-of-type {\n",
       "        vertical-align: middle;\n",
       "    }\n",
       "\n",
       "    .dataframe tbody tr th {\n",
       "        vertical-align: top;\n",
       "    }\n",
       "\n",
       "    .dataframe thead th {\n",
       "        text-align: right;\n",
       "    }\n",
       "</style>\n",
       "<table border=\"1\" class=\"dataframe\">\n",
       "  <thead>\n",
       "    <tr style=\"text-align: right;\">\n",
       "      <th></th>\n",
       "      <th>Pclass</th>\n",
       "      <th>Sex</th>\n",
       "      <th>Age</th>\n",
       "      <th>SibSp</th>\n",
       "      <th>Parch</th>\n",
       "      <th>Fare</th>\n",
       "      <th>Embarked</th>\n",
       "      <th>Ticket</th>\n",
       "      <th>Name</th>\n",
       "      <th>Alone</th>\n",
       "      <th>Cabin_A</th>\n",
       "      <th>Cabin_B</th>\n",
       "      <th>Cabin_C</th>\n",
       "      <th>Cabin_D</th>\n",
       "      <th>Cabin_E</th>\n",
       "      <th>Cabin_F</th>\n",
       "      <th>Cabin_G</th>\n",
       "    </tr>\n",
       "  </thead>\n",
       "  <tbody>\n",
       "    <tr>\n",
       "      <th>795</th>\n",
       "      <td>2</td>\n",
       "      <td>male</td>\n",
       "      <td>39.0</td>\n",
       "      <td>0</td>\n",
       "      <td>0</td>\n",
       "      <td>13.0000</td>\n",
       "      <td>S</td>\n",
       "      <td>28213</td>\n",
       "      <td>Otter, Mr. Richard</td>\n",
       "      <td>1</td>\n",
       "      <td>0</td>\n",
       "      <td>0</td>\n",
       "      <td>0</td>\n",
       "      <td>0</td>\n",
       "      <td>0</td>\n",
       "      <td>0</td>\n",
       "      <td>0</td>\n",
       "    </tr>\n",
       "    <tr>\n",
       "      <th>715</th>\n",
       "      <td>3</td>\n",
       "      <td>male</td>\n",
       "      <td>19.0</td>\n",
       "      <td>0</td>\n",
       "      <td>0</td>\n",
       "      <td>7.6500</td>\n",
       "      <td>S</td>\n",
       "      <td>348124</td>\n",
       "      <td>Soholt, Mr. Peter Andreas Lauritz Andersen</td>\n",
       "      <td>1</td>\n",
       "      <td>0</td>\n",
       "      <td>0</td>\n",
       "      <td>0</td>\n",
       "      <td>0</td>\n",
       "      <td>0</td>\n",
       "      <td>1</td>\n",
       "      <td>1</td>\n",
       "    </tr>\n",
       "    <tr>\n",
       "      <th>406</th>\n",
       "      <td>3</td>\n",
       "      <td>male</td>\n",
       "      <td>51.0</td>\n",
       "      <td>0</td>\n",
       "      <td>0</td>\n",
       "      <td>7.7500</td>\n",
       "      <td>S</td>\n",
       "      <td>347064</td>\n",
       "      <td>Widegren, Mr. Carl/Charles Peter</td>\n",
       "      <td>1</td>\n",
       "      <td>0</td>\n",
       "      <td>0</td>\n",
       "      <td>0</td>\n",
       "      <td>0</td>\n",
       "      <td>0</td>\n",
       "      <td>0</td>\n",
       "      <td>0</td>\n",
       "    </tr>\n",
       "    <tr>\n",
       "      <th>294</th>\n",
       "      <td>3</td>\n",
       "      <td>male</td>\n",
       "      <td>24.0</td>\n",
       "      <td>0</td>\n",
       "      <td>0</td>\n",
       "      <td>7.8958</td>\n",
       "      <td>S</td>\n",
       "      <td>349233</td>\n",
       "      <td>Mineff, Mr. Ivan</td>\n",
       "      <td>1</td>\n",
       "      <td>0</td>\n",
       "      <td>0</td>\n",
       "      <td>0</td>\n",
       "      <td>0</td>\n",
       "      <td>0</td>\n",
       "      <td>0</td>\n",
       "      <td>0</td>\n",
       "    </tr>\n",
       "    <tr>\n",
       "      <th>780</th>\n",
       "      <td>3</td>\n",
       "      <td>female</td>\n",
       "      <td>13.0</td>\n",
       "      <td>0</td>\n",
       "      <td>0</td>\n",
       "      <td>7.2292</td>\n",
       "      <td>C</td>\n",
       "      <td>2687</td>\n",
       "      <td>Ayoub, Miss. Banoura</td>\n",
       "      <td>1</td>\n",
       "      <td>0</td>\n",
       "      <td>0</td>\n",
       "      <td>0</td>\n",
       "      <td>0</td>\n",
       "      <td>0</td>\n",
       "      <td>0</td>\n",
       "      <td>0</td>\n",
       "    </tr>\n",
       "  </tbody>\n",
       "</table>\n",
       "</div>"
      ],
      "text/plain": [
       "     Pclass     Sex   Age  SibSp  Parch     Fare Embarked  Ticket  \\\n",
       "795       2    male  39.0      0      0  13.0000        S   28213   \n",
       "715       3    male  19.0      0      0   7.6500        S  348124   \n",
       "406       3    male  51.0      0      0   7.7500        S  347064   \n",
       "294       3    male  24.0      0      0   7.8958        S  349233   \n",
       "780       3  female  13.0      0      0   7.2292        C    2687   \n",
       "\n",
       "                                           Name  Alone  Cabin_A  Cabin_B  \\\n",
       "795                          Otter, Mr. Richard      1        0        0   \n",
       "715  Soholt, Mr. Peter Andreas Lauritz Andersen      1        0        0   \n",
       "406            Widegren, Mr. Carl/Charles Peter      1        0        0   \n",
       "294                            Mineff, Mr. Ivan      1        0        0   \n",
       "780                        Ayoub, Miss. Banoura      1        0        0   \n",
       "\n",
       "     Cabin_C  Cabin_D  Cabin_E  Cabin_F  Cabin_G  \n",
       "795        0        0        0        0        0  \n",
       "715        0        0        0        1        1  \n",
       "406        0        0        0        0        0  \n",
       "294        0        0        0        0        0  \n",
       "780        0        0        0        0        0  "
      ]
     },
     "execution_count": 2640,
     "metadata": {},
     "output_type": "execute_result"
    }
   ],
   "source": [
    "X_train.drop('Cabin_U', axis=1, inplace=True)\n",
    "X_test.drop('Cabin_U', axis=1, inplace=True)\n",
    "X_train.head()"
   ]
  },
  {
   "cell_type": "code",
   "execution_count": 2641,
   "id": "d3091dc1",
   "metadata": {},
   "outputs": [
    {
     "data": {
      "text/plain": [
       "count          712\n",
       "unique         580\n",
       "top       CA. 2343\n",
       "freq             7\n",
       "Name: Ticket, dtype: object"
      ]
     },
     "execution_count": 2641,
     "metadata": {},
     "output_type": "execute_result"
    }
   ],
   "source": [
    "X_train['Ticket'].describe()"
   ]
  },
  {
   "cell_type": "code",
   "execution_count": 2642,
   "id": "160fc8e9",
   "metadata": {},
   "outputs": [],
   "source": [
    "X_train['Ticket_frequency'] = X_train['Ticket'].map(X_train['Ticket'].value_counts())\n",
    "X_test['Ticket_frequency'] = X_test['Ticket'].map(X_test['Ticket'].value_counts())"
   ]
  },
  {
   "cell_type": "code",
   "execution_count": 2643,
   "id": "64bff27f",
   "metadata": {},
   "outputs": [
    {
     "data": {
      "text/plain": [
       "count     712\n",
       "unique     15\n",
       "top        Mr\n",
       "freq      421\n",
       "Name: Name, dtype: object"
      ]
     },
     "execution_count": 2643,
     "metadata": {},
     "output_type": "execute_result"
    }
   ],
   "source": [
    "X_train['Name'].str.extract(' ([A-Za-z]+)\\.', expand=False).describe()"
   ]
  },
  {
   "cell_type": "code",
   "execution_count": 2644,
   "id": "629c7620",
   "metadata": {},
   "outputs": [
    {
     "data": {
      "text/plain": [
       "array(['Mr', 'Miss', 'Master', 'Mrs', 'Don', 'Col', 'Rev', 'Dr', 'Mme',\n",
       "       'Major', 'Countess', 'Lady', 'Mlle', 'Jonkheer', 'Sir'],\n",
       "      dtype=object)"
      ]
     },
     "execution_count": 2644,
     "metadata": {},
     "output_type": "execute_result"
    }
   ],
   "source": [
    "X_train['Name'].str.extract(' ([A-Za-z]+)\\.', expand=False).unique()"
   ]
  },
  {
   "cell_type": "code",
   "execution_count": 2645,
   "id": "20db5bde",
   "metadata": {},
   "outputs": [],
   "source": [
    "X_train['Title']=X_train['Name'].str.extract(' ([A-Za-z]+)\\.', expand=False)\n",
    "X_test['Title']=X_test['Name'].str.extract(' ([A-Za-z]+)\\.', expand=False)\n",
    "\n",
    "X_train['Title'] = X_train['Title'].replace('Mlle', 'Miss')\n",
    "X_train['Title'] = X_train['Title'].replace('Ms', 'Miss')\n",
    "X_train['Title'] = X_train['Title'].replace('Mme', 'Mrs')\n",
    "X_test['Title'] = X_test['Title'].replace('Mlle', 'Miss')\n",
    "X_test['Title'] = X_test['Title'].replace('Ms', 'Miss')\n",
    "X_test['Title'] = X_test['Title'].replace('Mme', 'Mrs')"
   ]
  },
  {
   "cell_type": "code",
   "execution_count": 2646,
   "id": "6fc77d14",
   "metadata": {},
   "outputs": [],
   "source": [
    "X_train['Young_male'] = np.where((X_train['Sex']=='male') & (X_train['Age']<12.0),1,0) #Age seem more important for male passingers\n",
    "X_test['Young_male'] = np.where((X_test['Sex']=='male') & (X_test['Age']<12.0),1,0) #Age seem more important for male passingers "
   ]
  },
  {
   "cell_type": "code",
   "execution_count": 2647,
   "id": "dab643f8",
   "metadata": {},
   "outputs": [
    {
     "data": {
      "text/plain": [
       "Index(['Pclass', 'Sex', 'Age', 'SibSp', 'Parch', 'Fare', 'Embarked', 'Ticket',\n",
       "       'Name', 'Alone', 'Cabin_A', 'Cabin_B', 'Cabin_C', 'Cabin_D', 'Cabin_E',\n",
       "       'Cabin_F', 'Cabin_G', 'Ticket_frequency', 'Title', 'Young_male'],\n",
       "      dtype='object')"
      ]
     },
     "execution_count": 2647,
     "metadata": {},
     "output_type": "execute_result"
    }
   ],
   "source": [
    "X_train.columns"
   ]
  },
  {
   "cell_type": "code",
   "execution_count": 2648,
   "id": "d4ac60c7",
   "metadata": {},
   "outputs": [],
   "source": [
    "for col in ['Name','Ticket','Title',]: # drop 'Title' because there should be an other way to engineer it!\n",
    "    X_train.drop(col, axis=1, inplace=True)\n",
    "    X_test.drop(col, axis=1, inplace=True)"
   ]
  },
  {
   "cell_type": "code",
   "execution_count": 2649,
   "id": "0e8d824b",
   "metadata": {},
   "outputs": [],
   "source": [
    "column_transformer_max = ColumnTransformer([\n",
    "    ('numerical_pipeline',numerical_pipeline,['Age','Fare',]), #\n",
    "    ('categorical_pipeline',categorical_pipeline,['Pclass','Sex','Embarked','Alone','SibSp','Parch','Ticket_frequency',]),#\n",
    "    #('categorical_ohe',OneHotEncoder(sparse=True,drop='first'),[]),#'Title',\n",
    "],remainder=\"passthrough\")"
   ]
  },
  {
   "cell_type": "code",
   "execution_count": 2650,
   "id": "a597464f",
   "metadata": {},
   "outputs": [],
   "source": [
    "column_transformer_max.fit(X_train) #learn how to do the transforamtion\n",
    "X_train_max = column_transformer_max.transform(X_train) #Do the accual transformation\n",
    "X_test_max = column_transformer_max.transform(X_test) #Do the same transformation on test set "
   ]
  },
  {
   "cell_type": "code",
   "execution_count": 2651,
   "id": "3e6668f5",
   "metadata": {},
   "outputs": [
    {
     "data": {
      "text/plain": [
       "LogisticRegression()"
      ]
     },
     "execution_count": 2651,
     "metadata": {},
     "output_type": "execute_result"
    }
   ],
   "source": [
    "m_max = LogisticRegression() #class_weight='balanced'\n",
    "m_max.fit(X_train_max,y_train) "
   ]
  },
  {
   "cell_type": "code",
   "execution_count": 2652,
   "id": "2ecdb3a9",
   "metadata": {},
   "outputs": [
    {
     "data": {
      "text/plain": [
       "'Mean cross-validation score:  0.810'"
      ]
     },
     "execution_count": 2652,
     "metadata": {},
     "output_type": "execute_result"
    }
   ],
   "source": [
    "cross_val_scores = cross_val_score(m, X_train_max, y_train, cv=10)\n",
    "np.sort(cross_val_scores.round(3))\n",
    "f\"Mean cross-validation score: {cross_val_scores.mean(): 5.3f}\""
   ]
  },
  {
   "cell_type": "code",
   "execution_count": 2653,
   "id": "52de535c",
   "metadata": {},
   "outputs": [
    {
     "data": {
      "text/plain": [
       "0.4581005586592179"
      ]
     },
     "execution_count": 2653,
     "metadata": {},
     "output_type": "execute_result"
    }
   ],
   "source": [
    "y_pred = m_max.predict(X_test_max)\n",
    "score =accuracy_score(y_test,y_pred) \n",
    "score"
   ]
  },
  {
   "cell_type": "markdown",
   "id": "ffa8b446",
   "metadata": {},
   "source": [
    "# OVERFIT ALARM"
   ]
  },
  {
   "cell_type": "code",
   "execution_count": 2654,
   "id": "efeae2c2",
   "metadata": {},
   "outputs": [],
   "source": [
    "for col in ['Cabin_A', 'Cabin_B', 'Cabin_C', 'Cabin_D', 'Cabin_E', 'Cabin_F','Cabin_G',]:\n",
    "    X_train.drop(col, axis=1, inplace=True)\n",
    "    X_test.drop(col, axis=1, inplace=True)\n"
   ]
  },
  {
   "cell_type": "code",
   "execution_count": 2655,
   "id": "dc17e1ec",
   "metadata": {},
   "outputs": [],
   "source": [
    "column_transformer = ColumnTransformer([\n",
    "    ('numerical_pipeline',numerical_pipeline,['Age','Fare',]), #\n",
    "    ('categorical_pipeline',categorical_pipeline,['Pclass','Sex','Embarked','Alone','SibSp','Parch','Ticket_frequency',]),#\n",
    "    ('categorical_ohe',OneHotEncoder(sparse=True,drop='first'),[]),#'Title',\n",
    "],remainder=\"passthrough\")"
   ]
  },
  {
   "cell_type": "code",
   "execution_count": 2656,
   "id": "04eba6f6",
   "metadata": {},
   "outputs": [],
   "source": [
    "column_transformer.fit(X_train) #learn how to do the transforamtion\n",
    "X_train_fe = column_transformer.transform(X_train) #Do the accual transformation\n",
    "X_test_fe = column_transformer.transform(X_test) #Do the same transformation on test set "
   ]
  },
  {
   "cell_type": "code",
   "execution_count": 2657,
   "id": "ed99a088",
   "metadata": {},
   "outputs": [
    {
     "data": {
      "text/plain": [
       "LogisticRegression()"
      ]
     },
     "execution_count": 2657,
     "metadata": {},
     "output_type": "execute_result"
    }
   ],
   "source": [
    "m = LogisticRegression() #class_weight='balanced'\n",
    "m.fit(X_train_fe,y_train) "
   ]
  },
  {
   "cell_type": "code",
   "execution_count": 2658,
   "id": "dcff6e48",
   "metadata": {},
   "outputs": [
    {
     "data": {
      "text/plain": [
       "'Mean cross-validation score:  0.816'"
      ]
     },
     "execution_count": 2658,
     "metadata": {},
     "output_type": "execute_result"
    }
   ],
   "source": [
    "cross_val_scores = cross_val_score(m, X_train_fe, y_train, cv=10)\n",
    "np.sort(cross_val_scores.round(3))\n",
    "f\"Mean cross-validation score: {cross_val_scores.mean(): 5.3f}\""
   ]
  },
  {
   "cell_type": "code",
   "execution_count": 2659,
   "id": "5e0d894f",
   "metadata": {},
   "outputs": [
    {
     "name": "stderr",
     "output_type": "stream",
     "text": [
      "/Users/maria/opt/anaconda3/lib/python3.9/site-packages/IPython/core/displayhook.py:275: UserWarning: Output cache limit (currently 1000 entries) hit.\n",
      "Flushing oldest 200 entries.\n",
      "  warn('Output cache limit (currently {sz} entries) hit.\\n'\n"
     ]
    },
    {
     "data": {
      "text/plain": [
       "0.8100558659217877"
      ]
     },
     "execution_count": 2659,
     "metadata": {},
     "output_type": "execute_result"
    }
   ],
   "source": [
    "y_pred = m.predict(X_test_fe)\n",
    "score =accuracy_score(y_test,y_pred) \n",
    "score"
   ]
  },
  {
   "cell_type": "code",
   "execution_count": 2660,
   "id": "edd764ea",
   "metadata": {},
   "outputs": [
    {
     "name": "stderr",
     "output_type": "stream",
     "text": [
      "100%|██████████| 1000/1000 [00:29<00:00, 33.66it/s]\n"
     ]
    },
    {
     "data": {
      "image/png": "[encoded data removed]",
      "text/plain": [
       "<Figure size 360x360 with 1 Axes>"
      ]
     },
     "metadata": {
      "needs_background": "light"
     },
     "output_type": "display_data"
    },
    {
     "name": "stderr",
     "output_type": "stream",
     "text": [
      "100%|██████████| 1000/1000 [00:10<00:00, 99.52it/s] \n"
     ]
    },
    {
     "data": {
      "image/png": "[encoded data removed]",
      "text/plain": [
       "<Figure size 360x360 with 1 Axes>"
      ]
     },
     "metadata": {
      "needs_background": "light"
     },
     "output_type": "display_data"
    },
    {
     "name": "stderr",
     "output_type": "stream",
     "text": [
      "100%|██████████| 1000/1000 [00:13<00:00, 75.42it/s]\n"
     ]
    },
    {
     "data": {
      "image/png": "[encoded data removed]",
      "text/plain": [
       "<Figure size 360x360 with 1 Axes>"
      ]
     },
     "metadata": {
      "needs_background": "light"
     },
     "output_type": "display_data"
    }
   ],
   "source": [
    "from sklearn.utils import resample\n",
    "from tqdm import tqdm # progress bar\n",
    "for (label,m_i,X_train,y_train,X_test,y_test) in [('max',m_max,X_train_max,y_train,X_test_max,y_test),\n",
    "                                          ('min',m_minimal,X_train_minimal,y_train,X_test_minimal,y_test),\n",
    "                                          ('m',m,X_train_fe,y_train,X_test_fe,y_test),\n",
    "                                          ]:\n",
    "    boots = []\n",
    "    split_size = int(len(X_train)*0.75)\n",
    "    for i in tqdm(range(1000)):\n",
    "        Xb, yb = resample(X_train, y_train) #bootsrapping random resample\n",
    "        Xb_train = Xb[:split_size] #train data\n",
    "        yb_train = yb[:split_size]\n",
    "        Xb_test = Xb[split_size:] # validation data\n",
    "        yb_test = yb[split_size:]\n",
    "        m_i.fit(Xb_train, yb_train) #fit on the train data\n",
    "        score = m_i.score(Xb_test, yb_test) # score on the val data\n",
    "        boots.append(score) # save the score\n",
    "    boots.sort() # sort scores from best to worst - required for my confidence interval levels\n",
    "    ci80 = boots[100:-100]\n",
    "    ci90 = boots[50:-50]\n",
    "    ci99 = boots[5:-5]\n",
    "    sns.displot(boots, bins=20, kde=True)\n",
    "    plt.axvline(x=accuracy_score(y_test,m_i.predict(X_test)), color = 'black', linestyle = '--')\n",
    "    plt.text(s = 'test', x=accuracy_score(y_test,m_i.predict(X_test)), y = 170, color = 'black')\n",
    "    plt.axvline(x=ci80[0], color = 'red', linestyle = '--')\n",
    "    plt.axvline(x=ci80[-1], color = 'red', linestyle = '--')\n",
    "    plt.axvline(x=ci90[0], color = 'darkorange', linestyle = '--')\n",
    "    plt.axvline(x=ci90[-1], color = 'darkorange', linestyle = '--')\n",
    "    plt.axvline(x=ci99[0], color = 'gold', linestyle = '--')\n",
    "    plt.axvline(x=ci99[-1], color = 'gold', linestyle = '--')\n",
    "    plt.text(s = '80%', x=ci80[0], y = 170, color = 'red')\n",
    "    plt.text(s = '90%', x=ci90[0], y = 170, color = 'darkorange')\n",
    "    plt.text(s = '99%', x=ci99[0], y = 170, color = 'gold')\n",
    "    plt.text(s = '80%', x=ci80[-1], y = 170, color = 'red')\n",
    "    plt.text(s = '90%', x=ci90[-1], y = 170, color = 'darkorange')\n",
    "    plt.text(s = '99%', x=ci99[-1], y = 170, color = 'gold')\n",
    "    plt.title(f'distribution of 1000 bootstrapped {label} models, plus CI')\n",
    "    plt.show()\n",
    "    None # just does not write the anoying line"
   ]
  },
  {
   "cell_type": "markdown",
   "id": "5100e2e2",
   "metadata": {},
   "source": [
    "# Desicion Trees"
   ]
  },
  {
   "cell_type": "markdown",
   "id": "d6a725ad",
   "metadata": {},
   "source": [
    "maximum set of features"
   ]
  },
  {
   "cell_type": "code",
   "execution_count": 2667,
   "id": "f3395faa",
   "metadata": {},
   "outputs": [
    {
     "name": "stdout",
     "output_type": "stream",
     "text": [
      "Mean cross-validation score:  0.81881\n",
      "Test score:  0.79888\n"
     ]
    }
   ],
   "source": [
    "clf_Decision_Tree = DecisionTreeClassifier(max_depth=3,)#  min_samples_split=0.7,\n",
    "clf_Decision_Tree.fit(X_train_max,y_train)\n",
    "DT_predictions = clf_Decision_Tree.predict(X_test_max)\n",
    "scores = cross_val_score(clf_Decision_Tree, X_train_max, y_train, cv=5)\n",
    "print(f\"Mean cross-validation score: {scores.mean(): 5.5f}\")\n",
    "print(f\"Test score: {accuracy_score(y_test,DT_predictions): 5.5f}\")"
   ]
  },
  {
   "cell_type": "markdown",
   "id": "91ad41dc",
   "metadata": {},
   "source": [
    "minimum set of features"
   ]
  },
  {
   "cell_type": "code",
   "execution_count": 2671,
   "id": "0869feca",
   "metadata": {},
   "outputs": [
    {
     "name": "stdout",
     "output_type": "stream",
     "text": [
      "Mean cross-validation score:  0.79774\n",
      "Test score:  0.80447\n"
     ]
    }
   ],
   "source": [
    "clf_Decision_Tree = DecisionTreeClassifier(max_depth=3,)#  min_samples_split=0.7,\n",
    "clf_Decision_Tree.fit(X_train_minimal,y_train)\n",
    "DT_predictions = clf_Decision_Tree.predict(X_test_minimal)\n",
    "scores = cross_val_score(clf_Decision_Tree, X_train_minimal, y_train, cv=5)\n",
    "print(f\"Mean cross-validation score: {scores.mean(): 5.5f}\")\n",
    "print(f\"Test score: {accuracy_score(y_test,DT_predictions): 5.5f}\")"
   ]
  },
  {
   "cell_type": "markdown",
   "id": "f980b2d1",
   "metadata": {},
   "source": [
    "medium set of features"
   ]
  },
  {
   "cell_type": "code",
   "execution_count": 2676,
   "id": "00b26b28",
   "metadata": {},
   "outputs": [
    {
     "name": "stdout",
     "output_type": "stream",
     "text": [
      "Mean cross-validation score:  0.82022\n",
      "Test score:  0.79888\n"
     ]
    }
   ],
   "source": [
    "clf_Decision_Tree = DecisionTreeClassifier(max_depth=3,)#  min_samples_split=0.7,\n",
    "clf_Decision_Tree.fit(X_train_fe,y_train)\n",
    "DT_predictions = clf_Decision_Tree.predict(X_test_fe)\n",
    "scores = cross_val_score(clf_Decision_Tree, X_train_fe, y_train, cv=5)\n",
    "print(f\"Mean cross-validation score: {scores.mean(): 5.5f}\")\n",
    "print(f\"Test score: {accuracy_score(y_test,DT_predictions): 5.5f}\")"
   ]
  },
  {
   "cell_type": "markdown",
   "id": "526e3194",
   "metadata": {},
   "source": [
    "Random Forest Classifier"
   ]
  },
  {
   "cell_type": "code",
   "execution_count": 2679,
   "id": "20dbcbdb",
   "metadata": {},
   "outputs": [
    {
     "name": "stdout",
     "output_type": "stream",
     "text": [
      "Mean cross-validation score:  0.76825\n",
      "Test score:  0.76536\n"
     ]
    }
   ],
   "source": [
    "clf_RF = RandomForestClassifier(max_depth=2, n_estimators=100)\n",
    "clf_RF.fit(X_train_max,y_train)\n",
    "scores = cross_val_score(clf_RF, X_train_max, y_train, cv=5)\n",
    "RF_predictions = clf_RF.predict(X_test_max)\n",
    "print(f\"Mean cross-validation score: {scores.mean(): 5.5f}\")\n",
    "print(f\"Test score: {accuracy_score(y_test,RF_predictions): 5.5f}\")"
   ]
  },
  {
   "cell_type": "code",
   "execution_count": 2678,
   "id": "20dbcbdb",
   "metadata": {},
   "outputs": [
    {
     "name": "stdout",
     "output_type": "stream",
     "text": [
      "Mean cross-validation score:  0.80334\n",
      "Test score:  0.74860\n"
     ]
    }
   ],
   "source": [
    "clf_RF = RandomForestClassifier(max_depth=2, n_estimators=100)\n",
    "clf_RF.fit(X_train_minimal,y_train)\n",
    "scores = cross_val_score(clf_RF, X_train_minimal, y_train, cv=5)\n",
    "RF_predictions = clf_RF.predict(X_test_minimal)\n",
    "print(f\"Mean cross-validation score: {scores.mean(): 5.5f}\")\n",
    "print(f\"Test score: {accuracy_score(y_test,RF_predictions): 5.5f}\")"
   ]
  },
  {
   "cell_type": "code",
   "execution_count": 2680,
   "id": "d68ad4f2",
   "metadata": {},
   "outputs": [
    {
     "name": "stdout",
     "output_type": "stream",
     "text": [
      "Mean cross-validation score:  0.75981\n",
      "Test score:  0.69274\n"
     ]
    }
   ],
   "source": [
    "clf_RF = RandomForestClassifier(max_depth=2, n_estimators=100)\n",
    "clf_RF.fit(X_train_fe,y_train)\n",
    "scores = cross_val_score(clf_RF, X_train_fe, y_train, cv=5)\n",
    "RF_predictions = clf_RF.predict(X_test_fe)\n",
    "print(f\"Mean cross-validation score: {scores.mean(): 5.5f}\")\n",
    "print(f\"Test score: {accuracy_score(y_test,RF_predictions): 5.5f}\")"
   ]
  }
 ],
 "metadata": {
  "kernelspec": {
   "display_name": "Python 3 (ipykernel)",
   "language": "python",
   "name": "python3"
  },
  "language_info": {
   "codemirror_mode": {
    "name": "ipython",
    "version": 3
   },
   "file_extension": ".py",
   "mimetype": "text/x-python",
   "name": "python",
   "nbconvert_exporter": "python",
   "pygments_lexer": "ipython3",
   "version": "3.9.7"
  }
 },
 "nbformat": 4,
 "nbformat_minor": 5
}
