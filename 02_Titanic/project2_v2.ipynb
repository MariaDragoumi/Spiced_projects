{
 "cells": [
  {
   "cell_type": "code",
   "execution_count": 1353,
   "id": "221eb4bd-5a5d-48a9-b805-407ca5023a05",
   "metadata": {},
   "outputs": [],
   "source": [
    "import numpy as np\n",
    "import pandas as pd\n",
    "import seaborn as sns\n",
    "import matplotlib.pyplot as plt\n",
    "from sklearn.linear_model import LogisticRegression\n",
    "from sklearn.model_selection import train_test_split\n",
    "from sklearn.impute import SimpleImputer\n",
    "from sklearn.preprocessing import OneHotEncoder\n",
    "from sklearn.preprocessing import MinMaxScaler, StandardScaler\n",
    "from sklearn.preprocessing import KBinsDiscretizer\n",
    "from sklearn.pipeline import Pipeline\n",
    "from sklearn.compose import ColumnTransformer\n",
    "from sklearn.metrics import accuracy_score, precision_score, recall_score, classification_report  \n",
    "from sklearn.model_selection import cross_val_score, cross_validate"
   ]
  },
  {
   "cell_type": "code",
   "execution_count": 1354,
   "id": "6abd151a-88f7-4abc-8419-d341f7d0f5ac",
   "metadata": {},
   "outputs": [
    {
     "data": {
      "text/plain": [
       "Index(['PassengerId', 'Survived', 'Pclass', 'Name', 'Sex', 'Age', 'SibSp',\n",
       "       'Parch', 'Ticket', 'Fare', 'Cabin', 'Embarked'],\n",
       "      dtype='object')"
      ]
     },
     "execution_count": 1354,
     "metadata": {},
     "output_type": "execute_result"
    }
   ],
   "source": [
    "df = pd.read_csv('../data/train.csv')\n",
    "df.columns"
   ]
  },
  {
   "cell_type": "code",
   "execution_count": 1355,
   "id": "260cf40c-2939-4637-8cf6-df6983c36283",
   "metadata": {},
   "outputs": [
    {
     "data": {
      "text/plain": [
       "((891, 7), (891,))"
      ]
     },
     "execution_count": 1355,
     "metadata": {},
     "output_type": "execute_result"
    }
   ],
   "source": [
    "X= df[['Pclass','Sex','Age','SibSp','Parch','Fare','Embarked']]\n",
    "y= df['Survived']\n",
    "X.shape,y.shape"
   ]
  },
  {
   "cell_type": "code",
   "execution_count": 1356,
   "id": "f66a99bf",
   "metadata": {},
   "outputs": [],
   "source": [
    "X_train, X_test, y_train, y_test = train_test_split(X, y, test_size = 0.2) #, random_state=56"
   ]
  },
  {
   "cell_type": "code",
   "execution_count": 1357,
   "id": "3393a545",
   "metadata": {},
   "outputs": [],
   "source": [
    "#X_train"
   ]
  },
  {
   "cell_type": "markdown",
   "id": "69636f0a",
   "metadata": {},
   "source": [
    "data look clean, i.e. no weird values in there"
   ]
  },
  {
   "cell_type": "code",
   "execution_count": 1358,
   "id": "2eabf477",
   "metadata": {},
   "outputs": [],
   "source": [
    "#X_train.isna().sum()"
   ]
  },
  {
   "cell_type": "code",
   "execution_count": 1359,
   "id": "a147e2f1",
   "metadata": {},
   "outputs": [],
   "source": [
    "numerical_columns = ['Age','Fare',]\n",
    "categorical_columns = ['Embarked',] #'Pclass','Sex','SibSp','Parch',"
   ]
  },
  {
   "cell_type": "code",
   "execution_count": 1360,
   "id": "1cb11074",
   "metadata": {},
   "outputs": [],
   "source": [
    "numerical_pipeline = Pipeline([\n",
    "    ('numerical_imputer',SimpleImputer(missing_values=np.nan, strategy='mean')),\n",
    "    ('num_scaler',StandardScaler()),\n",
    "])"
   ]
  },
  {
   "cell_type": "code",
   "execution_count": 1361,
   "id": "2496cd98",
   "metadata": {},
   "outputs": [],
   "source": [
    "categorical_pipeline = Pipeline([\n",
    "    ('categorical_imputer',SimpleImputer(missing_values=np.nan, strategy='most_frequent')),\n",
    "    ('categorical_ohe',OneHotEncoder(sparse=False, handle_unknown='error',drop='first')),\n",
    "])"
   ]
  },
  {
   "cell_type": "code",
   "execution_count": 1362,
   "id": "7f02f888",
   "metadata": {},
   "outputs": [],
   "source": [
    "column_transformer = ColumnTransformer([\n",
    "    ('numerical_pipeline',numerical_pipeline,['Age','Fare',]),\n",
    "    ('categorical_pipeline',categorical_pipeline,['Pclass','Sex','SibSp','Embarked',]),\n",
    "    #('num_discritazer',KBinsDiscretizer(n_bins=8, strategy='uniform'),['Age','Fare',]),#numerical_columns \n",
    "])"
   ]
  },
  {
   "cell_type": "code",
   "execution_count": 1363,
   "id": "8c8e8235",
   "metadata": {},
   "outputs": [],
   "source": [
    "column_transformer.fit(X_train) #learn how to do the transforamtion\n",
    "X_train_fe = column_transformer.transform(X_train) #Do the accual transformation\n",
    "X_test_fe = column_transformer.transform(X_test) #Do the same transformation on test set "
   ]
  },
  {
   "cell_type": "code",
   "execution_count": 1364,
   "id": "4fe7f49b",
   "metadata": {},
   "outputs": [
    {
     "data": {
      "text/plain": [
       "13"
      ]
     },
     "execution_count": 1364,
     "metadata": {},
     "output_type": "execute_result"
    }
   ],
   "source": [
    "X_train_fe[0].size"
   ]
  },
  {
   "cell_type": "code",
   "execution_count": 1385,
   "id": "2f0de211",
   "metadata": {},
   "outputs": [],
   "source": [
    "m = LogisticRegression()\n",
    "m.fit(X_train_fe,y_train) \n",
    "None"
   ]
  },
  {
   "cell_type": "code",
   "execution_count": 1366,
   "id": "3a8902ca",
   "metadata": {},
   "outputs": [],
   "source": [
    "ypred = m.predict(X_test_fe)"
   ]
  },
  {
   "cell_type": "code",
   "execution_count": 1367,
   "id": "894c3c1e",
   "metadata": {},
   "outputs": [
    {
     "data": {
      "text/plain": [
       "0.8324022346368715"
      ]
     },
     "execution_count": 1367,
     "metadata": {},
     "output_type": "execute_result"
    }
   ],
   "source": [
    "accuracy_score(y_test,ypred) "
   ]
  },
  {
   "cell_type": "code",
   "execution_count": 1368,
   "id": "08a7bbdd",
   "metadata": {},
   "outputs": [],
   "source": [
    "score =m.score(X_train_fe,y_train)"
   ]
  },
  {
   "cell_type": "code",
   "execution_count": 1369,
   "id": "57698cfd",
   "metadata": {},
   "outputs": [
    {
     "data": {
      "text/plain": [
       "0.8324022346368715"
      ]
     },
     "execution_count": 1369,
     "metadata": {},
     "output_type": "execute_result"
    }
   ],
   "source": [
    "m.score(X_test_fe,y_test)"
   ]
  },
  {
   "cell_type": "code",
   "execution_count": 1370,
   "id": "8febc7ec",
   "metadata": {},
   "outputs": [
    {
     "name": "stdout",
     "output_type": "stream",
     "text": [
      "Precision = 0.7857 \n",
      "Recall = 0.7097\n"
     ]
    }
   ],
   "source": [
    "precision = precision_score(y_test,ypred)\n",
    "recall = recall_score(y_test,ypred)\n",
    "\n",
    "print(f'Precision = {precision:.4f} \\nRecall = {recall:.4f}')"
   ]
  },
  {
   "cell_type": "code",
   "execution_count": 1371,
   "id": "13b012e0",
   "metadata": {},
   "outputs": [
    {
     "data": {
      "text/plain": [
       "array([0.819, 0.792, 0.761, 0.831, 0.746, 0.789, 0.789, 0.873, 0.775,\n",
       "       0.732])"
      ]
     },
     "execution_count": 1371,
     "metadata": {},
     "output_type": "execute_result"
    }
   ],
   "source": [
    "scores = cross_val_score(m, X_train_fe, y_train, cv=10)\n",
    "scores.round(3)"
   ]
  },
  {
   "cell_type": "code",
   "execution_count": 1372,
   "id": "8ca9e67d",
   "metadata": {},
   "outputs": [
    {
     "data": {
      "text/plain": [
       "'Mean cross-validation score:  0.791'"
      ]
     },
     "execution_count": 1372,
     "metadata": {},
     "output_type": "execute_result"
    }
   ],
   "source": [
    "f\"Mean cross-validation score: {scores.mean(): 5.3f}\""
   ]
  },
  {
   "cell_type": "code",
   "execution_count": 1384,
   "id": "8ddb2fce",
   "metadata": {},
   "outputs": [
    {
     "data": {
      "image/png": "[encoded data removed]",
      "text/plain": [
       "<Figure size 432x288 with 1 Axes>"
      ]
     },
     "metadata": {
      "needs_background": "light"
     },
     "output_type": "display_data"
    }
   ],
   "source": [
    "plt.hist(scores, bins=5) #it doesn't add much value for low ks\n",
    "plt.vlines(scores.mean(),ymin=0,ymax=1, color='black')\n",
    "plt.vlines(score,ymin=0,ymax=1, color='red') # this is the model score\n",
    "None"
   ]
  },
  {
   "cell_type": "code",
   "execution_count": 1374,
   "id": "8b2661e2",
   "metadata": {},
   "outputs": [],
   "source": [
    "from sklearn.utils import resample\n",
    "from tqdm import tqdm # progress bar"
   ]
  },
  {
   "cell_type": "code",
   "execution_count": 1375,
   "id": "2dbb9e82",
   "metadata": {},
   "outputs": [
    {
     "name": "stderr",
     "output_type": "stream",
     "text": [
      "100%|██████████| 1000/1000 [00:16<00:00, 61.61it/s]\n"
     ]
    }
   ],
   "source": [
    "boots = []\n",
    "split_size = int(len(X_train_fe)*0.75)\n",
    "for i in tqdm(range(1000)):\n",
    "    Xb, yb = resample(X_train_fe, y_train) #bootsrapping random resample\n",
    "    Xb_train = Xb[:split_size] #train data\n",
    "    yb_train = yb[:split_size]\n",
    "    Xb_test = Xb[split_size:] # validation data\n",
    "    yb_test = yb[split_size:]\n",
    "    m.fit(Xb_train, yb_train) #fit on the train data\n",
    "    score = m.score(Xb_test, yb_test) # score on the val data\n",
    "    boots.append(score) # save the score\n",
    "boots.sort() # sort scores from best to worst - required for my confidence interval levels"
   ]
  },
  {
   "cell_type": "code",
   "execution_count": 1376,
   "id": "42df0145",
   "metadata": {},
   "outputs": [
    {
     "name": "stdout",
     "output_type": "stream",
     "text": [
      "80% confidence interval: 0.7584269662921348 to 0.8370786516853933\n"
     ]
    }
   ],
   "source": [
    "ci80 = boots[100:-100]\n",
    "print(f\"80% confidence interval: {ci80[0]} to {ci80[-1]}\")"
   ]
  },
  {
   "cell_type": "code",
   "execution_count": 1377,
   "id": "9d1be2e2",
   "metadata": {},
   "outputs": [
    {
     "name": "stdout",
     "output_type": "stream",
     "text": [
      "90% confidence interval: 0.7471910112359551 - 0.848314606741573\n"
     ]
    }
   ],
   "source": [
    "ci90 = boots[50:-50]\n",
    "print(\"90% confidence interval: {} to {}\".format(ci90[0], ci90[-1]))"
   ]
  },
  {
   "cell_type": "code",
   "execution_count": 1378,
   "id": "31663ba5",
   "metadata": {},
   "outputs": [
    {
     "name": "stdout",
     "output_type": "stream",
     "text": [
      "99% confidence interval: 0.7191011235955056 - 0.8707865168539326\n"
     ]
    }
   ],
   "source": [
    "ci99 = boots[5:-5]\n",
    "print(\"99% confidence interval: {} to {}\".format(ci99[0], ci99[-1]))"
   ]
  },
  {
   "cell_type": "code",
   "execution_count": 1383,
   "id": "cf3d99a1",
   "metadata": {},
   "outputs": [
    {
     "data": {
      "image/png": "[encoded data removed]",
      "text/plain": [
       "<Figure size 360x360 with 1 Axes>"
      ]
     },
     "metadata": {
      "needs_background": "light"
     },
     "output_type": "display_data"
    }
   ],
   "source": [
    "import seaborn as sns\n",
    "sns.displot(boots, bins=20, kde=True)\n",
    "plt.axvline(x=ci80[0], color = 'red', linestyle = '--')\n",
    "plt.axvline(x=ci80[-1], color = 'red', linestyle = '--')\n",
    "plt.axvline(x=ci90[0], color = 'darkorange', linestyle = '--')\n",
    "plt.axvline(x=ci90[-1], color = 'darkorange', linestyle = '--')\n",
    "plt.axvline(x=ci99[0], color = 'gold', linestyle = '--')\n",
    "plt.axvline(x=ci99[-1], color = 'gold', linestyle = '--')\n",
    "plt.text(s = '80%', x=ci80[0], y = 170, color = 'red')\n",
    "plt.text(s = '90%', x=ci90[0], y = 170, color = 'darkorange')\n",
    "plt.text(s = '99%', x=ci99[0], y = 170, color = 'gold')\n",
    "plt.text(s = '80%', x=ci80[-1], y = 170, color = 'red')\n",
    "plt.text(s = '90%', x=ci90[-1], y = 170, color = 'darkorange')\n",
    "plt.text(s = '99%', x=ci99[-1], y = 170, color = 'gold')\n",
    "plt.title('distribution of 1000 bootstrapped models, plus CI')\n",
    "None # just does not write the anoying line"
   ]
  },
  {
   "cell_type": "code",
   "execution_count": 1380,
   "id": "1a6cd3e7",
   "metadata": {},
   "outputs": [
    {
     "data": {
      "text/plain": [
       "Index(['PassengerId', 'Pclass', 'Name', 'Sex', 'Age', 'SibSp', 'Parch',\n",
       "       'Ticket', 'Fare', 'Cabin', 'Embarked'],\n",
       "      dtype='object')"
      ]
     },
     "execution_count": 1380,
     "metadata": {},
     "output_type": "execute_result"
    }
   ],
   "source": [
    "X_test_kaggle = pd.read_csv('../data/test.csv')\n",
    "X_test_kaggle.columns"
   ]
  },
  {
   "cell_type": "code",
   "execution_count": 1381,
   "id": "d109c1ab",
   "metadata": {},
   "outputs": [],
   "source": [
    "X_test_kaggle_fe = column_transformer.transform(X_test_kaggle[['Pclass','Sex','Age','SibSp','Parch','Fare','Embarked']])"
   ]
  },
  {
   "cell_type": "code",
   "execution_count": 1382,
   "id": "f9bba21b",
   "metadata": {},
   "outputs": [],
   "source": [
    "#Ups... how can I test?"
   ]
  }
 ],
 "metadata": {
  "kernelspec": {
   "display_name": "Python 3 (ipykernel)",
   "language": "python",
   "name": "python3"
  },
  "language_info": {
   "codemirror_mode": {
    "name": "ipython",
    "version": 3
   },
   "file_extension": ".py",
   "mimetype": "text/x-python",
   "name": "python",
   "nbconvert_exporter": "python",
   "pygments_lexer": "ipython3",
   "version": "3.9.7"
  }
 },
 "nbformat": 4,
 "nbformat_minor": 5
}
