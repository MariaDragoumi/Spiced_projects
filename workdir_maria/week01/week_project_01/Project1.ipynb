{
 "cells": [
  {
   "cell_type": "code",
   "execution_count": 37,
   "id": "04f05aaa-9670-432b-8bf7-bc7a8299c8cb",
   "metadata": {
    "tags": []
   },
   "outputs": [
    {
     "name": "stdout",
     "output_type": "stream",
     "text": [
      "         Life expectancy  1800.0  1801.0  1802.0  1803.0  1804.0  1805.0  \\\n",
      "0               Abkhazia     NaN     NaN     NaN     NaN     NaN     NaN   \n",
      "1            Afghanistan   28.21   28.20   28.19   28.18   28.17   28.16   \n",
      "2  Akrotiri and Dhekelia     NaN     NaN     NaN     NaN     NaN     NaN   \n",
      "3                Albania   35.40   35.40   35.40   35.40   35.40   35.40   \n",
      "4                Algeria   28.82   28.82   28.82   28.82   28.82   28.82   \n",
      "\n",
      "   1806.0  1807.0  1808.0  ...  2007.0  2008.0  2009.0  2010.0  2011.0  \\\n",
      "0     NaN     NaN     NaN  ...     NaN     NaN     NaN     NaN     NaN   \n",
      "1   28.15   28.14   28.13  ...    52.4    52.8    53.3    53.6    54.0   \n",
      "2     NaN     NaN     NaN  ...     NaN     NaN     NaN     NaN     NaN   \n",
      "3   35.40   35.40   35.40  ...    76.6    76.8    77.0    77.2    77.4   \n",
      "4   28.82   28.82   28.82  ...    75.3    75.5    75.7    76.0    76.1   \n",
      "\n",
      "   2012.0  2013.0  2014.0  2015.0  2016.0  \n",
      "0     NaN     NaN     NaN     NaN     NaN  \n",
      "1    54.4    54.8    54.9    53.8   52.72  \n",
      "2     NaN     NaN     NaN     NaN     NaN  \n",
      "3    77.5    77.7    77.9    78.0   78.10  \n",
      "4    76.2    76.3    76.3    76.4   76.50  \n",
      "\n",
      "[5 rows x 218 columns]\n",
      "(260, 218)\n",
      "           1800.0      1801.0      1802.0      1803.0      1804.0      1805.0  \\\n",
      "count  201.000000  201.000000  201.000000  201.000000  201.000000  201.000000   \n",
      "mean    31.486020   31.448905   31.463483   31.377413   31.446318   31.562537   \n",
      "std      3.763585    3.755739    3.878204    3.901966    3.877156    3.947957   \n",
      "min     23.390000   23.390000   23.390000   19.600000   23.390000   23.390000   \n",
      "25%     29.000000   28.950000   28.900000   28.900000   28.950000   29.000000   \n",
      "50%     31.800000   31.700000   31.600000   31.500000   31.600000   31.700000   \n",
      "75%     33.900000   33.900000   33.900000   33.800000   33.870000   33.900000   \n",
      "max     42.850000   40.300000   44.370000   44.840000   42.830000   44.270000   \n",
      "\n",
      "           1806.0      1807.0      1808.0      1809.0  ...      2007.0  \\\n",
      "count  201.000000  201.000000  201.000000  201.000000  ...  208.000000   \n",
      "mean    31.615970   31.573134   31.376766   31.310448  ...   70.139712   \n",
      "std      4.039261    3.917339    4.017228    3.972970  ...    8.953255   \n",
      "min     23.390000   23.390000   12.480000   13.430000  ...   43.300000   \n",
      "25%     29.000000   29.000000   28.950000   28.820000  ...   64.825000   \n",
      "50%     31.800000   31.800000   31.600000   31.500000  ...   72.750000   \n",
      "75%     34.000000   34.000000   33.870000   33.800000  ...   76.925000   \n",
      "max     45.820000   43.560000   43.550000   41.740000  ...   84.500000   \n",
      "\n",
      "           2008.0      2009.0      2010.0      2011.0      2012.0      2013.0  \\\n",
      "count  208.000000  208.000000  208.000000  208.000000  208.000000  208.000000   \n",
      "mean    70.447163   70.767740   70.969904   71.324375   71.663077   71.916106   \n",
      "std      8.800452    8.610341    8.898859    8.376540    8.217466    8.120852   \n",
      "min     44.500000   45.500000   32.200000   46.700000   46.100000   45.600000   \n",
      "25%     64.875000   65.225000   65.475000   65.600000   66.075000   66.475000   \n",
      "50%     73.000000   73.350000   73.700000   73.750000   74.050000   74.150000   \n",
      "75%     77.150000   77.425000   77.650000   77.825000   78.125000   78.300000   \n",
      "max     84.600000   84.600000   84.700000   84.700000   84.700000   84.800000   \n",
      "\n",
      "           2014.0     2015.0      2016.0  \n",
      "count  208.000000  208.00000  208.000000  \n",
      "mean    72.088125   72.32101   72.556635  \n",
      "std      8.074990    7.90202    7.738535  \n",
      "min     45.400000   47.10000   48.860000  \n",
      "25%     66.775000   67.05000   67.175000  \n",
      "50%     74.300000   74.40000   74.500000  \n",
      "75%     78.400000   78.50000   78.650000  \n",
      "max     84.800000   84.80000   84.800000  \n",
      "\n",
      "[8 rows x 217 columns]\n",
      "1800.0    31.486020\n",
      "1801.0    31.448905\n",
      "1802.0    31.463483\n",
      "1803.0    31.377413\n",
      "1804.0    31.446318\n",
      "            ...    \n",
      "2012.0    71.663077\n",
      "2013.0    71.916106\n",
      "2014.0    72.088125\n",
      "2015.0    72.321010\n",
      "2016.0    72.556635\n",
      "Length: 217, dtype: float64\n"
     ]
    }
   ],
   "source": [
    "import numpy as np\n",
    "import pandas as pd\n",
    "import matplotlib as plt\n",
    "import seaborn as sns\n",
    "\n",
    "df = pd.read_excel('data/gapminder_lifeexpectancy.xlsx')\n",
    "print(df.head())\n",
    "print(df.shape)\n",
    "print(df.describe())\n",
    "\n",
    "#df = df.dropna()\n",
    "#df = df.fillna(method='ffill')\n",
    "\n",
    "mean_df = df.mean(numeric_only = True)\n",
    "print(mean_df)"
   ]
  },
  {
   "cell_type": "code",
   "execution_count": 38,
   "id": "f7dfb1f8-ebcc-45d8-9b42-09231dd02382",
   "metadata": {},
   "outputs": [
    {
     "data": {
      "text/plain": [
       "<AxesSubplot:>"
      ]
     },
     "execution_count": 38,
     "metadata": {},
     "output_type": "execute_result"
    },
    {
     "data": {
      "image/png": "[encoded data removed]",
      "text/plain": [
       "<Figure size 432x288 with 1 Axes>"
      ]
     },
     "metadata": {
      "needs_background": "light"
     },
     "output_type": "display_data"
    }
   ],
   "source": [
    "sns.lineplot(data = mean_df)"
   ]
  },
  {
   "cell_type": "code",
   "execution_count": null,
   "id": "46977041-ecc3-49ab-b9ca-d30b6104e534",
   "metadata": {},
   "outputs": [],
   "source": []
  },
  {
   "cell_type": "code",
   "execution_count": null,
   "id": "c335b4fc-d237-49e2-861b-b449c96b2f05",
   "metadata": {},
   "outputs": [],
   "source": []
  }
 ],
 "metadata": {
  "kernelspec": {
   "display_name": "Python 3 (ipykernel)",
   "language": "python",
   "name": "python3"
  },
  "language_info": {
   "codemirror_mode": {
    "name": "ipython",
    "version": 3
   },
   "file_extension": ".py",
   "mimetype": "text/x-python",
   "name": "python",
   "nbconvert_exporter": "python",
   "pygments_lexer": "ipython3",
   "version": "3.9.7"
  }
 },
 "nbformat": 4,
 "nbformat_minor": 5
}
