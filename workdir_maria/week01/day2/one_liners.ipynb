{
 "cells": [
  {
   "cell_type": "code",
   "execution_count": 50,
   "metadata": {},
   "outputs": [],
   "source": [
    "import pandas as pd\n",
    "\n",
    "# 1. read the file into a DataFrame\n",
    "df = pd.read_csv('data/continents.csv', sep = ';')\n"
   ]
  },
  {
   "cell_type": "code",
   "execution_count": 51,
   "metadata": {},
   "outputs": [
    {
     "name": "stdout",
     "output_type": "stream",
     "text": [
      "(194, 2)\n"
     ]
    }
   ],
   "source": [
    "\n",
    "# 2. display the number of rows and columns\n",
    "print(df.shape)\n",
    "\n",
    "\n"
   ]
  },
  {
   "cell_type": "code",
   "execution_count": 52,
   "metadata": {},
   "outputs": [
    {
     "name": "stdout",
     "output_type": "stream",
     "text": [
      "<bound method DataFrame.sort_values of   continent   country\n",
      "0    Africa   Algeria\n",
      "1    Africa    Angola\n",
      "2    Africa     Benin\n",
      "3    Africa  Botswana\n",
      "4    Africa   Burkina>\n"
     ]
    }
   ],
   "source": [
    "# 3. display the first 5 countries in the alphabet\n",
    "print(df.head(5).sort_values)\n",
    "\n"
   ]
  },
  {
   "cell_type": "code",
   "execution_count": 53,
   "metadata": {},
   "outputs": [
    {
     "name": "stdout",
     "output_type": "stream",
     "text": [
      "continent\n",
      "Africa    54\n",
      "dtype: int64\n"
     ]
    }
   ],
   "source": [
    "# 4. which continent has the most countries?\n",
    "print(df.value_counts('continent').iloc[[0]])\n",
    "\n"
   ]
  },
  {
   "cell_type": "code",
   "execution_count": 54,
   "metadata": {},
   "outputs": [
    {
     "name": "stdout",
     "output_type": "stream",
     "text": [
      "    continent country\n",
      "108    Europe  Cyprus\n"
     ]
    }
   ],
   "source": [
    "# 5. find out on which continent Cyprus is\n",
    "print(df[df['country']=='Cyprus'])\n",
    "\n"
   ]
  },
  {
   "cell_type": "code",
   "execution_count": 55,
   "metadata": {},
   "outputs": [
    {
     "name": "stdout",
     "output_type": "stream",
     "text": [
      "   continent                        country\n",
      "0     Africa                        Algeria\n",
      "1     Africa                         Angola\n",
      "2     Africa                          Benin\n",
      "3     Africa                       Botswana\n",
      "4     Africa                        Burkina\n",
      "5     Africa                        Burundi\n",
      "6     Africa                       Cameroon\n",
      "7     Africa                     Cape Verde\n",
      "8     Africa       Central African Republic\n",
      "9     Africa                           Chad\n",
      "10    Africa                        Comoros\n",
      "11    Africa                          Congo\n",
      "12    Africa  Congo, Democratic Republic of\n",
      "13    Africa                       Djibouti\n",
      "14    Africa                          Egypt\n",
      "15    Africa              Equatorial Guinea\n",
      "16    Africa                        Eritrea\n",
      "17    Africa                       Ethiopia\n",
      "18    Africa                          Gabon\n",
      "19    Africa                         Gambia\n",
      "20    Africa                          Ghana\n",
      "21    Africa                         Guinea\n",
      "22    Africa                  Guinea-Bissau\n",
      "23    Africa                    Ivory Coast\n",
      "24    Africa                          Kenya\n",
      "25    Africa                        Lesotho\n",
      "26    Africa                        Liberia\n",
      "27    Africa                          Libya\n",
      "28    Africa                     Madagascar\n",
      "29    Africa                         Malawi\n",
      "30    Africa                           Mali\n",
      "31    Africa                     Mauritania\n",
      "32    Africa                      Mauritius\n",
      "33    Africa                        Morocco\n",
      "34    Africa                     Mozambique\n",
      "35    Africa                        Namibia\n",
      "36    Africa                          Niger\n",
      "37    Africa                        Nigeria\n",
      "38    Africa                         Rwanda\n",
      "39    Africa          Sao Tome and Principe\n",
      "40    Africa                        Senegal\n",
      "41    Africa                     Seychelles\n",
      "42    Africa                   Sierra Leone\n",
      "43    Africa                        Somalia\n",
      "44    Africa                   South Africa\n",
      "45    Africa                    South Sudan\n",
      "46    Africa                          Sudan\n",
      "47    Africa                      Swaziland\n",
      "48    Africa                       Tanzania\n",
      "49    Africa                           Togo\n",
      "50    Africa                        Tunisia\n",
      "51    Africa                         Uganda\n",
      "52    Africa                         Zambia\n",
      "53    Africa                       Zimbabwe\n"
     ]
    }
   ],
   "source": [
    "# 6. define a DataFrame with all African countries\n",
    "africa = df[df['continent']=='Africa']\n",
    "print(africa)\n",
    "\n"
   ]
  },
  {
   "cell_type": "code",
   "execution_count": 56,
   "metadata": {},
   "outputs": [
    {
     "name": "stdout",
     "output_type": "stream",
     "text": [
      "   continent               country\n",
      "80      Asia                 Nepal\n",
      "81      Asia                  Oman\n",
      "82      Asia              Pakistan\n",
      "83      Asia           Philippines\n",
      "84      Asia                 Qatar\n",
      "85      Asia    Russian Federation\n",
      "86      Asia          Saudi Arabia\n",
      "87      Asia             Singapore\n",
      "88      Asia             Sri Lanka\n",
      "89      Asia                 Syria\n",
      "90      Asia            Tajikistan\n",
      "91      Asia              Thailand\n",
      "92      Asia                Turkey\n",
      "93      Asia          Turkmenistan\n",
      "94      Asia  United Arab Emirates\n",
      "95      Asia            Uzbekistan\n",
      "96      Asia               Vietnam\n",
      "97      Asia                 Yemen\n",
      "98    Europe               Albania\n",
      "99    Europe               Andorra\n"
     ]
    }
   ],
   "source": [
    "\n",
    "\n",
    "# 7. define a DataFrame with countries 80 through 100\n",
    "subset = df.iloc[80:100]\n",
    "print(subset)\n",
    "\n"
   ]
  },
  {
   "cell_type": "code",
   "execution_count": 57,
   "metadata": {},
   "outputs": [
    {
     "name": "stdout",
     "output_type": "stream",
     "text": [
      "         continent                   country\n",
      "0           Africa                   Algeria\n",
      "2           Africa                     Benin\n",
      "4           Africa                   Burkina\n",
      "6           Africa                  Cameroon\n",
      "8           Africa  Central African Republic\n",
      "..             ...                       ...\n",
      "184  South America                    Brazil\n",
      "186  South America                  Colombia\n",
      "188  South America                    Guyana\n",
      "190  South America                      Peru\n",
      "192  South America                   Uruguay\n",
      "\n",
      "[97 rows x 2 columns]\n"
     ]
    }
   ],
   "source": [
    "# 8. select every second country (Fix: I am sure there should be a better solution...)\n",
    "even_nums = [2*k for k in range(97)]\n",
    "subset = df.iloc[even_nums]\n",
    "print(subset)"
   ]
  }
 ],
 "metadata": {
  "interpreter": {
   "hash": "1176dccf5d3f1c036919b9f3644c37831cdd5b829b24d40fe91effe3f2be110d"
  },
  "kernelspec": {
   "display_name": "Python 3 (ipykernel)",
   "language": "python",
   "name": "python3"
  },
  "language_info": {
   "codemirror_mode": {
    "name": "ipython",
    "version": 3
   },
   "file_extension": ".py",
   "mimetype": "text/x-python",
   "name": "python",
   "nbconvert_exporter": "python",
   "pygments_lexer": "ipython3",
   "version": "3.9.7"
  }
 },
 "nbformat": 4,
 "nbformat_minor": 4
}
