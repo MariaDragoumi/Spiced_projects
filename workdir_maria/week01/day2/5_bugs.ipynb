{
 "cells": [
  {
   "cell_type": "code",
   "execution_count": 11,
   "metadata": {},
   "outputs": [
    {
     "name": "stdout",
     "output_type": "stream",
     "text": [
      "                          name  participants\n",
      "2  Tensor ThymeLinear Lavender             9\n",
      "3     Artificial Neural Nutmeg             9\n",
      "4        Polynomial Peppermint             9\n",
      "5              Sigmoid Saffron             8\n",
      "1               Bayesian Basil             6\n",
      "0        One-Hot Chili Peppers             2\n",
      "\n",
      "total participants: 0    2\n",
      "1    6\n",
      "2    9\n",
      "3    9\n",
      "4    9\n",
      "5    8\n",
      "dtype: int64\n"
     ]
    },
    {
     "name": "stderr",
     "output_type": "stream",
     "text": [
      "/var/folders/c4/jkw5wy1d7lndc6p4y832vmrc0000gn/T/ipykernel_6700/555752716.py:19: FutureWarning: Dropping of nuisance columns in DataFrame reductions (with 'numeric_only=None') is deprecated; in a future version this will raise TypeError.  Select only valid columns before calling the reduction.\n",
      "  print(\"\\ntotal participants:\", df.sum( axis = 1))\n"
     ]
    }
   ],
   "source": [
    "import pandas as pd\n",
    "\n",
    "spices = ['One-Hot Chili Peppers',\n",
    "          'Bayesian Basil',\n",
    "          'Tensor Thyme'\n",
    "          'Linear Lavender',\n",
    "          'Artificial Neural Nutmeg',\n",
    "          'Polynomial Peppermint',\n",
    "          'Sigmoid Saffron'\n",
    "          ]\n",
    "participants = [2, 6, 9, 9, 9, 8]\n",
    "\n",
    "df = pd.DataFrame({'name': spices,\n",
    "                   'participants': participants\n",
    "                   })\n",
    "\n",
    "print(df.sort_values(by='participants', ascending=False))\n",
    "\n",
    "print(\"\\ntotal participants:\", df.sum( axis = 1))"
   ]
  }
 ],
 "metadata": {
  "interpreter": {
   "hash": "1176dccf5d3f1c036919b9f3644c37831cdd5b829b24d40fe91effe3f2be110d"
  },
  "kernelspec": {
   "display_name": "Python 3 (ipykernel)",
   "language": "python",
   "name": "python3"
  },
  "language_info": {
   "codemirror_mode": {
    "name": "ipython",
    "version": 3
   },
   "file_extension": ".py",
   "mimetype": "text/x-python",
   "name": "python",
   "nbconvert_exporter": "python",
   "pygments_lexer": "ipython3",
   "version": "3.9.7"
  }
 },
 "nbformat": 4,
 "nbformat_minor": 4
}
