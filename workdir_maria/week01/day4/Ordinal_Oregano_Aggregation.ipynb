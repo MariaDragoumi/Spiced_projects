{
 "cells": [
  {
   "cell_type": "markdown",
   "id": "09e903e0",
   "metadata": {},
   "source": [
    "# Aggregation 📚"
   ]
  },
  {
   "cell_type": "markdown",
   "id": "dd48c1a4",
   "metadata": {},
   "source": [
    "### After this session you should be able to \n",
    "- apply different aggregation methods to your datasets\n",
    "- explain in your own words what .groupby() does and apply it to your datasets\n",
    "- use .groupby() in combination with different methods (including plotting)"
   ]
  },
  {
   "cell_type": "code",
   "execution_count": 16,
   "id": "13cc9de7",
   "metadata": {},
   "outputs": [],
   "source": [
    "import pandas as pd\n",
    "import numpy as np\n",
    "    "
   ]
  },
  {
   "cell_type": "code",
   "execution_count": 17,
   "id": "661f4bb8",
   "metadata": {},
   "outputs": [
    {
     "name": "stdout",
     "output_type": "stream",
     "text": [
      "<class 'pandas.core.frame.DataFrame'>\n",
      "RangeIndex: 12 entries, 0 to 11\n",
      "Data columns (total 4 columns):\n",
      " #   Column      Non-Null Count  Dtype  \n",
      "---  ------      --------------  -----  \n",
      " 0   country     12 non-null     object \n",
      " 1   population  12 non-null     float64\n",
      " 2   fertility   12 non-null     float64\n",
      " 3   continent   12 non-null     object \n",
      "dtypes: float64(2), object(2)\n",
      "memory usage: 512.0+ bytes\n"
     ]
    }
   ],
   "source": [
    "df = pd.read_csv('large_countries_2015.csv',sep = ',')\n",
    "df.info()"
   ]
  },
  {
   "cell_type": "code",
   "execution_count": 18,
   "id": "58a6df94",
   "metadata": {},
   "outputs": [
    {
     "data": {
      "text/plain": [
       "country       BangladeshBrazilChinaIndiaIndonesiaJapanMexico...\n",
       "population                                         4504153940.0\n",
       "fertility                                                 29.25\n",
       "continent     AsiaSouth AmericaAsiaAsiaAsiaAsiaNorth America...\n",
       "dtype: object"
      ]
     },
     "execution_count": 18,
     "metadata": {},
     "output_type": "execute_result"
    }
   ],
   "source": [
    "df.sum()"
   ]
  },
  {
   "cell_type": "code",
   "execution_count": 19,
   "id": "b581ee04",
   "metadata": {},
   "outputs": [
    {
     "data": {
      "text/plain": [
       "4504153940.0"
      ]
     },
     "execution_count": 19,
     "metadata": {},
     "output_type": "execute_result"
    }
   ],
   "source": [
    "df['population'].sum()\n",
    "#not suitable for categoriacal data"
   ]
  },
  {
   "cell_type": "code",
   "execution_count": 20,
   "id": "dded2b79",
   "metadata": {},
   "outputs": [
    {
     "data": {
      "text/plain": [
       "population    4.504154e+09\n",
       "fertility     2.925000e+01\n",
       "dtype: float64"
      ]
     },
     "execution_count": 20,
     "metadata": {},
     "output_type": "execute_result"
    }
   ],
   "source": [
    "df.sum(numeric_only= True)"
   ]
  },
  {
   "cell_type": "code",
   "execution_count": 21,
   "id": "1dc4cebe",
   "metadata": {},
   "outputs": [
    {
     "data": {
      "text/plain": [
       "12"
      ]
     },
     "execution_count": 21,
     "metadata": {},
     "output_type": "execute_result"
    }
   ],
   "source": [
    "df['country'].count()\n",
    "df['population'].count()"
   ]
  },
  {
   "cell_type": "code",
   "execution_count": 22,
   "id": "b5a70e34",
   "metadata": {},
   "outputs": [
    {
     "data": {
      "text/plain": [
       "Bangladesh       1\n",
       "Brazil           1\n",
       "China            1\n",
       "India            1\n",
       "Indonesia        1\n",
       "Japan            1\n",
       "Mexico           1\n",
       "Nigeria          1\n",
       "Pakistan         1\n",
       "Philippines      1\n",
       "Russia           1\n",
       "United States    1\n",
       "Name: country, dtype: int64"
      ]
     },
     "execution_count": 22,
     "metadata": {},
     "output_type": "execute_result"
    }
   ],
   "source": [
    "df['country'].value_counts()"
   ]
  },
  {
   "cell_type": "code",
   "execution_count": 23,
   "id": "8b74ed70",
   "metadata": {},
   "outputs": [
    {
     "data": {
      "text/plain": [
       "Bangladesh       0.083333\n",
       "Brazil           0.083333\n",
       "China            0.083333\n",
       "India            0.083333\n",
       "Indonesia        0.083333\n",
       "Japan            0.083333\n",
       "Mexico           0.083333\n",
       "Nigeria          0.083333\n",
       "Pakistan         0.083333\n",
       "Philippines      0.083333\n",
       "Russia           0.083333\n",
       "United States    0.083333\n",
       "Name: country, dtype: float64"
      ]
     },
     "execution_count": 23,
     "metadata": {},
     "output_type": "execute_result"
    }
   ],
   "source": [
    "df['country'].value_counts(normalize= True)"
   ]
  },
  {
   "cell_type": "code",
   "execution_count": 24,
   "id": "27851b38",
   "metadata": {},
   "outputs": [
    {
     "data": {
      "text/html": [
       "<div>\n",
       "<style scoped>\n",
       "    .dataframe tbody tr th:only-of-type {\n",
       "        vertical-align: middle;\n",
       "    }\n",
       "\n",
       "    .dataframe tbody tr th {\n",
       "        vertical-align: top;\n",
       "    }\n",
       "\n",
       "    .dataframe thead th {\n",
       "        text-align: right;\n",
       "    }\n",
       "</style>\n",
       "<table border=\"1\" class=\"dataframe\">\n",
       "  <thead>\n",
       "    <tr style=\"text-align: right;\">\n",
       "      <th></th>\n",
       "      <th>population</th>\n",
       "      <th>fertility</th>\n",
       "    </tr>\n",
       "  </thead>\n",
       "  <tbody>\n",
       "    <tr>\n",
       "      <th>count</th>\n",
       "      <td>1.200000e+01</td>\n",
       "      <td>12.000000</td>\n",
       "    </tr>\n",
       "    <tr>\n",
       "      <th>mean</th>\n",
       "      <td>3.753462e+08</td>\n",
       "      <td>2.437500</td>\n",
       "    </tr>\n",
       "    <tr>\n",
       "      <th>std</th>\n",
       "      <td>4.565194e+08</td>\n",
       "      <td>1.200781</td>\n",
       "    </tr>\n",
       "    <tr>\n",
       "      <th>min</th>\n",
       "      <td>1.006994e+08</td>\n",
       "      <td>1.450000</td>\n",
       "    </tr>\n",
       "    <tr>\n",
       "      <th>25%</th>\n",
       "      <td>1.393470e+08</td>\n",
       "      <td>1.737500</td>\n",
       "    </tr>\n",
       "    <tr>\n",
       "      <th>50%</th>\n",
       "      <td>1.855634e+08</td>\n",
       "      <td>2.125000</td>\n",
       "    </tr>\n",
       "    <tr>\n",
       "      <th>75%</th>\n",
       "      <td>2.736163e+08</td>\n",
       "      <td>2.567500</td>\n",
       "    </tr>\n",
       "    <tr>\n",
       "      <th>max</th>\n",
       "      <td>1.376049e+09</td>\n",
       "      <td>5.890000</td>\n",
       "    </tr>\n",
       "  </tbody>\n",
       "</table>\n",
       "</div>"
      ],
      "text/plain": [
       "         population  fertility\n",
       "count  1.200000e+01  12.000000\n",
       "mean   3.753462e+08   2.437500\n",
       "std    4.565194e+08   1.200781\n",
       "min    1.006994e+08   1.450000\n",
       "25%    1.393470e+08   1.737500\n",
       "50%    1.855634e+08   2.125000\n",
       "75%    2.736163e+08   2.567500\n",
       "max    1.376049e+09   5.890000"
      ]
     },
     "execution_count": 24,
     "metadata": {},
     "output_type": "execute_result"
    }
   ],
   "source": [
    "df.describe()"
   ]
  },
  {
   "cell_type": "code",
   "execution_count": 25,
   "id": "e2ec8339",
   "metadata": {},
   "outputs": [
    {
     "data": {
      "text/html": [
       "<div>\n",
       "<style scoped>\n",
       "    .dataframe tbody tr th:only-of-type {\n",
       "        vertical-align: middle;\n",
       "    }\n",
       "\n",
       "    .dataframe tbody tr th {\n",
       "        vertical-align: top;\n",
       "    }\n",
       "\n",
       "    .dataframe thead th {\n",
       "        text-align: right;\n",
       "    }\n",
       "</style>\n",
       "<table border=\"1\" class=\"dataframe\">\n",
       "  <thead>\n",
       "    <tr style=\"text-align: right;\">\n",
       "      <th></th>\n",
       "      <th>count</th>\n",
       "      <th>mean</th>\n",
       "      <th>std</th>\n",
       "      <th>min</th>\n",
       "      <th>25%</th>\n",
       "      <th>50%</th>\n",
       "      <th>75%</th>\n",
       "      <th>max</th>\n",
       "    </tr>\n",
       "  </thead>\n",
       "  <tbody>\n",
       "    <tr>\n",
       "      <th>population</th>\n",
       "      <td>12.0</td>\n",
       "      <td>3.753462e+08</td>\n",
       "      <td>4.565194e+08</td>\n",
       "      <td>1.006994e+08</td>\n",
       "      <td>1.393470e+08</td>\n",
       "      <td>1.855634e+08</td>\n",
       "      <td>2.736163e+08</td>\n",
       "      <td>1.376049e+09</td>\n",
       "    </tr>\n",
       "    <tr>\n",
       "      <th>fertility</th>\n",
       "      <td>12.0</td>\n",
       "      <td>2.437500e+00</td>\n",
       "      <td>1.200781e+00</td>\n",
       "      <td>1.450000e+00</td>\n",
       "      <td>1.737500e+00</td>\n",
       "      <td>2.125000e+00</td>\n",
       "      <td>2.567500e+00</td>\n",
       "      <td>5.890000e+00</td>\n",
       "    </tr>\n",
       "  </tbody>\n",
       "</table>\n",
       "</div>"
      ],
      "text/plain": [
       "            count          mean           std           min           25%  \\\n",
       "population   12.0  3.753462e+08  4.565194e+08  1.006994e+08  1.393470e+08   \n",
       "fertility    12.0  2.437500e+00  1.200781e+00  1.450000e+00  1.737500e+00   \n",
       "\n",
       "                     50%           75%           max  \n",
       "population  1.855634e+08  2.736163e+08  1.376049e+09  \n",
       "fertility   2.125000e+00  2.567500e+00  5.890000e+00  "
      ]
     },
     "execution_count": 25,
     "metadata": {},
     "output_type": "execute_result"
    }
   ],
   "source": [
    "df.describe().transpose()"
   ]
  },
  {
   "cell_type": "code",
   "execution_count": 26,
   "id": "9a474ae8",
   "metadata": {},
   "outputs": [
    {
     "data": {
      "text/plain": [
       "population    3.753462e+08\n",
       "fertility     2.125000e+00\n",
       "dtype: float64"
      ]
     },
     "execution_count": 26,
     "metadata": {},
     "output_type": "execute_result"
    }
   ],
   "source": [
    "df.agg(\n",
    "    {'population':'mean',\n",
    "    'fertility':'median'}\n",
    ")"
   ]
  },
  {
   "cell_type": "code",
   "execution_count": 27,
   "id": "8455d9a0",
   "metadata": {},
   "outputs": [
    {
     "data": {
      "text/html": [
       "<div>\n",
       "<style scoped>\n",
       "    .dataframe tbody tr th:only-of-type {\n",
       "        vertical-align: middle;\n",
       "    }\n",
       "\n",
       "    .dataframe tbody tr th {\n",
       "        vertical-align: top;\n",
       "    }\n",
       "\n",
       "    .dataframe thead th {\n",
       "        text-align: right;\n",
       "    }\n",
       "</style>\n",
       "<table border=\"1\" class=\"dataframe\">\n",
       "  <thead>\n",
       "    <tr style=\"text-align: right;\">\n",
       "      <th></th>\n",
       "      <th>population</th>\n",
       "      <th>fertility</th>\n",
       "    </tr>\n",
       "  </thead>\n",
       "  <tbody>\n",
       "    <tr>\n",
       "      <th>mean</th>\n",
       "      <td>3.753462e+08</td>\n",
       "      <td>2.437500</td>\n",
       "    </tr>\n",
       "    <tr>\n",
       "      <th>median</th>\n",
       "      <td>1.855634e+08</td>\n",
       "      <td>2.125000</td>\n",
       "    </tr>\n",
       "    <tr>\n",
       "      <th>std</th>\n",
       "      <td>4.565194e+08</td>\n",
       "      <td>1.200781</td>\n",
       "    </tr>\n",
       "  </tbody>\n",
       "</table>\n",
       "</div>"
      ],
      "text/plain": [
       "          population  fertility\n",
       "mean    3.753462e+08   2.437500\n",
       "median  1.855634e+08   2.125000\n",
       "std     4.565194e+08   1.200781"
      ]
     },
     "execution_count": 27,
     "metadata": {},
     "output_type": "execute_result"
    }
   ],
   "source": [
    "df.agg(['mean','median','std'])"
   ]
  },
  {
   "cell_type": "code",
   "execution_count": 28,
   "id": "6b9a620d",
   "metadata": {},
   "outputs": [
    {
     "ename": "ValueError",
     "evalue": "cannot perform both aggregation and transformation operations simultaneously",
     "output_type": "error",
     "traceback": [
      "\u001b[0;31m---------------------------------------------------------------------------\u001b[0m",
      "\u001b[0;31mValueError\u001b[0m                                Traceback (most recent call last)",
      "\u001b[0;32m/var/folders/c4/jkw5wy1d7lndc6p4y832vmrc0000gn/T/ipykernel_12813/204896941.py\u001b[0m in \u001b[0;36m<module>\u001b[0;34m\u001b[0m\n\u001b[1;32m      2\u001b[0m     \u001b[0;32mreturn\u001b[0m \u001b[0;36m2\u001b[0m\u001b[0;34m*\u001b[0m\u001b[0mx\u001b[0m\u001b[0;34m\u001b[0m\u001b[0;34m\u001b[0m\u001b[0m\n\u001b[1;32m      3\u001b[0m \u001b[0;34m\u001b[0m\u001b[0m\n\u001b[0;32m----> 4\u001b[0;31m df.agg(\n\u001b[0m\u001b[1;32m      5\u001b[0m     {'population':'mean',\n\u001b[1;32m      6\u001b[0m     \u001b[0;34m'fertility'\u001b[0m\u001b[0;34m:\u001b[0m\u001b[0mfunction_double\u001b[0m\u001b[0;34m,\u001b[0m  \u001b[0;31m#Cannot do it simultaneously\u001b[0m\u001b[0;34m\u001b[0m\u001b[0;34m\u001b[0m\u001b[0m\n",
      "\u001b[0;32m~/opt/anaconda3/lib/python3.9/site-packages/pandas/core/frame.py\u001b[0m in \u001b[0;36maggregate\u001b[0;34m(self, func, axis, *args, **kwargs)\u001b[0m\n\u001b[1;32m   8548\u001b[0m \u001b[0;34m\u001b[0m\u001b[0m\n\u001b[1;32m   8549\u001b[0m         \u001b[0mop\u001b[0m \u001b[0;34m=\u001b[0m \u001b[0mframe_apply\u001b[0m\u001b[0;34m(\u001b[0m\u001b[0mself\u001b[0m\u001b[0;34m,\u001b[0m \u001b[0mfunc\u001b[0m\u001b[0;34m=\u001b[0m\u001b[0mfunc\u001b[0m\u001b[0;34m,\u001b[0m \u001b[0maxis\u001b[0m\u001b[0;34m=\u001b[0m\u001b[0maxis\u001b[0m\u001b[0;34m,\u001b[0m \u001b[0margs\u001b[0m\u001b[0;34m=\u001b[0m\u001b[0margs\u001b[0m\u001b[0;34m,\u001b[0m \u001b[0mkwargs\u001b[0m\u001b[0;34m=\u001b[0m\u001b[0mkwargs\u001b[0m\u001b[0;34m)\u001b[0m\u001b[0;34m\u001b[0m\u001b[0;34m\u001b[0m\u001b[0m\n\u001b[0;32m-> 8550\u001b[0;31m         \u001b[0mresult\u001b[0m \u001b[0;34m=\u001b[0m \u001b[0mop\u001b[0m\u001b[0;34m.\u001b[0m\u001b[0magg\u001b[0m\u001b[0;34m(\u001b[0m\u001b[0;34m)\u001b[0m\u001b[0;34m\u001b[0m\u001b[0;34m\u001b[0m\u001b[0m\n\u001b[0m\u001b[1;32m   8551\u001b[0m \u001b[0;34m\u001b[0m\u001b[0m\n\u001b[1;32m   8552\u001b[0m         \u001b[0;32mif\u001b[0m \u001b[0mrelabeling\u001b[0m\u001b[0;34m:\u001b[0m\u001b[0;34m\u001b[0m\u001b[0;34m\u001b[0m\u001b[0m\n",
      "\u001b[0;32m~/opt/anaconda3/lib/python3.9/site-packages/pandas/core/apply.py\u001b[0m in \u001b[0;36magg\u001b[0;34m(self)\u001b[0m\n\u001b[1;32m    698\u001b[0m         \u001b[0mresult\u001b[0m \u001b[0;34m=\u001b[0m \u001b[0;32mNone\u001b[0m\u001b[0;34m\u001b[0m\u001b[0;34m\u001b[0m\u001b[0m\n\u001b[1;32m    699\u001b[0m         \u001b[0;32mtry\u001b[0m\u001b[0;34m:\u001b[0m\u001b[0;34m\u001b[0m\u001b[0;34m\u001b[0m\u001b[0m\n\u001b[0;32m--> 700\u001b[0;31m             \u001b[0mresult\u001b[0m \u001b[0;34m=\u001b[0m \u001b[0msuper\u001b[0m\u001b[0;34m(\u001b[0m\u001b[0;34m)\u001b[0m\u001b[0;34m.\u001b[0m\u001b[0magg\u001b[0m\u001b[0;34m(\u001b[0m\u001b[0;34m)\u001b[0m\u001b[0;34m\u001b[0m\u001b[0;34m\u001b[0m\u001b[0m\n\u001b[0m\u001b[1;32m    701\u001b[0m         \u001b[0;32mexcept\u001b[0m \u001b[0mTypeError\u001b[0m \u001b[0;32mas\u001b[0m \u001b[0merr\u001b[0m\u001b[0;34m:\u001b[0m\u001b[0;34m\u001b[0m\u001b[0;34m\u001b[0m\u001b[0m\n\u001b[1;32m    702\u001b[0m             exc = TypeError(\n",
      "\u001b[0;32m~/opt/anaconda3/lib/python3.9/site-packages/pandas/core/apply.py\u001b[0m in \u001b[0;36magg\u001b[0;34m(self)\u001b[0m\n\u001b[1;32m    159\u001b[0m \u001b[0;34m\u001b[0m\u001b[0m\n\u001b[1;32m    160\u001b[0m         \u001b[0;32mif\u001b[0m \u001b[0mis_dict_like\u001b[0m\u001b[0;34m(\u001b[0m\u001b[0marg\u001b[0m\u001b[0;34m)\u001b[0m\u001b[0;34m:\u001b[0m\u001b[0;34m\u001b[0m\u001b[0;34m\u001b[0m\u001b[0m\n\u001b[0;32m--> 161\u001b[0;31m             \u001b[0;32mreturn\u001b[0m \u001b[0mself\u001b[0m\u001b[0;34m.\u001b[0m\u001b[0magg_dict_like\u001b[0m\u001b[0;34m(\u001b[0m\u001b[0;34m)\u001b[0m\u001b[0;34m\u001b[0m\u001b[0;34m\u001b[0m\u001b[0m\n\u001b[0m\u001b[1;32m    162\u001b[0m         \u001b[0;32melif\u001b[0m \u001b[0mis_list_like\u001b[0m\u001b[0;34m(\u001b[0m\u001b[0marg\u001b[0m\u001b[0;34m)\u001b[0m\u001b[0;34m:\u001b[0m\u001b[0;34m\u001b[0m\u001b[0;34m\u001b[0m\u001b[0m\n\u001b[1;32m    163\u001b[0m             \u001b[0;31m# we require a list, but not a 'str'\u001b[0m\u001b[0;34m\u001b[0m\u001b[0;34m\u001b[0m\u001b[0m\n",
      "\u001b[0;32m~/opt/anaconda3/lib/python3.9/site-packages/pandas/core/apply.py\u001b[0m in \u001b[0;36magg_dict_like\u001b[0;34m(self)\u001b[0m\n\u001b[1;32m    462\u001b[0m         \u001b[0;32melif\u001b[0m \u001b[0many\u001b[0m\u001b[0;34m(\u001b[0m\u001b[0mis_ndframe\u001b[0m\u001b[0;34m)\u001b[0m\u001b[0;34m:\u001b[0m\u001b[0;34m\u001b[0m\u001b[0;34m\u001b[0m\u001b[0m\n\u001b[1;32m    463\u001b[0m             \u001b[0;31m# There is a mix of NDFrames and scalars\u001b[0m\u001b[0;34m\u001b[0m\u001b[0;34m\u001b[0m\u001b[0m\n\u001b[0;32m--> 464\u001b[0;31m             raise ValueError(\n\u001b[0m\u001b[1;32m    465\u001b[0m                 \u001b[0;34m\"cannot perform both aggregation \"\u001b[0m\u001b[0;34m\u001b[0m\u001b[0;34m\u001b[0m\u001b[0m\n\u001b[1;32m    466\u001b[0m                 \u001b[0;34m\"and transformation operations \"\u001b[0m\u001b[0;34m\u001b[0m\u001b[0;34m\u001b[0m\u001b[0m\n",
      "\u001b[0;31mValueError\u001b[0m: cannot perform both aggregation and transformation operations simultaneously"
     ]
    }
   ],
   "source": [
    "def function_double(x):\n",
    "    return 2*x\n",
    "\n",
    "df.agg(\n",
    "    {'population':'mean',\n",
    "    'fertility':function_double,  #Cannot do it simultaneously\n",
    "    }\n",
    ")"
   ]
  },
  {
   "cell_type": "code",
   "execution_count": null,
   "id": "7d82163b",
   "metadata": {},
   "outputs": [],
   "source": []
  },
  {
   "cell_type": "markdown",
   "id": "79c107ff",
   "metadata": {},
   "source": [
    "## 1. Applying aggregation methods: "
   ]
  },
  {
   "cell_type": "markdown",
   "id": "f213cb72",
   "metadata": {},
   "source": [
    "Let's apply some aggregation methods!\n",
    "Intuition of \"aggregation\": take some rows, apply some kind of \"operation\" on them and return a resumed version of these rows."
   ]
  },
  {
   "cell_type": "code",
   "execution_count": null,
   "id": "0d6a083e",
   "metadata": {},
   "outputs": [],
   "source": []
  },
  {
   "cell_type": "code",
   "execution_count": null,
   "id": "8f51206d",
   "metadata": {},
   "outputs": [],
   "source": []
  },
  {
   "cell_type": "code",
   "execution_count": null,
   "id": "522b7d9e",
   "metadata": {},
   "outputs": [],
   "source": []
  },
  {
   "cell_type": "markdown",
   "id": "6d9364a3",
   "metadata": {},
   "source": [
    "## 2. .groupby()!"
   ]
  },
  {
   "cell_type": "markdown",
   "id": "3d8234a9",
   "metadata": {},
   "source": [
    "What DOES .groupby() actually do?\n",
    "1. it **splits** the data\n",
    "2. it **applies** some kind of operation ON THE GROUPED data\n",
    "3. it **combines** the data back into a new (pandas) object (i.e. series or dataframe)"
   ]
  },
  {
   "cell_type": "code",
   "execution_count": null,
   "id": "c9fd3096",
   "metadata": {},
   "outputs": [
    {
     "name": "stdout",
     "output_type": "stream",
     "text": [
      "<class 'pandas.core.groupby.generic.DataFrameGroupBy'>\n",
      "<class 'pandas.core.frame.DataFrame'>\n"
     ]
    }
   ],
   "source": [
    "g = df.groupby('continent')\n",
    "print(type(g))\n",
    "print(type(df))"
   ]
  },
  {
   "cell_type": "code",
   "execution_count": null,
   "id": "8f08f474",
   "metadata": {},
   "outputs": [
    {
     "name": "stdout",
     "output_type": "stream",
     "text": [
      "Africa\n",
      "   country   population  fertility continent\n",
      "7  Nigeria  182201962.0       5.89    Africa\n",
      "\n",
      "\n",
      "Asia\n",
      "       country    population  fertility continent\n",
      "0   Bangladesh  1.609956e+08       2.12      Asia\n",
      "2        China  1.376049e+09       1.57      Asia\n",
      "3        India  1.311051e+09       2.43      Asia\n",
      "4    Indonesia  2.575638e+08       2.28      Asia\n",
      "5        Japan  1.265735e+08       1.45      Asia\n",
      "8     Pakistan  1.889249e+08       3.04      Asia\n",
      "9  Philippines  1.006994e+08       2.98      Asia\n",
      "\n",
      "\n",
      "Europe\n",
      "   country   population  fertility continent\n",
      "10  Russia  143456918.0       1.61    Europe\n",
      "\n",
      "\n",
      "North America\n",
      "          country   population  fertility      continent\n",
      "6          Mexico  127017224.0       2.13  North America\n",
      "11  United States  321773631.0       1.97  North America\n",
      "\n",
      "\n",
      "South America\n",
      "  country   population  fertility      continent\n",
      "1  Brazil  207847528.0       1.78  South America\n",
      "\n",
      "\n"
     ]
    }
   ],
   "source": [
    "for continents, group in g:\n",
    "    print(continents)\n",
    "    print(group)\n",
    "    print('\\n')"
   ]
  },
  {
   "cell_type": "code",
   "execution_count": null,
   "id": "531e2623",
   "metadata": {},
   "outputs": [
    {
     "name": "stdout",
     "output_type": "stream",
     "text": [
      "Africa    country   population  fertility continent\n",
      "7  Nigeria  182201962.0       5.89    Africa\n",
      "Asia        country    population  fertility continent\n",
      "0   Bangladesh  1.609956e+08       2.12      Asia\n",
      "2        China  1.376049e+09       1.57      Asia\n",
      "3        India  1.311051e+09       2.43      Asia\n",
      "4    Indonesia  2.575638e+08       2.28      Asia\n",
      "5        Japan  1.265735e+08       1.45      Asia\n",
      "8     Pakistan  1.889249e+08       3.04      Asia\n",
      "9  Philippines  1.006994e+08       2.98      Asia\n",
      "Europe    country   population  fertility continent\n",
      "10  Russia  143456918.0       1.61    Europe\n",
      "North America           country   population  fertility      continent\n",
      "6          Mexico  127017224.0       2.13  North America\n",
      "11  United States  321773631.0       1.97  North America\n",
      "South America   country   population  fertility      continent\n",
      "1  Brazil  207847528.0       1.78  South America\n"
     ]
    }
   ],
   "source": [
    "for continents, group in g:\n",
    "    print(continents, group)"
   ]
  },
  {
   "cell_type": "code",
   "execution_count": null,
   "id": "c52b4cc8",
   "metadata": {},
   "outputs": [
    {
     "data": {
      "text/html": [
       "<div>\n",
       "<style scoped>\n",
       "    .dataframe tbody tr th:only-of-type {\n",
       "        vertical-align: middle;\n",
       "    }\n",
       "\n",
       "    .dataframe tbody tr th {\n",
       "        vertical-align: top;\n",
       "    }\n",
       "\n",
       "    .dataframe thead th {\n",
       "        text-align: right;\n",
       "    }\n",
       "</style>\n",
       "<table border=\"1\" class=\"dataframe\">\n",
       "  <thead>\n",
       "    <tr style=\"text-align: right;\">\n",
       "      <th></th>\n",
       "      <th>country</th>\n",
       "      <th>population</th>\n",
       "      <th>fertility</th>\n",
       "      <th>continent</th>\n",
       "    </tr>\n",
       "  </thead>\n",
       "  <tbody>\n",
       "    <tr>\n",
       "      <th>0</th>\n",
       "      <td>Bangladesh</td>\n",
       "      <td>1.609956e+08</td>\n",
       "      <td>2.12</td>\n",
       "      <td>Asia</td>\n",
       "    </tr>\n",
       "    <tr>\n",
       "      <th>2</th>\n",
       "      <td>China</td>\n",
       "      <td>1.376049e+09</td>\n",
       "      <td>1.57</td>\n",
       "      <td>Asia</td>\n",
       "    </tr>\n",
       "    <tr>\n",
       "      <th>3</th>\n",
       "      <td>India</td>\n",
       "      <td>1.311051e+09</td>\n",
       "      <td>2.43</td>\n",
       "      <td>Asia</td>\n",
       "    </tr>\n",
       "    <tr>\n",
       "      <th>4</th>\n",
       "      <td>Indonesia</td>\n",
       "      <td>2.575638e+08</td>\n",
       "      <td>2.28</td>\n",
       "      <td>Asia</td>\n",
       "    </tr>\n",
       "    <tr>\n",
       "      <th>5</th>\n",
       "      <td>Japan</td>\n",
       "      <td>1.265735e+08</td>\n",
       "      <td>1.45</td>\n",
       "      <td>Asia</td>\n",
       "    </tr>\n",
       "    <tr>\n",
       "      <th>8</th>\n",
       "      <td>Pakistan</td>\n",
       "      <td>1.889249e+08</td>\n",
       "      <td>3.04</td>\n",
       "      <td>Asia</td>\n",
       "    </tr>\n",
       "    <tr>\n",
       "      <th>9</th>\n",
       "      <td>Philippines</td>\n",
       "      <td>1.006994e+08</td>\n",
       "      <td>2.98</td>\n",
       "      <td>Asia</td>\n",
       "    </tr>\n",
       "  </tbody>\n",
       "</table>\n",
       "</div>"
      ],
      "text/plain": [
       "       country    population  fertility continent\n",
       "0   Bangladesh  1.609956e+08       2.12      Asia\n",
       "2        China  1.376049e+09       1.57      Asia\n",
       "3        India  1.311051e+09       2.43      Asia\n",
       "4    Indonesia  2.575638e+08       2.28      Asia\n",
       "5        Japan  1.265735e+08       1.45      Asia\n",
       "8     Pakistan  1.889249e+08       3.04      Asia\n",
       "9  Philippines  1.006994e+08       2.98      Asia"
      ]
     },
     "execution_count": 52,
     "metadata": {},
     "output_type": "execute_result"
    }
   ],
   "source": [
    "g.get_group('Asia')"
   ]
  },
  {
   "cell_type": "code",
   "execution_count": null,
   "id": "70b00be2",
   "metadata": {},
   "outputs": [],
   "source": [
    "asia = g.get_group('Asia')\n"
   ]
  },
  {
   "cell_type": "code",
   "execution_count": null,
   "id": "5a36574f",
   "metadata": {},
   "outputs": [
    {
     "data": {
      "text/plain": [
       "continent\n",
       "Africa           1.822020e+08\n",
       "Asia             5.031224e+08\n",
       "Europe           1.434569e+08\n",
       "North America    2.243954e+08\n",
       "South America    2.078475e+08\n",
       "Name: population, dtype: float64"
      ]
     },
     "execution_count": 54,
     "metadata": {},
     "output_type": "execute_result"
    }
   ],
   "source": [
    "g['population'].mean()"
   ]
  },
  {
   "cell_type": "code",
   "execution_count": null,
   "id": "3749dfd8",
   "metadata": {},
   "outputs": [],
   "source": [
    "pop = g['population'].mean()"
   ]
  },
  {
   "cell_type": "code",
   "execution_count": null,
   "id": "b2006a34",
   "metadata": {},
   "outputs": [
    {
     "data": {
      "text/plain": [
       "pandas.core.series.Series"
      ]
     },
     "execution_count": 56,
     "metadata": {},
     "output_type": "execute_result"
    }
   ],
   "source": [
    "type(pop)"
   ]
  },
  {
   "cell_type": "code",
   "execution_count": null,
   "id": "cf304513",
   "metadata": {},
   "outputs": [
    {
     "data": {
      "text/plain": [
       "<AxesSubplot:xlabel='continent'>"
      ]
     },
     "execution_count": 58,
     "metadata": {},
     "output_type": "execute_result"
    },
    {
     "data": {
      "image/png": "[encoded data removed]",
      "text/plain": [
       "<Figure size 432x288 with 1 Axes>"
      ]
     },
     "metadata": {
      "needs_background": "light"
     },
     "output_type": "display_data"
    }
   ],
   "source": [
    "g['population'].mean().plot.bar()"
   ]
  },
  {
   "cell_type": "code",
   "execution_count": null,
   "id": "8a5942d0",
   "metadata": {},
   "outputs": [
    {
     "data": {
      "text/plain": [
       "<AxesSubplot:ylabel='continent'>"
      ]
     },
     "execution_count": 59,
     "metadata": {},
     "output_type": "execute_result"
    },
    {
     "data": {
      "image/png": "[encoded data removed]",
      "text/plain": [
       "<Figure size 432x288 with 1 Axes>"
      ]
     },
     "metadata": {
      "needs_background": "light"
     },
     "output_type": "display_data"
    }
   ],
   "source": [
    "g['population'].mean().plot.barh()"
   ]
  },
  {
   "cell_type": "code",
   "execution_count": null,
   "id": "e0b189c2",
   "metadata": {},
   "outputs": [
    {
     "data": {
      "text/plain": [
       "<AxesSubplot:ylabel='continent'>"
      ]
     },
     "execution_count": 60,
     "metadata": {},
     "output_type": "execute_result"
    },
    {
     "data": {
      "image/png": "[encoded data removed]",
      "text/plain": [
       "<Figure size 432x288 with 1 Axes>"
      ]
     },
     "metadata": {
      "needs_background": "light"
     },
     "output_type": "display_data"
    }
   ],
   "source": [
    "g[['fertility','population']].mean().plot.barh()"
   ]
  },
  {
   "cell_type": "code",
   "execution_count": null,
   "id": "99dea7ea",
   "metadata": {},
   "outputs": [],
   "source": [
    "g2 = df.groupby(['continent','country'])"
   ]
  },
  {
   "cell_type": "code",
   "execution_count": null,
   "id": "e3aa4e94",
   "metadata": {},
   "outputs": [
    {
     "name": "stdout",
     "output_type": "stream",
     "text": [
      "('Africa', 'Nigeria')\n",
      "   country   population  fertility continent\n",
      "7  Nigeria  182201962.0       5.89    Africa\n",
      "\n",
      "\n",
      "('Asia', 'Bangladesh')\n",
      "      country   population  fertility continent\n",
      "0  Bangladesh  160995642.0       2.12      Asia\n",
      "\n",
      "\n",
      "('Asia', 'China')\n",
      "  country    population  fertility continent\n",
      "2   China  1.376049e+09       1.57      Asia\n",
      "\n",
      "\n",
      "('Asia', 'India')\n",
      "  country    population  fertility continent\n",
      "3   India  1.311051e+09       2.43      Asia\n",
      "\n",
      "\n",
      "('Asia', 'Indonesia')\n",
      "     country   population  fertility continent\n",
      "4  Indonesia  257563815.0       2.28      Asia\n",
      "\n",
      "\n",
      "('Asia', 'Japan')\n",
      "  country   population  fertility continent\n",
      "5   Japan  126573481.0       1.45      Asia\n",
      "\n",
      "\n",
      "('Asia', 'Pakistan')\n",
      "    country   population  fertility continent\n",
      "8  Pakistan  188924874.0       3.04      Asia\n",
      "\n",
      "\n",
      "('Asia', 'Philippines')\n",
      "       country   population  fertility continent\n",
      "9  Philippines  100699395.0       2.98      Asia\n",
      "\n",
      "\n",
      "('Europe', 'Russia')\n",
      "   country   population  fertility continent\n",
      "10  Russia  143456918.0       1.61    Europe\n",
      "\n",
      "\n",
      "('North America', 'Mexico')\n",
      "  country   population  fertility      continent\n",
      "6  Mexico  127017224.0       2.13  North America\n",
      "\n",
      "\n",
      "('North America', 'United States')\n",
      "          country   population  fertility      continent\n",
      "11  United States  321773631.0       1.97  North America\n",
      "\n",
      "\n",
      "('South America', 'Brazil')\n",
      "  country   population  fertility      continent\n",
      "1  Brazil  207847528.0       1.78  South America\n",
      "\n",
      "\n"
     ]
    }
   ],
   "source": [
    "for continent,group in g2:\n",
    "    print(continent)\n",
    "    print(group)\n",
    "    print('\\n')"
   ]
  },
  {
   "cell_type": "code",
   "execution_count": null,
   "id": "15af8db9",
   "metadata": {},
   "outputs": [
    {
     "name": "stdout",
     "output_type": "stream",
     "text": [
      "continent      country      \n",
      "Africa         Nigeria          1.822020e+08\n",
      "Asia           Bangladesh       1.609956e+08\n",
      "               China            1.376049e+09\n",
      "               India            1.311051e+09\n",
      "               Indonesia        2.575638e+08\n",
      "               Japan            1.265735e+08\n",
      "               Pakistan         1.889249e+08\n",
      "               Philippines      1.006994e+08\n",
      "Europe         Russia           1.434569e+08\n",
      "North America  Mexico           1.270172e+08\n",
      "               United States    3.217736e+08\n",
      "South America  Brazil           2.078475e+08\n",
      "Name: population, dtype: float64\n"
     ]
    }
   ],
   "source": [
    "print(g2['population'].mean())"
   ]
  },
  {
   "cell_type": "code",
   "execution_count": null,
   "id": "34d6b68c",
   "metadata": {},
   "outputs": [
    {
     "name": "stdout",
     "output_type": "stream",
     "text": [
      "                               population\n",
      "continent     country                    \n",
      "Africa        Nigeria        1.822020e+08\n",
      "Asia          Bangladesh     1.609956e+08\n",
      "              China          1.376049e+09\n",
      "              India          1.311051e+09\n",
      "              Indonesia      2.575638e+08\n",
      "              Japan          1.265735e+08\n",
      "              Pakistan       1.889249e+08\n",
      "              Philippines    1.006994e+08\n",
      "Europe        Russia         1.434569e+08\n",
      "North America Mexico         1.270172e+08\n",
      "              United States  3.217736e+08\n",
      "South America Brazil         2.078475e+08\n"
     ]
    }
   ],
   "source": [
    "print(g2[['population']].mean())\n",
    "#returns as data frame!"
   ]
  },
  {
   "cell_type": "code",
   "execution_count": null,
   "id": "b81c56f0",
   "metadata": {},
   "outputs": [
    {
     "name": "stdout",
     "output_type": "stream",
     "text": [
      "<class 'pandas.core.series.Series'>\n",
      "<class 'pandas.core.frame.DataFrame'>\n"
     ]
    }
   ],
   "source": [
    "print(type(g2['population'].mean()))\n",
    "print(type(g2[['population']].mean()))"
   ]
  },
  {
   "cell_type": "code",
   "execution_count": null,
   "id": "91e7bf30",
   "metadata": {},
   "outputs": [
    {
     "data": {
      "text/html": [
       "<div>\n",
       "<style scoped>\n",
       "    .dataframe tbody tr th:only-of-type {\n",
       "        vertical-align: middle;\n",
       "    }\n",
       "\n",
       "    .dataframe tbody tr th {\n",
       "        vertical-align: top;\n",
       "    }\n",
       "\n",
       "    .dataframe thead th {\n",
       "        text-align: right;\n",
       "    }\n",
       "</style>\n",
       "<table border=\"1\" class=\"dataframe\">\n",
       "  <thead>\n",
       "    <tr style=\"text-align: right;\">\n",
       "      <th></th>\n",
       "      <th>population</th>\n",
       "      <th>fertility</th>\n",
       "    </tr>\n",
       "    <tr>\n",
       "      <th>continent</th>\n",
       "      <th></th>\n",
       "      <th></th>\n",
       "    </tr>\n",
       "  </thead>\n",
       "  <tbody>\n",
       "    <tr>\n",
       "      <th>Africa</th>\n",
       "      <td>1.822020e+08</td>\n",
       "      <td>11.78</td>\n",
       "    </tr>\n",
       "    <tr>\n",
       "      <th>Asia</th>\n",
       "      <td>5.031224e+08</td>\n",
       "      <td>[4.24, 3.14, 4.86, 4.56, 2.9, 6.08, 5.96]</td>\n",
       "    </tr>\n",
       "    <tr>\n",
       "      <th>Europe</th>\n",
       "      <td>1.434569e+08</td>\n",
       "      <td>3.22</td>\n",
       "    </tr>\n",
       "    <tr>\n",
       "      <th>North America</th>\n",
       "      <td>2.243954e+08</td>\n",
       "      <td>[4.26, 3.94]</td>\n",
       "    </tr>\n",
       "    <tr>\n",
       "      <th>South America</th>\n",
       "      <td>2.078475e+08</td>\n",
       "      <td>3.56</td>\n",
       "    </tr>\n",
       "  </tbody>\n",
       "</table>\n",
       "</div>"
      ],
      "text/plain": [
       "                 population                                  fertility\n",
       "continent                                                             \n",
       "Africa         1.822020e+08                                      11.78\n",
       "Asia           5.031224e+08  [4.24, 3.14, 4.86, 4.56, 2.9, 6.08, 5.96]\n",
       "Europe         1.434569e+08                                       3.22\n",
       "North America  2.243954e+08                               [4.26, 3.94]\n",
       "South America  2.078475e+08                                       3.56"
      ]
     },
     "execution_count": 66,
     "metadata": {},
     "output_type": "execute_result"
    }
   ],
   "source": [
    "g.agg(\n",
    "    {'population':'mean',\n",
    "    'fertility':function_double\n",
    "    }\n",
    ")\n",
    "#now it can do!"
   ]
  },
  {
   "cell_type": "code",
   "execution_count": null,
   "id": "f9b57e5c",
   "metadata": {},
   "outputs": [
    {
     "data": {
      "text/plain": [
       "continent      country      \n",
       "Africa         Nigeria          5.89\n",
       "Asia           Bangladesh       2.12\n",
       "               China            1.57\n",
       "               India            2.43\n",
       "               Indonesia        2.28\n",
       "               Japan            1.45\n",
       "               Pakistan         3.04\n",
       "               Philippines      2.98\n",
       "Europe         Russia           1.61\n",
       "North America  Mexico           2.13\n",
       "               United States    1.97\n",
       "South America  Brazil           1.78\n",
       "Name: fertility, dtype: float64"
      ]
     },
     "execution_count": 68,
     "metadata": {},
     "output_type": "execute_result"
    }
   ],
   "source": [
    "g3 = df.groupby(['continent','country'])['fertility'].mean()\n",
    "g3"
   ]
  },
  {
   "cell_type": "code",
   "execution_count": null,
   "id": "5e0c73fa",
   "metadata": {},
   "outputs": [
    {
     "data": {
      "text/html": [
       "<div>\n",
       "<style scoped>\n",
       "    .dataframe tbody tr th:only-of-type {\n",
       "        vertical-align: middle;\n",
       "    }\n",
       "\n",
       "    .dataframe tbody tr th {\n",
       "        vertical-align: top;\n",
       "    }\n",
       "\n",
       "    .dataframe thead th {\n",
       "        text-align: right;\n",
       "    }\n",
       "</style>\n",
       "<table border=\"1\" class=\"dataframe\">\n",
       "  <thead>\n",
       "    <tr style=\"text-align: right;\">\n",
       "      <th></th>\n",
       "      <th>population</th>\n",
       "      <th>fertility</th>\n",
       "      <th>continent</th>\n",
       "    </tr>\n",
       "  </thead>\n",
       "  <tbody>\n",
       "    <tr>\n",
       "      <th>0</th>\n",
       "      <td>3.219913e+08</td>\n",
       "      <td>4.24</td>\n",
       "      <td>AsiaAsia</td>\n",
       "    </tr>\n",
       "    <tr>\n",
       "      <th>1</th>\n",
       "      <td>4.156951e+08</td>\n",
       "      <td>3.56</td>\n",
       "      <td>South AmericaSouth America</td>\n",
       "    </tr>\n",
       "    <tr>\n",
       "      <th>2</th>\n",
       "      <td>2.752098e+09</td>\n",
       "      <td>3.14</td>\n",
       "      <td>AsiaAsia</td>\n",
       "    </tr>\n",
       "    <tr>\n",
       "      <th>3</th>\n",
       "      <td>2.622101e+09</td>\n",
       "      <td>4.86</td>\n",
       "      <td>AsiaAsia</td>\n",
       "    </tr>\n",
       "    <tr>\n",
       "      <th>4</th>\n",
       "      <td>5.151276e+08</td>\n",
       "      <td>4.56</td>\n",
       "      <td>AsiaAsia</td>\n",
       "    </tr>\n",
       "    <tr>\n",
       "      <th>5</th>\n",
       "      <td>2.531470e+08</td>\n",
       "      <td>2.90</td>\n",
       "      <td>AsiaAsia</td>\n",
       "    </tr>\n",
       "    <tr>\n",
       "      <th>6</th>\n",
       "      <td>2.540344e+08</td>\n",
       "      <td>4.26</td>\n",
       "      <td>North AmericaNorth America</td>\n",
       "    </tr>\n",
       "    <tr>\n",
       "      <th>7</th>\n",
       "      <td>3.644039e+08</td>\n",
       "      <td>11.78</td>\n",
       "      <td>AfricaAfrica</td>\n",
       "    </tr>\n",
       "    <tr>\n",
       "      <th>8</th>\n",
       "      <td>3.778497e+08</td>\n",
       "      <td>6.08</td>\n",
       "      <td>AsiaAsia</td>\n",
       "    </tr>\n",
       "    <tr>\n",
       "      <th>9</th>\n",
       "      <td>2.013988e+08</td>\n",
       "      <td>5.96</td>\n",
       "      <td>AsiaAsia</td>\n",
       "    </tr>\n",
       "    <tr>\n",
       "      <th>10</th>\n",
       "      <td>2.869138e+08</td>\n",
       "      <td>3.22</td>\n",
       "      <td>EuropeEurope</td>\n",
       "    </tr>\n",
       "    <tr>\n",
       "      <th>11</th>\n",
       "      <td>6.435473e+08</td>\n",
       "      <td>3.94</td>\n",
       "      <td>North AmericaNorth America</td>\n",
       "    </tr>\n",
       "  </tbody>\n",
       "</table>\n",
       "</div>"
      ],
      "text/plain": [
       "      population  fertility                   continent\n",
       "0   3.219913e+08       4.24                    AsiaAsia\n",
       "1   4.156951e+08       3.56  South AmericaSouth America\n",
       "2   2.752098e+09       3.14                    AsiaAsia\n",
       "3   2.622101e+09       4.86                    AsiaAsia\n",
       "4   5.151276e+08       4.56                    AsiaAsia\n",
       "5   2.531470e+08       2.90                    AsiaAsia\n",
       "6   2.540344e+08       4.26  North AmericaNorth America\n",
       "7   3.644039e+08      11.78                AfricaAfrica\n",
       "8   3.778497e+08       6.08                    AsiaAsia\n",
       "9   2.013988e+08       5.96                    AsiaAsia\n",
       "10  2.869138e+08       3.22                EuropeEurope\n",
       "11  6.435473e+08       3.94  North AmericaNorth America"
      ]
     },
     "execution_count": 79,
     "metadata": {},
     "output_type": "execute_result"
    }
   ],
   "source": [
    "g4 = df.groupby('country').transform(function_double)\n",
    "g4"
   ]
  },
  {
   "cell_type": "code",
   "execution_count": null,
   "metadata": {},
   "outputs": [
    {
     "name": "stderr",
     "output_type": "stream",
     "text": [
      "/var/folders/c4/jkw5wy1d7lndc6p4y832vmrc0000gn/T/ipykernel_12377/669444610.py:1: FutureWarning: Indexing with multiple keys (implicitly converted to a tuple of keys) will be deprecated, use a list instead.\n",
      "  g5 = df.groupby('country')['population','fertility'].agg(['min','median'])\n"
     ]
    },
    {
     "data": {
      "text/html": [
       "<div>\n",
       "<style scoped>\n",
       "    .dataframe tbody tr th:only-of-type {\n",
       "        vertical-align: middle;\n",
       "    }\n",
       "\n",
       "    .dataframe tbody tr th {\n",
       "        vertical-align: top;\n",
       "    }\n",
       "\n",
       "    .dataframe thead tr th {\n",
       "        text-align: left;\n",
       "    }\n",
       "\n",
       "    .dataframe thead tr:last-of-type th {\n",
       "        text-align: right;\n",
       "    }\n",
       "</style>\n",
       "<table border=\"1\" class=\"dataframe\">\n",
       "  <thead>\n",
       "    <tr>\n",
       "      <th></th>\n",
       "      <th colspan=\"2\" halign=\"left\">population</th>\n",
       "      <th colspan=\"2\" halign=\"left\">fertility</th>\n",
       "    </tr>\n",
       "    <tr>\n",
       "      <th></th>\n",
       "      <th>min</th>\n",
       "      <th>median</th>\n",
       "      <th>min</th>\n",
       "      <th>median</th>\n",
       "    </tr>\n",
       "    <tr>\n",
       "      <th>country</th>\n",
       "      <th></th>\n",
       "      <th></th>\n",
       "      <th></th>\n",
       "      <th></th>\n",
       "    </tr>\n",
       "  </thead>\n",
       "  <tbody>\n",
       "    <tr>\n",
       "      <th>Bangladesh</th>\n",
       "      <td>1.609956e+08</td>\n",
       "      <td>1.609956e+08</td>\n",
       "      <td>2.12</td>\n",
       "      <td>2.12</td>\n",
       "    </tr>\n",
       "    <tr>\n",
       "      <th>Brazil</th>\n",
       "      <td>2.078475e+08</td>\n",
       "      <td>2.078475e+08</td>\n",
       "      <td>1.78</td>\n",
       "      <td>1.78</td>\n",
       "    </tr>\n",
       "    <tr>\n",
       "      <th>China</th>\n",
       "      <td>1.376049e+09</td>\n",
       "      <td>1.376049e+09</td>\n",
       "      <td>1.57</td>\n",
       "      <td>1.57</td>\n",
       "    </tr>\n",
       "    <tr>\n",
       "      <th>India</th>\n",
       "      <td>1.311051e+09</td>\n",
       "      <td>1.311051e+09</td>\n",
       "      <td>2.43</td>\n",
       "      <td>2.43</td>\n",
       "    </tr>\n",
       "    <tr>\n",
       "      <th>Indonesia</th>\n",
       "      <td>2.575638e+08</td>\n",
       "      <td>2.575638e+08</td>\n",
       "      <td>2.28</td>\n",
       "      <td>2.28</td>\n",
       "    </tr>\n",
       "    <tr>\n",
       "      <th>Japan</th>\n",
       "      <td>1.265735e+08</td>\n",
       "      <td>1.265735e+08</td>\n",
       "      <td>1.45</td>\n",
       "      <td>1.45</td>\n",
       "    </tr>\n",
       "    <tr>\n",
       "      <th>Mexico</th>\n",
       "      <td>1.270172e+08</td>\n",
       "      <td>1.270172e+08</td>\n",
       "      <td>2.13</td>\n",
       "      <td>2.13</td>\n",
       "    </tr>\n",
       "    <tr>\n",
       "      <th>Nigeria</th>\n",
       "      <td>1.822020e+08</td>\n",
       "      <td>1.822020e+08</td>\n",
       "      <td>5.89</td>\n",
       "      <td>5.89</td>\n",
       "    </tr>\n",
       "    <tr>\n",
       "      <th>Pakistan</th>\n",
       "      <td>1.889249e+08</td>\n",
       "      <td>1.889249e+08</td>\n",
       "      <td>3.04</td>\n",
       "      <td>3.04</td>\n",
       "    </tr>\n",
       "    <tr>\n",
       "      <th>Philippines</th>\n",
       "      <td>1.006994e+08</td>\n",
       "      <td>1.006994e+08</td>\n",
       "      <td>2.98</td>\n",
       "      <td>2.98</td>\n",
       "    </tr>\n",
       "    <tr>\n",
       "      <th>Russia</th>\n",
       "      <td>1.434569e+08</td>\n",
       "      <td>1.434569e+08</td>\n",
       "      <td>1.61</td>\n",
       "      <td>1.61</td>\n",
       "    </tr>\n",
       "    <tr>\n",
       "      <th>United States</th>\n",
       "      <td>3.217736e+08</td>\n",
       "      <td>3.217736e+08</td>\n",
       "      <td>1.97</td>\n",
       "      <td>1.97</td>\n",
       "    </tr>\n",
       "  </tbody>\n",
       "</table>\n",
       "</div>"
      ],
      "text/plain": [
       "                 population               fertility       \n",
       "                        min        median       min median\n",
       "country                                                   \n",
       "Bangladesh     1.609956e+08  1.609956e+08      2.12   2.12\n",
       "Brazil         2.078475e+08  2.078475e+08      1.78   1.78\n",
       "China          1.376049e+09  1.376049e+09      1.57   1.57\n",
       "India          1.311051e+09  1.311051e+09      2.43   2.43\n",
       "Indonesia      2.575638e+08  2.575638e+08      2.28   2.28\n",
       "Japan          1.265735e+08  1.265735e+08      1.45   1.45\n",
       "Mexico         1.270172e+08  1.270172e+08      2.13   2.13\n",
       "Nigeria        1.822020e+08  1.822020e+08      5.89   5.89\n",
       "Pakistan       1.889249e+08  1.889249e+08      3.04   3.04\n",
       "Philippines    1.006994e+08  1.006994e+08      2.98   2.98\n",
       "Russia         1.434569e+08  1.434569e+08      1.61   1.61\n",
       "United States  3.217736e+08  3.217736e+08      1.97   1.97"
      ]
     },
     "execution_count": 70,
     "metadata": {},
     "output_type": "execute_result"
    }
   ],
   "source": [
    "g5 = df.groupby('country')['population','fertility'].agg(['min','median'])\n",
    "g5"
   ]
  },
  {
   "cell_type": "code",
   "execution_count": 36,
   "metadata": {},
   "outputs": [
    {
     "data": {
      "text/plain": [
       "{('Africa', nan): [7], ('Asia', nan): [0, 2, 3, 4, 5, 8, 9], ('Europe', nan): [10], ('North America', nan): [6, 11], ('South America', nan): [1]}"
      ]
     },
     "execution_count": 36,
     "metadata": {},
     "output_type": "execute_result"
    }
   ],
   "source": [
    "g1 = df.groupby('continent')\n",
    "g1.groups\n",
    "\n",
    "# 2. by an array of equal length\n",
    "industrialized = np.array([False, True, True, True, False, True, True, False, False, False, True, True])\n",
    "g2 = df.groupby(industrialized)\n",
    "g2.groups\n",
    "\n",
    "# 3. by a Dictionary with keys on the Index\n",
    "language = {'Bangladesh':'BN', 'Brazil':'PT', 'China':'CN',\n",
    "            'India':'BN', 'Indonesia':'MS', 'Japan':'JP',\n",
    "            'Mexico':'ES', 'Nigeria':'NG', 'Pakistan':'UR',\n",
    "            'Philippines':'PP', 'Russia':'RU', 'United States':'EN'}\n",
    "g3 = df.groupby(language)\n",
    "g3.groups\n",
    "\n",
    "# 4. by a function\n",
    "#g4 = df['country'].groupby()\n",
    "#g4.groups\n",
    "\n",
    "# 5. a list of the above\n",
    "g5 = df.groupby(['continent', language]) #, len\n",
    "g5.groups\n",
    "\n",
    "# 6. group along the x-axis\n",
    "#g6 = df[['population', 'fertility']].transpose().groupby(len, axis=1)\n",
    "#g6.groups"
   ]
  },
  {
   "cell_type": "code",
   "execution_count": null,
   "id": "fe5965c3",
   "metadata": {},
   "outputs": [],
   "source": []
  },
  {
   "cell_type": "code",
   "execution_count": null,
   "id": "e9a66929",
   "metadata": {},
   "outputs": [],
   "source": []
  }
 ],
 "metadata": {
  "kernelspec": {
   "display_name": "Python 3",
   "language": "python",
   "name": "python3"
  },
  "language_info": {
   "codemirror_mode": {
    "name": "ipython",
    "version": 3
   },
   "file_extension": ".py",
   "mimetype": "text/x-python",
   "name": "python",
   "nbconvert_exporter": "python",
   "pygments_lexer": "ipython3",
   "version": "3.9.7"
  }
 },
 "nbformat": 4,
 "nbformat_minor": 5
}
