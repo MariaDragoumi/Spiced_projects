{
 "cells": [
  {
   "cell_type": "code",
   "execution_count": 14,
   "id": "a159e780-b4e5-4b94-9094-fd3c82486c63",
   "metadata": {},
   "outputs": [],
   "source": [
    "def my_function(list_of_numbers):\n",
    "    even_numbers = []\n",
    "    for number in list_of_numbers:\n",
    "        if not number%2:\n",
    "            #print(number)\n",
    "            even_numbers.append(number)\n",
    "    return even_numbers\n",
    "            "
   ]
  },
  {
   "cell_type": "code",
   "execution_count": 15,
   "id": "fadcca61-8280-429d-a20d-a0a82f458c30",
   "metadata": {},
   "outputs": [
    {
     "data": {
      "text/plain": [
       "[2, 4, 6, 8]"
      ]
     },
     "execution_count": 15,
     "metadata": {},
     "output_type": "execute_result"
    }
   ],
   "source": [
    "my_function([1, 2, 3, 4, 5, 6, 7, 8, 9])"
   ]
  },
  {
   "cell_type": "code",
   "execution_count": null,
   "id": "3bbcbe49-3b1d-4589-877c-b6d0be7b7726",
   "metadata": {},
   "outputs": [],
   "source": []
  },
  {
   "cell_type": "code",
   "execution_count": 16,
   "id": "25f35c80-b871-4d5b-af4f-6399978a978c",
   "metadata": {},
   "outputs": [],
   "source": [
    "def my_function(list_of_numbers):\n",
    "    prod_of_numbers = 1\n",
    "    for number in list_of_numbers:\n",
    "        prod_of_numbers = prod_of_numbers*number\n",
    "    return prod_of_numbers\n",
    "            "
   ]
  },
  {
   "cell_type": "code",
   "execution_count": 17,
   "id": "2b54a2b5-9c7f-431a-844e-6a8a9a966f2f",
   "metadata": {},
   "outputs": [
    {
     "data": {
      "text/plain": [
       "-30"
      ]
     },
     "execution_count": 17,
     "metadata": {},
     "output_type": "execute_result"
    }
   ],
   "source": [
    "my_function([1, 2, 3, -5])"
   ]
  },
  {
   "cell_type": "code",
   "execution_count": 18,
   "id": "a4eb4f4f-dd4f-44c0-8f2b-7553fa925f6f",
   "metadata": {},
   "outputs": [],
   "source": [
    "def my_function(list_of_numbers):\n",
    "    unique_numbers = list(set(list_of_numbers))\n",
    "    return unique_numbers"
   ]
  },
  {
   "cell_type": "code",
   "execution_count": 19,
   "id": "cc4838d3-e62d-407f-bbef-760fbbcf5b9b",
   "metadata": {},
   "outputs": [
    {
     "data": {
      "text/plain": [
       "[2, 3, 4, 5]"
      ]
     },
     "execution_count": 19,
     "metadata": {},
     "output_type": "execute_result"
    }
   ],
   "source": [
    "my_function([2,2,2,2,2,3,3,3,3,4,5])"
   ]
  },
  {
   "cell_type": "code",
   "execution_count": 20,
   "id": "dc8116aa-73c4-4e15-bd38-998041deb717",
   "metadata": {},
   "outputs": [],
   "source": [
    "def is_palindrome(input_str):\n",
    "    return in_str == in_str[::-1]\n"
   ]
  },
  {
   "cell_type": "code",
   "execution_count": 21,
   "id": "fb080603-14ff-4c82-8672-e4215c0e2f5f",
   "metadata": {},
   "outputs": [
    {
     "data": {
      "text/plain": [
       "True"
      ]
     },
     "execution_count": 21,
     "metadata": {},
     "output_type": "execute_result"
    }
   ],
   "source": [
    "is_palindrome('kayak')"
   ]
  },
  {
   "cell_type": "code",
   "execution_count": 22,
   "id": "7a81852e-8961-40ac-9eee-3aebeea0b334",
   "metadata": {},
   "outputs": [
    {
     "data": {
      "text/plain": [
       "False"
      ]
     },
     "execution_count": 22,
     "metadata": {},
     "output_type": "execute_result"
    }
   ],
   "source": [
    "is_palindrome('layak')"
   ]
  },
  {
   "cell_type": "code",
   "execution_count": 29,
   "id": "3d30e7bc-9106-4926-a57e-f34662c95f1e",
   "metadata": {},
   "outputs": [],
   "source": [
    "import re\n",
    "def is_palindrome(input_str):\n",
    "    return re.sub(r'[^a-zA-Z\\d]','', input_str.lower()) == re.sub(r'[^a-zA-Z\\d]','', input_str.lower())[::-1]"
   ]
  },
  {
   "cell_type": "code",
   "execution_count": 30,
   "id": "d0bae4c8-c07f-43f5-aa2c-dabaa1ffef4f",
   "metadata": {},
   "outputs": [
    {
     "data": {
      "text/plain": [
       "True"
      ]
     },
     "execution_count": 30,
     "metadata": {},
     "output_type": "execute_result"
    }
   ],
   "source": [
    "is_palindrome('Was it a cat I saw?')"
   ]
  },
  {
   "cell_type": "code",
   "execution_count": null,
   "id": "3ebf21e2-b7b8-4118-9b61-1139e579fc39",
   "metadata": {},
   "outputs": [],
   "source": []
  }
 ],
 "metadata": {
  "kernelspec": {
   "display_name": "Python 3 (ipykernel)",
   "language": "python",
   "name": "python3"
  },
  "language_info": {
   "codemirror_mode": {
    "name": "ipython",
    "version": 3
   },
   "file_extension": ".py",
   "mimetype": "text/x-python",
   "name": "python",
   "nbconvert_exporter": "python",
   "pygments_lexer": "ipython3",
   "version": "3.9.7"
  }
 },
 "nbformat": 4,
 "nbformat_minor": 5
}
