{
 "cells": [
  {
   "cell_type": "code",
   "execution_count": 7,
   "id": "cf828e96-e5ae-42b0-8c68-4d52fd238948",
   "metadata": {},
   "outputs": [],
   "source": [
    "import pandas as pd\n",
    "import numpy as np\n",
    "\n",
    "from sklearn.linear_model import LogisticRegression\n",
    "from sklearn.tree import DecisionTreeClassifier\n",
    "from sklearn.neighbors import KNeighborsClassifier\n",
    "from sklearn.ensemble import RandomForestClassifier\n",
    "from sklearn.naive_bayes import MultinomialNB\n",
    "# import my functions\n",
    "from model_tuning.random_grid_tunning import random_model_tuning, opt_model\n",
    "from Artist.prep import lyrics_dataframe, split_transform, artist_dict"
   ]
  },
  {
   "cell_type": "markdown",
   "id": "8fa8bb6a",
   "metadata": {},
   "source": [
    "### Read data files:"
   ]
  },
  {
   "cell_type": "code",
   "execution_count": 8,
   "id": "cb62f032",
   "metadata": {},
   "outputs": [],
   "source": [
    "df = lyrics_dataframe(artist_dict)"
   ]
  },
  {
   "cell_type": "markdown",
   "id": "bbc2479e",
   "metadata": {},
   "source": [
    "### Split dataframe"
   ]
  },
  {
   "cell_type": "code",
   "execution_count": 9,
   "id": "b0232977",
   "metadata": {},
   "outputs": [],
   "source": [
    "X_train, X_test , y_train, y_test = split_transform(df)"
   ]
  },
  {
   "cell_type": "markdown",
   "id": "cdecb3e4",
   "metadata": {},
   "source": [
    "### Define models to test with a random grid:"
   ]
  },
  {
   "cell_type": "code",
   "execution_count": 10,
   "id": "882372c8",
   "metadata": {},
   "outputs": [],
   "source": [
    "models= [\n",
    "    #RandomForestClassifier(),\n",
    "    #DecisionTreeClassifier(),\n",
    "    LogisticRegression(),\n",
    "    #KNeighborsClassifier(),\n",
    "    MultinomialNB(),\n",
    "]   "
   ]
  },
  {
   "cell_type": "markdown",
   "id": "b1a42f9e",
   "metadata": {},
   "source": [
    "### Run random grid search"
   ]
  },
  {
   "cell_type": "code",
   "execution_count": 11,
   "id": "e961914b",
   "metadata": {},
   "outputs": [],
   "source": [
    "# model_tuning_report = random_model_tuning(models, X_train, y_train,n_iter=40)\n",
    "# with open(f'./model_tuning_report.txt','a') as my_file:\n",
    "#     my_file.write(f'{model_tuning_report}')"
   ]
  },
  {
   "cell_type": "markdown",
   "id": "2964113f",
   "metadata": {},
   "source": [
    "### Define grid for grid hyperparameter tuning:"
   ]
  },
  {
   "cell_type": "code",
   "execution_count": 12,
   "id": "3137f68c",
   "metadata": {},
   "outputs": [],
   "source": [
    "LR_grid = {\n",
    "        'penalty' : ['l2'],\n",
    "        'C' : np.linspace(0.1, 1.1, 10),\n",
    "        'solver' : ['saga',], #'sag','liblinear','lbfgs','newton-cg'\n",
    "        'max_iter': [100],\n",
    "        'tol':[0.005],\n",
    "        'random_state': [100],\n",
    "    }"
   ]
  },
  {
   "cell_type": "code",
   "execution_count": 13,
   "id": "1c2281c3",
   "metadata": {},
   "outputs": [],
   "source": [
    "NB_grid = {\n",
    "        'alpha': np.logspace(-4, 4, 20), \n",
    "        'class_prior': [None], \n",
    "        'fit_prior': [True],\n",
    "    }"
   ]
  },
  {
   "cell_type": "code",
   "execution_count": 14,
   "id": "3cb05293",
   "metadata": {},
   "outputs": [
    {
     "name": "stdout",
     "output_type": "stream",
     "text": [
      "Chosen Hyperparameters: LogisticRegression(C=1.1, random_state=100, solver='saga', tol=0.005). The score is 0.9186540346292061 \n"
     ]
    },
    {
     "data": {
      "text/plain": [
       "0.6222439980401764"
      ]
     },
     "execution_count": 14,
     "metadata": {},
     "output_type": "execute_result"
    }
   ],
   "source": [
    "m_lr = opt_model(LogisticRegression(), LR_grid, X_train,y_train)\n",
    "m_lr.score(X_test,y_test)"
   ]
  },
  {
   "cell_type": "code",
   "execution_count": 15,
   "id": "4ea007c4",
   "metadata": {},
   "outputs": [
    {
     "name": "stdout",
     "output_type": "stream",
     "text": [
      "Chosen Hyperparameters: MultinomialNB(alpha=4.281332398719396). The score is 0.7801372100620713 \n"
     ]
    },
    {
     "data": {
      "text/plain": [
       "0.5864772170504654"
      ]
     },
     "execution_count": 15,
     "metadata": {},
     "output_type": "execute_result"
    }
   ],
   "source": [
    "m_nb = opt_model(MultinomialNB(), NB_grid, X_train,y_train)\n",
    "m_nb.score(X_test,y_test)"
   ]
  }
 ],
 "metadata": {
  "kernelspec": {
   "display_name": "Python 3 (ipykernel)",
   "language": "python",
   "name": "python3"
  },
  "language_info": {
   "codemirror_mode": {
    "name": "ipython",
    "version": 3
   },
   "file_extension": ".py",
   "mimetype": "text/x-python",
   "name": "python",
   "nbconvert_exporter": "python",
   "pygments_lexer": "ipython3",
   "version": "3.9.7"
  }
 },
 "nbformat": 4,
 "nbformat_minor": 5
}
