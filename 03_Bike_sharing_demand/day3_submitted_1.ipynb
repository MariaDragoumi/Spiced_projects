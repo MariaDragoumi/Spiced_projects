{
 "cells": [
  {
   "cell_type": "code",
   "execution_count": 15,
   "id": "ef7c361f",
   "metadata": {},
   "outputs": [],
   "source": [
    "import pandas as pd\n",
    "import seaborn as sns\n",
    "import matplotlib.pyplot as plt\n",
    "import numpy as np\n",
    "from sklearn.linear_model import LinearRegression\n",
    "from sklearn.model_selection import train_test_split\n",
    "from sklearn.impute import SimpleImputer\n",
    "from sklearn.preprocessing import OneHotEncoder\n",
    "from sklearn.preprocessing import MinMaxScaler, StandardScaler\n",
    "from sklearn.preprocessing import KBinsDiscretizer\n",
    "from sklearn.pipeline import Pipeline\n",
    "from sklearn.compose import ColumnTransformer\n",
    "from sklearn.metrics import accuracy_score, precision_score, recall_score, classification_report  \n",
    "from sklearn.model_selection import cross_val_score, cross_validate\n",
    "from sklearn.dummy import DummyRegressor\n",
    "from sklearn.preprocessing import PolynomialFeatures\n",
    "\n",
    "plt.rcParams['figure.figsize'] = (10,6)"
   ]
  },
  {
   "cell_type": "code",
   "execution_count": 16,
   "id": "a38e9c2e-0794-49dd-9df6-d5d28a23660c",
   "metadata": {},
   "outputs": [],
   "source": [
    "df = pd.read_csv('../data/train.csv', index_col=0, parse_dates=True)"
   ]
  },
  {
   "cell_type": "code",
   "execution_count": 17,
   "id": "00bfefb5",
   "metadata": {},
   "outputs": [
    {
     "data": {
      "text/plain": [
       "Index(['season', 'holiday', 'workingday', 'weather', 'temp', 'atemp',\n",
       "       'humidity', 'windspeed', 'casual', 'registered', 'count'],\n",
       "      dtype='object')"
      ]
     },
     "execution_count": 17,
     "metadata": {},
     "output_type": "execute_result"
    }
   ],
   "source": [
    "df.columns"
   ]
  },
  {
   "cell_type": "code",
   "execution_count": 18,
   "id": "9318fc02",
   "metadata": {},
   "outputs": [
    {
     "data": {
      "text/html": [
       "<div>\n",
       "<style scoped>\n",
       "    .dataframe tbody tr th:only-of-type {\n",
       "        vertical-align: middle;\n",
       "    }\n",
       "\n",
       "    .dataframe tbody tr th {\n",
       "        vertical-align: top;\n",
       "    }\n",
       "\n",
       "    .dataframe thead th {\n",
       "        text-align: right;\n",
       "    }\n",
       "</style>\n",
       "<table border=\"1\" class=\"dataframe\">\n",
       "  <thead>\n",
       "    <tr style=\"text-align: right;\">\n",
       "      <th></th>\n",
       "      <th>season</th>\n",
       "      <th>holiday</th>\n",
       "      <th>workingday</th>\n",
       "      <th>weather</th>\n",
       "      <th>temp</th>\n",
       "      <th>atemp</th>\n",
       "      <th>humidity</th>\n",
       "      <th>windspeed</th>\n",
       "      <th>casual</th>\n",
       "      <th>registered</th>\n",
       "      <th>count</th>\n",
       "      <th>hour</th>\n",
       "      <th>weekday</th>\n",
       "      <th>month</th>\n",
       "      <th>year</th>\n",
       "      <th>month_count</th>\n",
       "    </tr>\n",
       "    <tr>\n",
       "      <th>datetime</th>\n",
       "      <th></th>\n",
       "      <th></th>\n",
       "      <th></th>\n",
       "      <th></th>\n",
       "      <th></th>\n",
       "      <th></th>\n",
       "      <th></th>\n",
       "      <th></th>\n",
       "      <th></th>\n",
       "      <th></th>\n",
       "      <th></th>\n",
       "      <th></th>\n",
       "      <th></th>\n",
       "      <th></th>\n",
       "      <th></th>\n",
       "      <th></th>\n",
       "    </tr>\n",
       "  </thead>\n",
       "  <tbody>\n",
       "    <tr>\n",
       "      <th>2011-02-01 00:00:00</th>\n",
       "      <td>1</td>\n",
       "      <td>0</td>\n",
       "      <td>1</td>\n",
       "      <td>2</td>\n",
       "      <td>6.56</td>\n",
       "      <td>9.090</td>\n",
       "      <td>64</td>\n",
       "      <td>7.0015</td>\n",
       "      <td>2</td>\n",
       "      <td>6</td>\n",
       "      <td>8</td>\n",
       "      <td>0</td>\n",
       "      <td>1</td>\n",
       "      <td>2</td>\n",
       "      <td>0</td>\n",
       "      <td>2</td>\n",
       "    </tr>\n",
       "    <tr>\n",
       "      <th>2011-02-01 01:00:00</th>\n",
       "      <td>1</td>\n",
       "      <td>0</td>\n",
       "      <td>1</td>\n",
       "      <td>2</td>\n",
       "      <td>6.56</td>\n",
       "      <td>9.090</td>\n",
       "      <td>69</td>\n",
       "      <td>7.0015</td>\n",
       "      <td>0</td>\n",
       "      <td>3</td>\n",
       "      <td>3</td>\n",
       "      <td>1</td>\n",
       "      <td>1</td>\n",
       "      <td>2</td>\n",
       "      <td>0</td>\n",
       "      <td>2</td>\n",
       "    </tr>\n",
       "    <tr>\n",
       "      <th>2011-02-01 02:00:00</th>\n",
       "      <td>1</td>\n",
       "      <td>0</td>\n",
       "      <td>1</td>\n",
       "      <td>2</td>\n",
       "      <td>6.56</td>\n",
       "      <td>11.365</td>\n",
       "      <td>69</td>\n",
       "      <td>0.0000</td>\n",
       "      <td>0</td>\n",
       "      <td>2</td>\n",
       "      <td>2</td>\n",
       "      <td>2</td>\n",
       "      <td>1</td>\n",
       "      <td>2</td>\n",
       "      <td>0</td>\n",
       "      <td>2</td>\n",
       "    </tr>\n",
       "    <tr>\n",
       "      <th>2011-02-01 03:00:00</th>\n",
       "      <td>1</td>\n",
       "      <td>0</td>\n",
       "      <td>1</td>\n",
       "      <td>2</td>\n",
       "      <td>6.56</td>\n",
       "      <td>11.365</td>\n",
       "      <td>69</td>\n",
       "      <td>0.0000</td>\n",
       "      <td>0</td>\n",
       "      <td>2</td>\n",
       "      <td>2</td>\n",
       "      <td>3</td>\n",
       "      <td>1</td>\n",
       "      <td>2</td>\n",
       "      <td>0</td>\n",
       "      <td>2</td>\n",
       "    </tr>\n",
       "    <tr>\n",
       "      <th>2011-02-01 05:00:00</th>\n",
       "      <td>1</td>\n",
       "      <td>0</td>\n",
       "      <td>1</td>\n",
       "      <td>3</td>\n",
       "      <td>5.74</td>\n",
       "      <td>10.605</td>\n",
       "      <td>93</td>\n",
       "      <td>0.0000</td>\n",
       "      <td>0</td>\n",
       "      <td>3</td>\n",
       "      <td>3</td>\n",
       "      <td>5</td>\n",
       "      <td>1</td>\n",
       "      <td>2</td>\n",
       "      <td>0</td>\n",
       "      <td>2</td>\n",
       "    </tr>\n",
       "    <tr>\n",
       "      <th>...</th>\n",
       "      <td>...</td>\n",
       "      <td>...</td>\n",
       "      <td>...</td>\n",
       "      <td>...</td>\n",
       "      <td>...</td>\n",
       "      <td>...</td>\n",
       "      <td>...</td>\n",
       "      <td>...</td>\n",
       "      <td>...</td>\n",
       "      <td>...</td>\n",
       "      <td>...</td>\n",
       "      <td>...</td>\n",
       "      <td>...</td>\n",
       "      <td>...</td>\n",
       "      <td>...</td>\n",
       "      <td>...</td>\n",
       "    </tr>\n",
       "    <tr>\n",
       "      <th>2012-02-19 19:00:00</th>\n",
       "      <td>1</td>\n",
       "      <td>0</td>\n",
       "      <td>0</td>\n",
       "      <td>2</td>\n",
       "      <td>12.30</td>\n",
       "      <td>14.395</td>\n",
       "      <td>52</td>\n",
       "      <td>16.9979</td>\n",
       "      <td>18</td>\n",
       "      <td>101</td>\n",
       "      <td>119</td>\n",
       "      <td>19</td>\n",
       "      <td>6</td>\n",
       "      <td>2</td>\n",
       "      <td>1</td>\n",
       "      <td>14</td>\n",
       "    </tr>\n",
       "    <tr>\n",
       "      <th>2012-02-19 20:00:00</th>\n",
       "      <td>1</td>\n",
       "      <td>0</td>\n",
       "      <td>0</td>\n",
       "      <td>2</td>\n",
       "      <td>12.30</td>\n",
       "      <td>14.395</td>\n",
       "      <td>52</td>\n",
       "      <td>19.0012</td>\n",
       "      <td>22</td>\n",
       "      <td>81</td>\n",
       "      <td>103</td>\n",
       "      <td>20</td>\n",
       "      <td>6</td>\n",
       "      <td>2</td>\n",
       "      <td>1</td>\n",
       "      <td>14</td>\n",
       "    </tr>\n",
       "    <tr>\n",
       "      <th>2012-02-19 21:00:00</th>\n",
       "      <td>1</td>\n",
       "      <td>0</td>\n",
       "      <td>0</td>\n",
       "      <td>3</td>\n",
       "      <td>10.66</td>\n",
       "      <td>12.880</td>\n",
       "      <td>65</td>\n",
       "      <td>11.0014</td>\n",
       "      <td>3</td>\n",
       "      <td>33</td>\n",
       "      <td>36</td>\n",
       "      <td>21</td>\n",
       "      <td>6</td>\n",
       "      <td>2</td>\n",
       "      <td>1</td>\n",
       "      <td>14</td>\n",
       "    </tr>\n",
       "    <tr>\n",
       "      <th>2012-02-19 22:00:00</th>\n",
       "      <td>1</td>\n",
       "      <td>0</td>\n",
       "      <td>0</td>\n",
       "      <td>3</td>\n",
       "      <td>9.84</td>\n",
       "      <td>12.880</td>\n",
       "      <td>75</td>\n",
       "      <td>6.0032</td>\n",
       "      <td>8</td>\n",
       "      <td>47</td>\n",
       "      <td>55</td>\n",
       "      <td>22</td>\n",
       "      <td>6</td>\n",
       "      <td>2</td>\n",
       "      <td>1</td>\n",
       "      <td>14</td>\n",
       "    </tr>\n",
       "    <tr>\n",
       "      <th>2012-02-19 23:00:00</th>\n",
       "      <td>1</td>\n",
       "      <td>0</td>\n",
       "      <td>0</td>\n",
       "      <td>2</td>\n",
       "      <td>9.02</td>\n",
       "      <td>11.365</td>\n",
       "      <td>93</td>\n",
       "      <td>11.0014</td>\n",
       "      <td>5</td>\n",
       "      <td>30</td>\n",
       "      <td>35</td>\n",
       "      <td>23</td>\n",
       "      <td>6</td>\n",
       "      <td>2</td>\n",
       "      <td>1</td>\n",
       "      <td>14</td>\n",
       "    </tr>\n",
       "  </tbody>\n",
       "</table>\n",
       "<p>901 rows × 16 columns</p>\n",
       "</div>"
      ],
      "text/plain": [
       "                     season  holiday  workingday  weather   temp   atemp  \\\n",
       "datetime                                                                   \n",
       "2011-02-01 00:00:00       1        0           1        2   6.56   9.090   \n",
       "2011-02-01 01:00:00       1        0           1        2   6.56   9.090   \n",
       "2011-02-01 02:00:00       1        0           1        2   6.56  11.365   \n",
       "2011-02-01 03:00:00       1        0           1        2   6.56  11.365   \n",
       "2011-02-01 05:00:00       1        0           1        3   5.74  10.605   \n",
       "...                     ...      ...         ...      ...    ...     ...   \n",
       "2012-02-19 19:00:00       1        0           0        2  12.30  14.395   \n",
       "2012-02-19 20:00:00       1        0           0        2  12.30  14.395   \n",
       "2012-02-19 21:00:00       1        0           0        3  10.66  12.880   \n",
       "2012-02-19 22:00:00       1        0           0        3   9.84  12.880   \n",
       "2012-02-19 23:00:00       1        0           0        2   9.02  11.365   \n",
       "\n",
       "                     humidity  windspeed  casual  registered  count  hour  \\\n",
       "datetime                                                                    \n",
       "2011-02-01 00:00:00        64     7.0015       2           6      8     0   \n",
       "2011-02-01 01:00:00        69     7.0015       0           3      3     1   \n",
       "2011-02-01 02:00:00        69     0.0000       0           2      2     2   \n",
       "2011-02-01 03:00:00        69     0.0000       0           2      2     3   \n",
       "2011-02-01 05:00:00        93     0.0000       0           3      3     5   \n",
       "...                       ...        ...     ...         ...    ...   ...   \n",
       "2012-02-19 19:00:00        52    16.9979      18         101    119    19   \n",
       "2012-02-19 20:00:00        52    19.0012      22          81    103    20   \n",
       "2012-02-19 21:00:00        65    11.0014       3          33     36    21   \n",
       "2012-02-19 22:00:00        75     6.0032       8          47     55    22   \n",
       "2012-02-19 23:00:00        93    11.0014       5          30     35    23   \n",
       "\n",
       "                     weekday  month  year  month_count  \n",
       "datetime                                                \n",
       "2011-02-01 00:00:00        1      2     0            2  \n",
       "2011-02-01 01:00:00        1      2     0            2  \n",
       "2011-02-01 02:00:00        1      2     0            2  \n",
       "2011-02-01 03:00:00        1      2     0            2  \n",
       "2011-02-01 05:00:00        1      2     0            2  \n",
       "...                      ...    ...   ...          ...  \n",
       "2012-02-19 19:00:00        6      2     1           14  \n",
       "2012-02-19 20:00:00        6      2     1           14  \n",
       "2012-02-19 21:00:00        6      2     1           14  \n",
       "2012-02-19 22:00:00        6      2     1           14  \n",
       "2012-02-19 23:00:00        6      2     1           14  \n",
       "\n",
       "[901 rows x 16 columns]"
      ]
     },
     "execution_count": 18,
     "metadata": {},
     "output_type": "execute_result"
    }
   ],
   "source": [
    "df['hour'] = df.index.hour\n",
    "df['weekday'] = df.index.weekday\n",
    "df['month'] = df.index.month\n",
    "df['year'] = df.index.year\n",
    "df['year'] = df['year'] - 2011\n",
    "df['month_count'] = df['month']+df['year']*12\n",
    "df[df['month']==2]"
   ]
  },
  {
   "cell_type": "code",
   "execution_count": 19,
   "id": "453ed620",
   "metadata": {},
   "outputs": [
    {
     "data": {
      "image/png": "[encoded data removed]",
      "text/plain": [
       "<Figure size 1080x576 with 1 Axes>"
      ]
     },
     "metadata": {
      "needs_background": "light"
     },
     "output_type": "display_data"
    }
   ],
   "source": [
    "plt.figure(figsize=(15,8))#\n",
    "sns.scatterplot(data =df[(df['hour']==9)&(df['weekday']==1)], x = 'datetime', y ='count',hue='temp')\n",
    "\n",
    "plt.xticks(rotation=15)\n",
    "#plt.ylabel('Temperature [C]')\n",
    "#plt.xlabel('Date')\n",
    "#plt.title('Max')\n",
    "plt.show()"
   ]
  },
  {
   "cell_type": "code",
   "execution_count": 20,
   "id": "7cf0b21b",
   "metadata": {},
   "outputs": [
    {
     "data": {
      "text/plain": [
       "(                     season  holiday  workingday  weather   temp   atemp  \\\n",
       " datetime                                                                   \n",
       " 2011-01-01 00:00:00       1        0           0        1   9.84  14.395   \n",
       " 2011-01-01 01:00:00       1        0           0        1   9.02  13.635   \n",
       " 2011-01-01 02:00:00       1        0           0        1   9.02  13.635   \n",
       " 2011-01-01 03:00:00       1        0           0        1   9.84  14.395   \n",
       " 2011-01-01 04:00:00       1        0           0        1   9.84  14.395   \n",
       " ...                     ...      ...         ...      ...    ...     ...   \n",
       " 2012-12-19 19:00:00       4        0           1        1  15.58  19.695   \n",
       " 2012-12-19 20:00:00       4        0           1        1  14.76  17.425   \n",
       " 2012-12-19 21:00:00       4        0           1        1  13.94  15.910   \n",
       " 2012-12-19 22:00:00       4        0           1        1  13.94  17.425   \n",
       " 2012-12-19 23:00:00       4        0           1        1  13.12  16.665   \n",
       " \n",
       "                      humidity  windspeed  weekday  hour  month_count  \n",
       " datetime                                                              \n",
       " 2011-01-01 00:00:00        81     0.0000        5     0            1  \n",
       " 2011-01-01 01:00:00        80     0.0000        5     1            1  \n",
       " 2011-01-01 02:00:00        80     0.0000        5     2            1  \n",
       " 2011-01-01 03:00:00        75     0.0000        5     3            1  \n",
       " 2011-01-01 04:00:00        75     0.0000        5     4            1  \n",
       " ...                       ...        ...      ...   ...          ...  \n",
       " 2012-12-19 19:00:00        50    26.0027        2    19           24  \n",
       " 2012-12-19 20:00:00        57    15.0013        2    20           24  \n",
       " 2012-12-19 21:00:00        61    15.0013        2    21           24  \n",
       " 2012-12-19 22:00:00        61     6.0032        2    22           24  \n",
       " 2012-12-19 23:00:00        66     8.9981        2    23           24  \n",
       " \n",
       " [10886 rows x 11 columns],\n",
       " datetime\n",
       " 2011-01-01 00:00:00     16\n",
       " 2011-01-01 01:00:00     40\n",
       " 2011-01-01 02:00:00     32\n",
       " 2011-01-01 03:00:00     13\n",
       " 2011-01-01 04:00:00      1\n",
       "                       ... \n",
       " 2012-12-19 19:00:00    336\n",
       " 2012-12-19 20:00:00    241\n",
       " 2012-12-19 21:00:00    168\n",
       " 2012-12-19 22:00:00    129\n",
       " 2012-12-19 23:00:00     88\n",
       " Name: count, Length: 10886, dtype: int64)"
      ]
     },
     "execution_count": 20,
     "metadata": {},
     "output_type": "execute_result"
    }
   ],
   "source": [
    "y = df['count']\n",
    "X = df[['season', 'holiday', 'workingday', 'weather', 'temp', 'atemp', 'humidity', 'windspeed', 'weekday', 'hour', 'month_count']]\n",
    "X,y\n"
   ]
  },
  {
   "cell_type": "code",
   "execution_count": 21,
   "id": "812bf369",
   "metadata": {},
   "outputs": [],
   "source": [
    "X_train, X_test, y_train, y_test = train_test_split(X, y, test_size = 0.2,) #"
   ]
  },
  {
   "cell_type": "code",
   "execution_count": 22,
   "id": "02ff189a",
   "metadata": {},
   "outputs": [],
   "source": [
    "ylog_train = np.log1p(y_train)\n",
    "ylog_test = np.log1p(y_test)"
   ]
  },
  {
   "cell_type": "code",
   "execution_count": 23,
   "id": "dc469ae3",
   "metadata": {},
   "outputs": [
    {
     "data": {
      "text/plain": [
       "Index(['season', 'holiday', 'workingday', 'weather', 'temp', 'atemp',\n",
       "       'humidity', 'windspeed', 'weekday', 'hour', 'month_count'],\n",
       "      dtype='object')"
      ]
     },
     "execution_count": 23,
     "metadata": {},
     "output_type": "execute_result"
    }
   ],
   "source": [
    "X_train.columns"
   ]
  },
  {
   "cell_type": "code",
   "execution_count": 24,
   "id": "5c10a114",
   "metadata": {},
   "outputs": [],
   "source": [
    "numerical_pipeline = Pipeline([\n",
    "    ('num_scaler',StandardScaler()),\n",
    "    ('num_discritazer',KBinsDiscretizer(n_bins=3, strategy='uniform'),)\n",
    "])"
   ]
  },
  {
   "cell_type": "code",
   "execution_count": 25,
   "id": "849aecdb",
   "metadata": {},
   "outputs": [],
   "source": [
    "categorical_pipeline = Pipeline([\n",
    "    ('categorical_ohe',OneHotEncoder(sparse=False,drop = 'first')),\n",
    "    #('polynomial', PolynomialFeatures(degree= 2,)),\n",
    "])"
   ]
  },
  {
   "cell_type": "code",
   "execution_count": 26,
   "id": "e88b34a7",
   "metadata": {},
   "outputs": [],
   "source": [
    "polynomial_pipeline = Pipeline([\n",
    "    ('polynomial', PolynomialFeatures(degree= 2,)),\n",
    "    ('categorical_ohe',OneHotEncoder(sparse=False,drop = 'first')),\n",
    "    \n",
    "])"
   ]
  },
  {
   "cell_type": "code",
   "execution_count": 27,
   "id": "2dc26670",
   "metadata": {},
   "outputs": [],
   "source": [
    "column_transformer = ColumnTransformer([\n",
    "    ('numerical_pipeline',numerical_pipeline,['temp', ]), #'atemp', 'humidity',\n",
    "    ('categorical_pipeline',categorical_pipeline,['hour', 'weekday', 'workingday', 'holiday',]),#\n",
    "    ('polynomial', polynomial_pipeline, ['season', 'weather',]),\n",
    "    ('do_nothing', 'passthrough',[ 'month_count',])\n",
    "])"
   ]
  },
  {
   "cell_type": "code",
   "execution_count": 28,
   "id": "9219d271",
   "metadata": {},
   "outputs": [],
   "source": [
    "column_transformer.fit(X_train) #learn how to do the transforamtion\n",
    "X_train_fe = column_transformer.transform(X_train) #Do the accual transformation\n",
    "X_test_fe = column_transformer.transform(X_test) #Do the same transformation on test set "
   ]
  },
  {
   "cell_type": "code",
   "execution_count": 29,
   "id": "c95c34a5",
   "metadata": {},
   "outputs": [],
   "source": [
    "m = LinearRegression()"
   ]
  },
  {
   "cell_type": "code",
   "execution_count": 30,
   "id": "9a83ff21",
   "metadata": {},
   "outputs": [
    {
     "data": {
      "text/plain": [
       "LinearRegression()"
      ]
     },
     "execution_count": 30,
     "metadata": {},
     "output_type": "execute_result"
    }
   ],
   "source": [
    "m.fit(X_train_fe,ylog_train)"
   ]
  },
  {
   "cell_type": "code",
   "execution_count": 31,
   "id": "531d6a05",
   "metadata": {},
   "outputs": [
    {
     "data": {
      "text/plain": [
       "0.8276781884773892"
      ]
     },
     "execution_count": 31,
     "metadata": {},
     "output_type": "execute_result"
    }
   ],
   "source": [
    "m.score(X_train_fe,ylog_train)"
   ]
  },
  {
   "cell_type": "code",
   "execution_count": 32,
   "id": "f58ef43d",
   "metadata": {},
   "outputs": [
    {
     "data": {
      "text/plain": [
       "-3077384890017963.5"
      ]
     },
     "execution_count": 32,
     "metadata": {},
     "output_type": "execute_result"
    }
   ],
   "source": [
    "from sklearn.model_selection import cross_val_score\n",
    "mean_score = cross_val_score(m, X_train_fe, ylog_train,cv = 5).mean()\n",
    "mean_score"
   ]
  },
  {
   "cell_type": "code",
   "execution_count": 33,
   "id": "40320e1f",
   "metadata": {},
   "outputs": [
    {
     "data": {
      "text/plain": [
       "0.829032279330407"
      ]
     },
     "execution_count": 33,
     "metadata": {},
     "output_type": "execute_result"
    }
   ],
   "source": [
    "m.score(X_test_fe,ylog_test)"
   ]
  },
  {
   "cell_type": "code",
   "execution_count": 34,
   "id": "93dbcbba",
   "metadata": {},
   "outputs": [],
   "source": [
    "y_predlog = m.predict(X_test_fe)"
   ]
  },
  {
   "cell_type": "code",
   "execution_count": 35,
   "id": "4fb5bdc1",
   "metadata": {},
   "outputs": [],
   "source": [
    "ypred = np.exp(y_predlog)-1"
   ]
  },
  {
   "cell_type": "code",
   "execution_count": 36,
   "id": "899e7e3a",
   "metadata": {},
   "outputs": [
    {
     "data": {
      "text/plain": [
       "0.3390664856325342"
      ]
     },
     "execution_count": 36,
     "metadata": {},
     "output_type": "execute_result"
    }
   ],
   "source": [
    "\n",
    "from sklearn.metrics import mean_squared_log_error\n",
    "mean_squared_log_error(y_test, ypred)"
   ]
  },
  {
   "cell_type": "code",
   "execution_count": 37,
   "id": "e4d8edb0",
   "metadata": {},
   "outputs": [
    {
     "data": {
      "text/plain": [
       "count    8708.000000\n",
       "mean        0.282976\n",
       "std         1.520346\n",
       "min        -0.931897\n",
       "25%        -0.314781\n",
       "50%        -0.014172\n",
       "75%         0.350354\n",
       "max        73.566579\n",
       "Name: count, dtype: float64"
      ]
     },
     "execution_count": 37,
     "metadata": {},
     "output_type": "execute_result"
    }
   ],
   "source": [
    "train_pred_log = m.predict(X_train_fe)\n",
    "train_pred = np.exp(train_pred_log)-1 \n",
    "diff = (train_pred - y_train)/y_train\n",
    "diff.describe()"
   ]
  },
  {
   "cell_type": "code",
   "execution_count": 38,
   "id": "72d4ea3b",
   "metadata": {},
   "outputs": [],
   "source": [
    "max = diff.max()"
   ]
  },
  {
   "cell_type": "code",
   "execution_count": 39,
   "id": "cf693b9d",
   "metadata": {},
   "outputs": [
    {
     "data": {
      "text/plain": [
       "<AxesSubplot:xlabel='count', ylabel='Count'>"
      ]
     },
     "execution_count": 39,
     "metadata": {},
     "output_type": "execute_result"
    },
    {
     "data": {
      "image/png": "[encoded data removed]",
      "text/plain": [
       "<Figure size 720x432 with 1 Axes>"
      ]
     },
     "metadata": {
      "needs_background": "light"
     },
     "output_type": "display_data"
    }
   ],
   "source": [
    "sns.histplot(diff)\n",
    "#when negative train_pred is bigger than y_train. Thus model overestimates counts"
   ]
  },
  {
   "cell_type": "code",
   "execution_count": 40,
   "id": "f32fac4d",
   "metadata": {},
   "outputs": [
    {
     "data": {
      "image/png": "[encoded data removed]",
      "text/plain": [
       "<Figure size 1296x720 with 1 Axes>"
      ]
     },
     "metadata": {
      "needs_background": "light"
     },
     "output_type": "display_data"
    }
   ],
   "source": [
    "plt.figure(figsize=(18,10))#\n",
    "#sns.scatterplot(data =df, x = 'datetime', y ='count', )\n",
    "sns.scatterplot(data =X_train.resample('6h').mean(), x = 'datetime', y =diff.resample('D').mean())\n",
    "plt.xticks(rotation=15)\n",
    "#plt.ylabel('Temperature [C]')\n",
    "#plt.xlabel('Date')\n",
    "#plt.title('Max')\n",
    "plt.show()"
   ]
  },
  {
   "cell_type": "code",
   "execution_count": 41,
   "id": "f14adfac",
   "metadata": {},
   "outputs": [
    {
     "data": {
      "text/plain": [
       "(6493, 8)"
      ]
     },
     "execution_count": 41,
     "metadata": {},
     "output_type": "execute_result"
    }
   ],
   "source": [
    "df_k = pd.read_csv('../data/test.csv', index_col=0, parse_dates=True)\n",
    "df_k.shape"
   ]
  },
  {
   "cell_type": "code",
   "execution_count": 42,
   "id": "22bb11ad",
   "metadata": {},
   "outputs": [
    {
     "data": {
      "text/plain": [
       "(6493, 13)"
      ]
     },
     "execution_count": 42,
     "metadata": {},
     "output_type": "execute_result"
    }
   ],
   "source": [
    "df_k['hour'] = df_k.index.hour\n",
    "df_k['weekday'] = df_k.index.weekday\n",
    "df_k['month'] = df_k.index.month\n",
    "df_k['year'] = df_k.index.year\n",
    "df_k['year'] = df_k['year'] - 2011\n",
    "df_k['month_count'] = df_k['month']+df_k['year']*12\n",
    "df_k.shape"
   ]
  },
  {
   "cell_type": "code",
   "execution_count": 43,
   "id": "cf8b2b7f",
   "metadata": {},
   "outputs": [
    {
     "data": {
      "text/plain": [
       "(6493, 11)"
      ]
     },
     "execution_count": 43,
     "metadata": {},
     "output_type": "execute_result"
    }
   ],
   "source": [
    "X_test_kaggle = df_k[['season', 'holiday', 'workingday', 'weather', 'temp',\n",
    "                     'atemp', 'humidity', 'windspeed', 'weekday', 'hour', 'month_count']]\n",
    "X_test_kaggle.shape"
   ]
  },
  {
   "cell_type": "code",
   "execution_count": 44,
   "id": "1527b666",
   "metadata": {},
   "outputs": [
    {
     "data": {
      "text/plain": [
       "(6493, 54)"
      ]
     },
     "execution_count": 44,
     "metadata": {},
     "output_type": "execute_result"
    }
   ],
   "source": [
    "X_test_kaggle_fe = column_transformer.transform(X_test_kaggle) #Do the same transformation on test set \n",
    "X_test_kaggle_fe.shape"
   ]
  },
  {
   "cell_type": "code",
   "execution_count": 45,
   "id": "0036d2a8",
   "metadata": {},
   "outputs": [
    {
     "data": {
      "text/plain": [
       "(6493,)"
      ]
     },
     "execution_count": 45,
     "metadata": {},
     "output_type": "execute_result"
    }
   ],
   "source": [
    "y_predlog_k = m.predict(X_test_kaggle_fe)\n",
    "y_predlog_k.shape\n"
   ]
  },
  {
   "cell_type": "code",
   "execution_count": 46,
   "id": "a24ae963",
   "metadata": {},
   "outputs": [
    {
     "data": {
      "text/plain": [
       "array([ 16.41354421,   8.18946858,   4.47447624, ..., 147.42228857,\n",
       "       113.04262313,  76.00384695])"
      ]
     },
     "execution_count": 46,
     "metadata": {},
     "output_type": "execute_result"
    }
   ],
   "source": [
    "ypred_k = np.exp(y_predlog_k)-1\n",
    "ypred_k"
   ]
  },
  {
   "cell_type": "code",
   "execution_count": 47,
   "id": "28b09e89",
   "metadata": {},
   "outputs": [
    {
     "data": {
      "text/plain": [
       "datetime\n",
       "2011-01-20 00:00:00    0\n",
       "2011-01-20 01:00:00    0\n",
       "2011-01-20 02:00:00    0\n",
       "2011-01-20 03:00:00    0\n",
       "2011-01-20 04:00:00    0\n",
       "                      ..\n",
       "2012-12-31 19:00:00    0\n",
       "2012-12-31 20:00:00    0\n",
       "2012-12-31 21:00:00    0\n",
       "2012-12-31 22:00:00    0\n",
       "2012-12-31 23:00:00    0\n",
       "Name: count, Length: 6493, dtype: int64"
      ]
     },
     "execution_count": 47,
     "metadata": {},
     "output_type": "execute_result"
    }
   ],
   "source": [
    "df_s = pd.read_csv('../data/sampleSubmission.csv', index_col=0, parse_dates=True)\n",
    "df_s['count']"
   ]
  },
  {
   "cell_type": "code",
   "execution_count": 48,
   "id": "2f6d8bf6",
   "metadata": {},
   "outputs": [
    {
     "data": {
      "text/html": [
       "<div>\n",
       "<style scoped>\n",
       "    .dataframe tbody tr th:only-of-type {\n",
       "        vertical-align: middle;\n",
       "    }\n",
       "\n",
       "    .dataframe tbody tr th {\n",
       "        vertical-align: top;\n",
       "    }\n",
       "\n",
       "    .dataframe thead th {\n",
       "        text-align: right;\n",
       "    }\n",
       "</style>\n",
       "<table border=\"1\" class=\"dataframe\">\n",
       "  <thead>\n",
       "    <tr style=\"text-align: right;\">\n",
       "      <th></th>\n",
       "      <th>count</th>\n",
       "    </tr>\n",
       "    <tr>\n",
       "      <th>datetime</th>\n",
       "      <th></th>\n",
       "    </tr>\n",
       "  </thead>\n",
       "  <tbody>\n",
       "    <tr>\n",
       "      <th>2011-01-20 00:00:00</th>\n",
       "      <td>16.413544</td>\n",
       "    </tr>\n",
       "    <tr>\n",
       "      <th>2011-01-20 01:00:00</th>\n",
       "      <td>8.189469</td>\n",
       "    </tr>\n",
       "    <tr>\n",
       "      <th>2011-01-20 02:00:00</th>\n",
       "      <td>4.474476</td>\n",
       "    </tr>\n",
       "    <tr>\n",
       "      <th>2011-01-20 03:00:00</th>\n",
       "      <td>2.276125</td>\n",
       "    </tr>\n",
       "    <tr>\n",
       "      <th>2011-01-20 04:00:00</th>\n",
       "      <td>1.618533</td>\n",
       "    </tr>\n",
       "  </tbody>\n",
       "</table>\n",
       "</div>"
      ],
      "text/plain": [
       "                         count\n",
       "datetime                      \n",
       "2011-01-20 00:00:00  16.413544\n",
       "2011-01-20 01:00:00   8.189469\n",
       "2011-01-20 02:00:00   4.474476\n",
       "2011-01-20 03:00:00   2.276125\n",
       "2011-01-20 04:00:00   1.618533"
      ]
     },
     "execution_count": 48,
     "metadata": {},
     "output_type": "execute_result"
    }
   ],
   "source": [
    "df_s['count'] = ypred_k\n",
    "df_s.head()"
   ]
  },
  {
   "cell_type": "code",
   "execution_count": 49,
   "id": "f7004963",
   "metadata": {},
   "outputs": [],
   "source": [
    "pd.DataFrame(df_s).to_csv(\"predictions\")"
   ]
  }
 ],
 "metadata": {
  "kernelspec": {
   "display_name": "Python 3 (ipykernel)",
   "language": "python",
   "name": "python3"
  },
  "language_info": {
   "codemirror_mode": {
    "name": "ipython",
    "version": 3
   },
   "file_extension": ".py",
   "mimetype": "text/x-python",
   "name": "python",
   "nbconvert_exporter": "python",
   "pygments_lexer": "ipython3",
   "version": "3.9.7"
  }
 },
 "nbformat": 4,
 "nbformat_minor": 5
}
