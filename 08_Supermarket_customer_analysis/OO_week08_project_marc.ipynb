{
 "cells": [
  {
   "cell_type": "markdown",
   "metadata": {},
   "source": [
    "<!--<img src=\"../images/oregano_g.png\" width=\"120\" align=\"right\"/>-->\n",
    "\n",
    "<h2>Ordinal Oregano</h2> \n",
    "<span text-align=\"right\" style=\"font-size:4em;float:right\">🌿</span>\n",
    "<h4>Week Eight - Simulation</h4>\n",
    "\n",
    "<h4>TOC</h4>\n",
    "\n",
    "\n",
    "<a href=\"#x\">Week Project x</a>\n",
    "* <a href=\"#\"></a>\n",
    "* <a href=\"#\"></a>\n",
    "* <a href=\"#\"></a>\n",
    "* <a href=\"#--Fin--\">Fin</a>\n",
    "\n",
    "\n",
    "<hr style=\"margin-top:15px;height:8px;border:0;border-radius:5px;box-shadow:0 10px 15px -10px #111 inset;background-color:rgba(79,170,108,0.7);\">"
   ]
  },
  {
   "cell_type": "code",
   "execution_count": 1,
   "metadata": {},
   "outputs": [],
   "source": [
    "import numpy as np\n",
    "%matplotlib inline"
   ]
  },
  {
   "cell_type": "markdown",
   "metadata": {},
   "source": [
    "<a href='#TOC' style=\"margin:45%;margin-bottom-50px;padding:5px;border:0px solid #190000;border-radius:5px;background-color:rgba(195,105,5,0.95);color:#fff;text-decoration:none;\">\n",
    "<span style=\"font-size:1.2em\">&uarr; TOP &uarr;</span>\n",
    "</a>\n",
    "<hr style=\"margin-top:-15px;height:8px;border:0;border-radius:5px;box-shadow:0 10px 15px -10px #111 inset;background-color:rgba(79,170,108,0.7);\">"
   ]
  },
  {
   "cell_type": "markdown",
   "metadata": {},
   "source": [
    "## "
   ]
  },
  {
   "cell_type": "code",
   "execution_count": 2,
   "metadata": {},
   "outputs": [
    {
     "name": "stdout",
     "output_type": "stream",
     "text": [
      "<class 'pandas.core.frame.DataFrame'>\n",
      "Int64Index: 24877 entries, 0 to 5124\n",
      "Data columns (total 4 columns):\n",
      " #   Column       Non-Null Count  Dtype \n",
      "---  ------       --------------  ----- \n",
      " 0   timestamp    24877 non-null  object\n",
      " 1   weekday      24877 non-null  object\n",
      " 2   customer_no  24877 non-null  int64 \n",
      " 3   location     24877 non-null  object\n",
      "dtypes: int64(1), object(3)\n",
      "memory usage: 971.8+ KB\n"
     ]
    }
   ],
   "source": [
    "import pandas as pd \n",
    "\n",
    "df_mon = pd.read_csv(\"data/monday.csv\", delimiter=\";\")\n",
    "df_tue = pd.read_csv(\"data/tuesday.csv\", delimiter=\";\")\n",
    "df_wed = pd.read_csv(\"data/wednesday.csv\", delimiter=\";\")\n",
    "df_thu = pd.read_csv(\"data/thursday.csv\", delimiter=\";\")\n",
    "df_fri = pd.read_csv(\"data/friday.csv\", delimiter=\";\")\n",
    "\n",
    "df_mon.insert(1,'weekday','mon')\n",
    "df_tue.insert(1,'weekday','tue')\n",
    "df_wed.insert(1,'weekday','wed')\n",
    "df_thu.insert(1,'weekday','thu')\n",
    "df_fri.insert(1,'weekday','fri')\n",
    "\n",
    "df = pd.concat([df_mon,df_tue,df_wed,df_thu,df_fri])\n",
    "df.info()"
   ]
  },
  {
   "cell_type": "code",
   "execution_count": 3,
   "metadata": {},
   "outputs": [
    {
     "data": {
      "text/html": [
       "<div>\n",
       "<style scoped>\n",
       "    .dataframe tbody tr th:only-of-type {\n",
       "        vertical-align: middle;\n",
       "    }\n",
       "\n",
       "    .dataframe tbody tr th {\n",
       "        vertical-align: top;\n",
       "    }\n",
       "\n",
       "    .dataframe thead th {\n",
       "        text-align: right;\n",
       "    }\n",
       "</style>\n",
       "<table border=\"1\" class=\"dataframe\">\n",
       "  <thead>\n",
       "    <tr style=\"text-align: right;\">\n",
       "      <th></th>\n",
       "      <th></th>\n",
       "      <th>customer_no</th>\n",
       "    </tr>\n",
       "    <tr>\n",
       "      <th>weekday</th>\n",
       "      <th>location</th>\n",
       "      <th></th>\n",
       "    </tr>\n",
       "  </thead>\n",
       "  <tbody>\n",
       "    <tr>\n",
       "      <th rowspan=\"5\" valign=\"top\">fri</th>\n",
       "      <th>checkout</th>\n",
       "      <td>1502</td>\n",
       "    </tr>\n",
       "    <tr>\n",
       "      <th>dairy</th>\n",
       "      <td>932</td>\n",
       "    </tr>\n",
       "    <tr>\n",
       "      <th>drinks</th>\n",
       "      <td>844</td>\n",
       "    </tr>\n",
       "    <tr>\n",
       "      <th>fruit</th>\n",
       "      <td>1057</td>\n",
       "    </tr>\n",
       "    <tr>\n",
       "      <th>spices</th>\n",
       "      <td>790</td>\n",
       "    </tr>\n",
       "    <tr>\n",
       "      <th>mon</th>\n",
       "      <th>checkout</th>\n",
       "      <td>1437</td>\n",
       "    </tr>\n",
       "  </tbody>\n",
       "</table>\n",
       "</div>"
      ],
      "text/plain": [
       "                  customer_no\n",
       "weekday location             \n",
       "fri     checkout         1502\n",
       "        dairy             932\n",
       "        drinks            844\n",
       "        fruit            1057\n",
       "        spices            790\n",
       "mon     checkout         1437"
      ]
     },
     "execution_count": 3,
     "metadata": {},
     "output_type": "execute_result"
    }
   ],
   "source": [
    "df_cust_sect_time = df.drop(['timestamp'],axis=1).groupby(['weekday','location']).count()\n",
    "#df_cust_sect_time = df.groupby(['weekday','location']).count()\n",
    "\n",
    "df_cust_sect_time.head(6)"
   ]
  },
  {
   "cell_type": "code",
   "execution_count": 4,
   "metadata": {},
   "outputs": [
    {
     "data": {
      "text/plain": [
       "<AxesSubplot:xlabel='weekday', ylabel='customer_no'>"
      ]
     },
     "execution_count": 4,
     "metadata": {},
     "output_type": "execute_result"
    },
    {
     "data": {
      "image/png": "[encoded data removed]",
      "text/plain": [
       "<Figure size 432x288 with 1 Axes>"
      ]
     },
     "metadata": {
      "needs_background": "light"
     },
     "output_type": "display_data"
    }
   ],
   "source": [
    "import seaborn as sns\n",
    "\n",
    "sns.lineplot(data=df_cust_sect_time, x='weekday', y='customer_no', hue='location')"
   ]
  },
  {
   "cell_type": "code",
   "execution_count": 5,
   "metadata": {},
   "outputs": [
    {
     "data": {
      "text/plain": [
       "str"
      ]
     },
     "execution_count": 5,
     "metadata": {},
     "output_type": "execute_result"
    }
   ],
   "source": [
    "#type(df['timestamp'])\n",
    "\n",
    "type(df.iloc[0][0])\n"
   ]
  },
  {
   "cell_type": "code",
   "execution_count": 6,
   "metadata": {},
   "outputs": [
    {
     "data": {
      "text/html": [
       "<div>\n",
       "<style scoped>\n",
       "    .dataframe tbody tr th:only-of-type {\n",
       "        vertical-align: middle;\n",
       "    }\n",
       "\n",
       "    .dataframe tbody tr th {\n",
       "        vertical-align: top;\n",
       "    }\n",
       "\n",
       "    .dataframe thead th {\n",
       "        text-align: right;\n",
       "    }\n",
       "</style>\n",
       "<table border=\"1\" class=\"dataframe\">\n",
       "  <thead>\n",
       "    <tr style=\"text-align: right;\">\n",
       "      <th></th>\n",
       "      <th>timestamp</th>\n",
       "      <th>date</th>\n",
       "      <th>time</th>\n",
       "      <th>weekday</th>\n",
       "      <th>customer_no</th>\n",
       "      <th>location</th>\n",
       "    </tr>\n",
       "  </thead>\n",
       "  <tbody>\n",
       "    <tr>\n",
       "      <th>0</th>\n",
       "      <td>2019-09-02 07:03:00</td>\n",
       "      <td>2019-09-02</td>\n",
       "      <td>07:03:00</td>\n",
       "      <td>mon</td>\n",
       "      <td>1</td>\n",
       "      <td>dairy</td>\n",
       "    </tr>\n",
       "    <tr>\n",
       "      <th>1</th>\n",
       "      <td>2019-09-02 07:03:00</td>\n",
       "      <td>2019-09-02</td>\n",
       "      <td>07:03:00</td>\n",
       "      <td>mon</td>\n",
       "      <td>2</td>\n",
       "      <td>dairy</td>\n",
       "    </tr>\n",
       "    <tr>\n",
       "      <th>2</th>\n",
       "      <td>2019-09-02 07:04:00</td>\n",
       "      <td>2019-09-02</td>\n",
       "      <td>07:04:00</td>\n",
       "      <td>mon</td>\n",
       "      <td>3</td>\n",
       "      <td>dairy</td>\n",
       "    </tr>\n",
       "    <tr>\n",
       "      <th>3</th>\n",
       "      <td>2019-09-02 07:04:00</td>\n",
       "      <td>2019-09-02</td>\n",
       "      <td>07:04:00</td>\n",
       "      <td>mon</td>\n",
       "      <td>4</td>\n",
       "      <td>dairy</td>\n",
       "    </tr>\n",
       "    <tr>\n",
       "      <th>4</th>\n",
       "      <td>2019-09-02 07:04:00</td>\n",
       "      <td>2019-09-02</td>\n",
       "      <td>07:04:00</td>\n",
       "      <td>mon</td>\n",
       "      <td>5</td>\n",
       "      <td>spices</td>\n",
       "    </tr>\n",
       "  </tbody>\n",
       "</table>\n",
       "</div>"
      ],
      "text/plain": [
       "            timestamp        date      time weekday  customer_no location\n",
       "0 2019-09-02 07:03:00  2019-09-02  07:03:00     mon            1    dairy\n",
       "1 2019-09-02 07:03:00  2019-09-02  07:03:00     mon            2    dairy\n",
       "2 2019-09-02 07:04:00  2019-09-02  07:04:00     mon            3    dairy\n",
       "3 2019-09-02 07:04:00  2019-09-02  07:04:00     mon            4    dairy\n",
       "4 2019-09-02 07:04:00  2019-09-02  07:04:00     mon            5   spices"
      ]
     },
     "execution_count": 6,
     "metadata": {},
     "output_type": "execute_result"
    }
   ],
   "source": [
    "#df['timestamp'] = pd.to_datetime(df['timestamp'], format='%Y%m%d %H%M%S')\n",
    "\n",
    "df['timestamp'] = pd.to_datetime(df['timestamp'])\n",
    "\n",
    "df['date'] = [d.date() for d in df['timestamp']]\n",
    "df['time'] = [d.time() for d in df['timestamp']]\n",
    "df = df[['timestamp','date','time','weekday','customer_no','location']]\n",
    "\n",
    "type(df.iloc[0][0])\n",
    "\n",
    "df.head()"
   ]
  },
  {
   "cell_type": "code",
   "execution_count": 7,
   "metadata": {},
   "outputs": [
    {
     "data": {
      "text/html": [
       "<div>\n",
       "<style scoped>\n",
       "    .dataframe tbody tr th:only-of-type {\n",
       "        vertical-align: middle;\n",
       "    }\n",
       "\n",
       "    .dataframe tbody tr th {\n",
       "        vertical-align: top;\n",
       "    }\n",
       "\n",
       "    .dataframe thead th {\n",
       "        text-align: right;\n",
       "    }\n",
       "</style>\n",
       "<table border=\"1\" class=\"dataframe\">\n",
       "  <thead>\n",
       "    <tr style=\"text-align: right;\">\n",
       "      <th></th>\n",
       "      <th>timestamp</th>\n",
       "      <th>date</th>\n",
       "      <th>time</th>\n",
       "      <th>weekday</th>\n",
       "      <th>customer_no</th>\n",
       "      <th>location</th>\n",
       "      <th>distinct_cust_id</th>\n",
       "    </tr>\n",
       "  </thead>\n",
       "  <tbody>\n",
       "    <tr>\n",
       "      <th>0</th>\n",
       "      <td>2019-09-02 07:03:00</td>\n",
       "      <td>2019-09-02</td>\n",
       "      <td>07:03:00</td>\n",
       "      <td>mon</td>\n",
       "      <td>1</td>\n",
       "      <td>dairy</td>\n",
       "      <td>mon_cust_1</td>\n",
       "    </tr>\n",
       "    <tr>\n",
       "      <th>1</th>\n",
       "      <td>2019-09-02 07:03:00</td>\n",
       "      <td>2019-09-02</td>\n",
       "      <td>07:03:00</td>\n",
       "      <td>mon</td>\n",
       "      <td>2</td>\n",
       "      <td>dairy</td>\n",
       "      <td>mon_cust_2</td>\n",
       "    </tr>\n",
       "    <tr>\n",
       "      <th>2</th>\n",
       "      <td>2019-09-02 07:04:00</td>\n",
       "      <td>2019-09-02</td>\n",
       "      <td>07:04:00</td>\n",
       "      <td>mon</td>\n",
       "      <td>3</td>\n",
       "      <td>dairy</td>\n",
       "      <td>mon_cust_3</td>\n",
       "    </tr>\n",
       "    <tr>\n",
       "      <th>3</th>\n",
       "      <td>2019-09-02 07:04:00</td>\n",
       "      <td>2019-09-02</td>\n",
       "      <td>07:04:00</td>\n",
       "      <td>mon</td>\n",
       "      <td>4</td>\n",
       "      <td>dairy</td>\n",
       "      <td>mon_cust_4</td>\n",
       "    </tr>\n",
       "    <tr>\n",
       "      <th>4</th>\n",
       "      <td>2019-09-02 07:04:00</td>\n",
       "      <td>2019-09-02</td>\n",
       "      <td>07:04:00</td>\n",
       "      <td>mon</td>\n",
       "      <td>5</td>\n",
       "      <td>spices</td>\n",
       "      <td>mon_cust_5</td>\n",
       "    </tr>\n",
       "    <tr>\n",
       "      <th>5</th>\n",
       "      <td>2019-09-02 07:04:00</td>\n",
       "      <td>2019-09-02</td>\n",
       "      <td>07:04:00</td>\n",
       "      <td>mon</td>\n",
       "      <td>6</td>\n",
       "      <td>spices</td>\n",
       "      <td>mon_cust_6</td>\n",
       "    </tr>\n",
       "    <tr>\n",
       "      <th>6</th>\n",
       "      <td>2019-09-02 07:04:00</td>\n",
       "      <td>2019-09-02</td>\n",
       "      <td>07:04:00</td>\n",
       "      <td>mon</td>\n",
       "      <td>7</td>\n",
       "      <td>spices</td>\n",
       "      <td>mon_cust_7</td>\n",
       "    </tr>\n",
       "    <tr>\n",
       "      <th>7</th>\n",
       "      <td>2019-09-02 07:04:00</td>\n",
       "      <td>2019-09-02</td>\n",
       "      <td>07:04:00</td>\n",
       "      <td>mon</td>\n",
       "      <td>8</td>\n",
       "      <td>fruit</td>\n",
       "      <td>mon_cust_8</td>\n",
       "    </tr>\n",
       "    <tr>\n",
       "      <th>8</th>\n",
       "      <td>2019-09-02 07:05:00</td>\n",
       "      <td>2019-09-02</td>\n",
       "      <td>07:05:00</td>\n",
       "      <td>mon</td>\n",
       "      <td>1</td>\n",
       "      <td>checkout</td>\n",
       "      <td>mon_cust_1</td>\n",
       "    </tr>\n",
       "    <tr>\n",
       "      <th>9</th>\n",
       "      <td>2019-09-02 07:05:00</td>\n",
       "      <td>2019-09-02</td>\n",
       "      <td>07:05:00</td>\n",
       "      <td>mon</td>\n",
       "      <td>5</td>\n",
       "      <td>checkout</td>\n",
       "      <td>mon_cust_5</td>\n",
       "    </tr>\n",
       "    <tr>\n",
       "      <th>10</th>\n",
       "      <td>2019-09-02 07:05:00</td>\n",
       "      <td>2019-09-02</td>\n",
       "      <td>07:05:00</td>\n",
       "      <td>mon</td>\n",
       "      <td>6</td>\n",
       "      <td>dairy</td>\n",
       "      <td>mon_cust_6</td>\n",
       "    </tr>\n",
       "    <tr>\n",
       "      <th>11</th>\n",
       "      <td>2019-09-02 07:05:00</td>\n",
       "      <td>2019-09-02</td>\n",
       "      <td>07:05:00</td>\n",
       "      <td>mon</td>\n",
       "      <td>7</td>\n",
       "      <td>drinks</td>\n",
       "      <td>mon_cust_7</td>\n",
       "    </tr>\n",
       "  </tbody>\n",
       "</table>\n",
       "</div>"
      ],
      "text/plain": [
       "             timestamp        date      time weekday  customer_no  location  \\\n",
       "0  2019-09-02 07:03:00  2019-09-02  07:03:00     mon            1     dairy   \n",
       "1  2019-09-02 07:03:00  2019-09-02  07:03:00     mon            2     dairy   \n",
       "2  2019-09-02 07:04:00  2019-09-02  07:04:00     mon            3     dairy   \n",
       "3  2019-09-02 07:04:00  2019-09-02  07:04:00     mon            4     dairy   \n",
       "4  2019-09-02 07:04:00  2019-09-02  07:04:00     mon            5    spices   \n",
       "5  2019-09-02 07:04:00  2019-09-02  07:04:00     mon            6    spices   \n",
       "6  2019-09-02 07:04:00  2019-09-02  07:04:00     mon            7    spices   \n",
       "7  2019-09-02 07:04:00  2019-09-02  07:04:00     mon            8     fruit   \n",
       "8  2019-09-02 07:05:00  2019-09-02  07:05:00     mon            1  checkout   \n",
       "9  2019-09-02 07:05:00  2019-09-02  07:05:00     mon            5  checkout   \n",
       "10 2019-09-02 07:05:00  2019-09-02  07:05:00     mon            6     dairy   \n",
       "11 2019-09-02 07:05:00  2019-09-02  07:05:00     mon            7    drinks   \n",
       "\n",
       "   distinct_cust_id  \n",
       "0        mon_cust_1  \n",
       "1        mon_cust_2  \n",
       "2        mon_cust_3  \n",
       "3        mon_cust_4  \n",
       "4        mon_cust_5  \n",
       "5        mon_cust_6  \n",
       "6        mon_cust_7  \n",
       "7        mon_cust_8  \n",
       "8        mon_cust_1  \n",
       "9        mon_cust_5  \n",
       "10       mon_cust_6  \n",
       "11       mon_cust_7  "
      ]
     },
     "execution_count": 7,
     "metadata": {},
     "output_type": "execute_result"
    }
   ],
   "source": [
    "### create distinct customer_ids\n",
    "df['distinct_cust_id'] = df['weekday']+'_cust_'+df['customer_no'].astype(str)\n",
    "\n",
    "df.head(12)"
   ]
  },
  {
   "cell_type": "code",
   "execution_count": 8,
   "metadata": {},
   "outputs": [
    {
     "name": "stdout",
     "output_type": "stream",
     "text": [
      "row[0] is: 2019-09-02 07:03:00\n",
      "row[1] is: 2019-09-02\n",
      "row[2] is: 07:03:00\n",
      "row[3] is: mon\n",
      "row[4] is: 1\n",
      "row[5] is: dairy\n",
      "row[6] is: mon_cust_1\n",
      "\n"
     ]
    }
   ],
   "source": [
    "#for row in df.head(5).itertuples():\n",
    "\n",
    "for i, row in df.iloc[:1].iterrows():\n",
    "    print(f'row[0] is: {row[0]}')\n",
    "    print(f'row[1] is: {row[1]}')\n",
    "    print(f'row[2] is: {row[2]}')\n",
    "    print(f'row[3] is: {row[3]}')\n",
    "    print(f'row[4] is: {row[4]}')\n",
    "    print(f'row[5] is: {row[5]}')\n",
    "    print(f'row[6] is: {row[6]}\\n')\n",
    "#    print(f'row[7] is: {row[7]}')\n",
    "#    print(f'row[8] is: {row[8]}')\n",
    "#    print(f'row[9] is: {row[9]}\\n')\n"
   ]
  },
  {
   "cell_type": "code",
   "execution_count": 18,
   "metadata": {},
   "outputs": [
    {
     "data": {
      "text/html": [
       "<div>\n",
       "<style scoped>\n",
       "    .dataframe tbody tr th:only-of-type {\n",
       "        vertical-align: middle;\n",
       "    }\n",
       "\n",
       "    .dataframe tbody tr th {\n",
       "        vertical-align: top;\n",
       "    }\n",
       "\n",
       "    .dataframe thead th {\n",
       "        text-align: right;\n",
       "    }\n",
       "</style>\n",
       "<table border=\"1\" class=\"dataframe\">\n",
       "  <thead>\n",
       "    <tr style=\"text-align: right;\">\n",
       "      <th></th>\n",
       "      <th>timestamp</th>\n",
       "      <th>date</th>\n",
       "      <th>time</th>\n",
       "      <th>weekday</th>\n",
       "      <th>customer_no</th>\n",
       "      <th>location</th>\n",
       "      <th>distinct_cust_id</th>\n",
       "    </tr>\n",
       "  </thead>\n",
       "  <tbody>\n",
       "    <tr>\n",
       "      <th>1</th>\n",
       "      <td>2019-09-02 07:03:00</td>\n",
       "      <td>2019-09-02</td>\n",
       "      <td>07:03:00</td>\n",
       "      <td>mon</td>\n",
       "      <td>2</td>\n",
       "      <td>dairy</td>\n",
       "      <td>mon_cust_2</td>\n",
       "    </tr>\n",
       "  </tbody>\n",
       "</table>\n",
       "</div>"
      ],
      "text/plain": [
       "            timestamp        date      time weekday  customer_no location  \\\n",
       "1 2019-09-02 07:03:00  2019-09-02  07:03:00     mon            2    dairy   \n",
       "\n",
       "  distinct_cust_id  \n",
       "1       mon_cust_2  "
      ]
     },
     "execution_count": 18,
     "metadata": {},
     "output_type": "execute_result"
    }
   ],
   "source": [
    "###for alternative 2\n",
    "df.iloc[1:2]"
   ]
  },
  {
   "cell_type": "code",
   "execution_count": 9,
   "metadata": {},
   "outputs": [],
   "source": [
    "### another try\n",
    "#for row in df.iloc[:3].iterrows():\n",
    "#    print(f'row[0] is: {row[0]}')\n",
    "#    print(f'row[1] is: {row[1]}')\n",
    "##    print(f'row[2] is: {row[2]}')\n",
    "##    print(f'row[3] is: {row[3]}')\n",
    "##    print(f'row[4] is: {row[4]}')\n",
    "##    print(f'row[5] is: {row[5]}')\n",
    "##    print(f'row[6] is: {row[6]}\\n')\n",
    "##    print(f'row[7] is: {row[7]}')\n",
    "##    print(f'row[8] is: {row[8]}')\n",
    "##    print(f'row[9] is: {row[9]}\\n')\n"
   ]
  },
  {
   "cell_type": "code",
   "execution_count": 10,
   "metadata": {},
   "outputs": [],
   "source": [
    "### aggregate data for each customer into a single row\n",
    "### alternative 1\n",
    "\n",
    "'''distinct_cust_l = []\n",
    "distinct_cust_timestamp_l = []\n",
    "\n",
    "distinct_cust_data = pd.DataFrame()\n",
    "distinct_cust_checkout = pd.DataFrame()\n",
    "\n",
    "for i, row in df.iterrows():\n",
    "    timestamp = row[0]\n",
    "    time = row[2]\n",
    "    weekday = row[3]\n",
    "    location = row[5]\n",
    "    customer = row[6]\n",
    "    if customer not in distinct_cust_l:\n",
    "        distinct_cust_l.append(customer)\n",
    "        if timestamp not in distinct_cust_data:\n",
    "            distinct_cust_timestamp_l.append(timestamp)\n",
    "            entry = timestamp\n",
    "            info = {'weekday' : weekday,\n",
    "                    'customer' : customer,\n",
    "                    'locations' : location,\n",
    "                    'entry' : timestamp}\n",
    "            distinct_cust_data = distinct_cust_data.append(info, ignore_index=True)\n",
    "    else:\n",
    "        if row[5] == 'checkout':\n",
    "            checkout = timestamp\n",
    "            info = {\n",
    "                    'customer' : customer,\n",
    "                    'checkout' : timestamp}\n",
    "            distinct_cust_checkout = distinct_cust_checkout.append(info, ignore_index=True)'''\n"
   ]
  },
  {
   "cell_type": "code",
   "execution_count": null,
   "metadata": {},
   "outputs": [],
   "source": [
    "### aggregate data for each customer into a single row\n",
    "### alternative 1\n",
    "\n",
    "distinct_cust_l = []\n",
    "distinct_cust_timestamp_l = []\n",
    "\n",
    "distinct_cust_data = pd.DataFrame()\n",
    "distinct_cust_checkout = pd.DataFrame()\n",
    "\n",
    "for i, row in df.iterrows():\n",
    "    timestamp = row[0]\n",
    "    time = row[2]\n",
    "    weekday = row[3]\n",
    "    location = row[5]\n",
    "    customer = row[6]\n",
    "    if customer not in distinct_cust_l:\n",
    "        distinct_cust_l.append(customer)\n",
    "        if row[5] == 'checkout':\n",
    "            distinct_cust_timestamp_l.append(timestamp)\n",
    "            entry = timestamp\n",
    "        info = {'weekday' : weekday,\n",
    "                'customer' : customer,\n",
    "                'locations' : location,\n",
    "                'entry' : timestamp}\n",
    "        distinct_cust_data = distinct_cust_data.append(info, ignore_index=True)\n",
    "    else:\n",
    "        if row[5] == 'checkout':\n",
    "            checkout = timestamp\n",
    "            info = {\n",
    "                    'customer' : customer,\n",
    "                    'checkout' : timestamp}\n",
    "            distinct_cust_checkout = distinct_cust_checkout.append(info, ignore_index=True)\n",
    "\n"
   ]
  },
  {
   "cell_type": "code",
   "execution_count": 11,
   "metadata": {},
   "outputs": [
    {
     "data": {
      "text/html": [
       "<div>\n",
       "<style scoped>\n",
       "    .dataframe tbody tr th:only-of-type {\n",
       "        vertical-align: middle;\n",
       "    }\n",
       "\n",
       "    .dataframe tbody tr th {\n",
       "        vertical-align: top;\n",
       "    }\n",
       "\n",
       "    .dataframe thead th {\n",
       "        text-align: right;\n",
       "    }\n",
       "</style>\n",
       "<table border=\"1\" class=\"dataframe\">\n",
       "  <thead>\n",
       "    <tr style=\"text-align: right;\">\n",
       "      <th></th>\n",
       "      <th>weekday</th>\n",
       "      <th>customer</th>\n",
       "      <th>entry</th>\n",
       "    </tr>\n",
       "  </thead>\n",
       "  <tbody>\n",
       "    <tr>\n",
       "      <th>0</th>\n",
       "      <td>mon</td>\n",
       "      <td>mon_cust_1</td>\n",
       "      <td>2019-09-02 07:03:00</td>\n",
       "    </tr>\n",
       "    <tr>\n",
       "      <th>1</th>\n",
       "      <td>mon</td>\n",
       "      <td>mon_cust_2</td>\n",
       "      <td>2019-09-02 07:03:00</td>\n",
       "    </tr>\n",
       "    <tr>\n",
       "      <th>2</th>\n",
       "      <td>mon</td>\n",
       "      <td>mon_cust_3</td>\n",
       "      <td>2019-09-02 07:04:00</td>\n",
       "    </tr>\n",
       "    <tr>\n",
       "      <th>3</th>\n",
       "      <td>mon</td>\n",
       "      <td>mon_cust_4</td>\n",
       "      <td>2019-09-02 07:04:00</td>\n",
       "    </tr>\n",
       "    <tr>\n",
       "      <th>4</th>\n",
       "      <td>mon</td>\n",
       "      <td>mon_cust_5</td>\n",
       "      <td>2019-09-02 07:04:00</td>\n",
       "    </tr>\n",
       "    <tr>\n",
       "      <th>5</th>\n",
       "      <td>mon</td>\n",
       "      <td>mon_cust_6</td>\n",
       "      <td>2019-09-02 07:04:00</td>\n",
       "    </tr>\n",
       "    <tr>\n",
       "      <th>6</th>\n",
       "      <td>mon</td>\n",
       "      <td>mon_cust_7</td>\n",
       "      <td>2019-09-02 07:04:00</td>\n",
       "    </tr>\n",
       "    <tr>\n",
       "      <th>7</th>\n",
       "      <td>mon</td>\n",
       "      <td>mon_cust_8</td>\n",
       "      <td>2019-09-02 07:04:00</td>\n",
       "    </tr>\n",
       "    <tr>\n",
       "      <th>8</th>\n",
       "      <td>mon</td>\n",
       "      <td>mon_cust_9</td>\n",
       "      <td>2019-09-02 07:06:00</td>\n",
       "    </tr>\n",
       "    <tr>\n",
       "      <th>9</th>\n",
       "      <td>mon</td>\n",
       "      <td>mon_cust_10</td>\n",
       "      <td>2019-09-02 07:06:00</td>\n",
       "    </tr>\n",
       "  </tbody>\n",
       "</table>\n",
       "</div>"
      ],
      "text/plain": [
       "  weekday     customer               entry\n",
       "0     mon   mon_cust_1 2019-09-02 07:03:00\n",
       "1     mon   mon_cust_2 2019-09-02 07:03:00\n",
       "2     mon   mon_cust_3 2019-09-02 07:04:00\n",
       "3     mon   mon_cust_4 2019-09-02 07:04:00\n",
       "4     mon   mon_cust_5 2019-09-02 07:04:00\n",
       "5     mon   mon_cust_6 2019-09-02 07:04:00\n",
       "6     mon   mon_cust_7 2019-09-02 07:04:00\n",
       "7     mon   mon_cust_8 2019-09-02 07:04:00\n",
       "8     mon   mon_cust_9 2019-09-02 07:06:00\n",
       "9     mon  mon_cust_10 2019-09-02 07:06:00"
      ]
     },
     "execution_count": 11,
     "metadata": {},
     "output_type": "execute_result"
    }
   ],
   "source": [
    "distinct_cust_data.head(10)"
   ]
  },
  {
   "cell_type": "code",
   "execution_count": 12,
   "metadata": {},
   "outputs": [
    {
     "data": {
      "text/html": [
       "<div>\n",
       "<style scoped>\n",
       "    .dataframe tbody tr th:only-of-type {\n",
       "        vertical-align: middle;\n",
       "    }\n",
       "\n",
       "    .dataframe tbody tr th {\n",
       "        vertical-align: top;\n",
       "    }\n",
       "\n",
       "    .dataframe thead th {\n",
       "        text-align: right;\n",
       "    }\n",
       "</style>\n",
       "<table border=\"1\" class=\"dataframe\">\n",
       "  <thead>\n",
       "    <tr style=\"text-align: right;\">\n",
       "      <th></th>\n",
       "      <th>customer</th>\n",
       "      <th>checkout</th>\n",
       "    </tr>\n",
       "  </thead>\n",
       "  <tbody>\n",
       "    <tr>\n",
       "      <th>0</th>\n",
       "      <td>mon_cust_1</td>\n",
       "      <td>2019-09-02 07:05:00</td>\n",
       "    </tr>\n",
       "    <tr>\n",
       "      <th>1</th>\n",
       "      <td>mon_cust_5</td>\n",
       "      <td>2019-09-02 07:05:00</td>\n",
       "    </tr>\n",
       "    <tr>\n",
       "      <th>2</th>\n",
       "      <td>mon_cust_2</td>\n",
       "      <td>2019-09-02 07:06:00</td>\n",
       "    </tr>\n",
       "    <tr>\n",
       "      <th>3</th>\n",
       "      <td>mon_cust_3</td>\n",
       "      <td>2019-09-02 07:06:00</td>\n",
       "    </tr>\n",
       "    <tr>\n",
       "      <th>4</th>\n",
       "      <td>mon_cust_8</td>\n",
       "      <td>2019-09-02 07:07:00</td>\n",
       "    </tr>\n",
       "    <tr>\n",
       "      <th>5</th>\n",
       "      <td>mon_cust_4</td>\n",
       "      <td>2019-09-02 07:08:00</td>\n",
       "    </tr>\n",
       "    <tr>\n",
       "      <th>6</th>\n",
       "      <td>mon_cust_10</td>\n",
       "      <td>2019-09-02 07:08:00</td>\n",
       "    </tr>\n",
       "    <tr>\n",
       "      <th>7</th>\n",
       "      <td>mon_cust_11</td>\n",
       "      <td>2019-09-02 07:08:00</td>\n",
       "    </tr>\n",
       "    <tr>\n",
       "      <th>8</th>\n",
       "      <td>mon_cust_14</td>\n",
       "      <td>2019-09-02 07:09:00</td>\n",
       "    </tr>\n",
       "    <tr>\n",
       "      <th>9</th>\n",
       "      <td>mon_cust_12</td>\n",
       "      <td>2019-09-02 07:10:00</td>\n",
       "    </tr>\n",
       "  </tbody>\n",
       "</table>\n",
       "</div>"
      ],
      "text/plain": [
       "      customer            checkout\n",
       "0   mon_cust_1 2019-09-02 07:05:00\n",
       "1   mon_cust_5 2019-09-02 07:05:00\n",
       "2   mon_cust_2 2019-09-02 07:06:00\n",
       "3   mon_cust_3 2019-09-02 07:06:00\n",
       "4   mon_cust_8 2019-09-02 07:07:00\n",
       "5   mon_cust_4 2019-09-02 07:08:00\n",
       "6  mon_cust_10 2019-09-02 07:08:00\n",
       "7  mon_cust_11 2019-09-02 07:08:00\n",
       "8  mon_cust_14 2019-09-02 07:09:00\n",
       "9  mon_cust_12 2019-09-02 07:10:00"
      ]
     },
     "execution_count": 12,
     "metadata": {},
     "output_type": "execute_result"
    }
   ],
   "source": [
    "distinct_cust_checkout.head(10)"
   ]
  },
  {
   "cell_type": "code",
   "execution_count": 13,
   "metadata": {},
   "outputs": [],
   "source": [
    "distinct_cust_data['checkout'] = np.nan\n",
    "distinct_cust_data = distinct_cust_data.reset_index().set_index('customer')\n",
    "distinct_cust_checkout = distinct_cust_checkout.reset_index().set_index('customer')\n",
    "\n",
    "distinct_cust_data['checkout'].fillna(distinct_cust_checkout['checkout'], inplace=True)\n",
    "\n",
    "distinct_cust_data = distinct_cust_data.reset_index().set_index('index')"
   ]
  },
  {
   "cell_type": "code",
   "execution_count": 14,
   "metadata": {},
   "outputs": [
    {
     "data": {
      "text/html": [
       "<div>\n",
       "<style scoped>\n",
       "    .dataframe tbody tr th:only-of-type {\n",
       "        vertical-align: middle;\n",
       "    }\n",
       "\n",
       "    .dataframe tbody tr th {\n",
       "        vertical-align: top;\n",
       "    }\n",
       "\n",
       "    .dataframe thead th {\n",
       "        text-align: right;\n",
       "    }\n",
       "</style>\n",
       "<table border=\"1\" class=\"dataframe\">\n",
       "  <thead>\n",
       "    <tr style=\"text-align: right;\">\n",
       "      <th></th>\n",
       "      <th>customer</th>\n",
       "      <th>entry</th>\n",
       "      <th>checkout</th>\n",
       "    </tr>\n",
       "    <tr>\n",
       "      <th>weekday</th>\n",
       "      <th></th>\n",
       "      <th></th>\n",
       "      <th></th>\n",
       "    </tr>\n",
       "  </thead>\n",
       "  <tbody>\n",
       "    <tr>\n",
       "      <th>False</th>\n",
       "      <td>0</td>\n",
       "      <td>0</td>\n",
       "      <td>28</td>\n",
       "    </tr>\n",
       "  </tbody>\n",
       "</table>\n",
       "</div>"
      ],
      "text/plain": [
       "         customer  entry  checkout\n",
       "weekday                           \n",
       "False           0      0        28"
      ]
     },
     "execution_count": 14,
     "metadata": {},
     "output_type": "execute_result"
    }
   ],
   "source": [
    "distinct_cust_data.isna().groupby('weekday').sum()\n"
   ]
  },
  {
   "cell_type": "code",
   "execution_count": 15,
   "metadata": {},
   "outputs": [
    {
     "ename": "NameError",
     "evalue": "name 'distinct_cust_duration' is not defined",
     "output_type": "error",
     "traceback": [
      "\u001b[0;31m---------------------------------------------------------------------------\u001b[0m",
      "\u001b[0;31mNameError\u001b[0m                                 Traceback (most recent call last)",
      "\u001b[0;32m<ipython-input-15-bf41bf832292>\u001b[0m in \u001b[0;36m<module>\u001b[0;34m\u001b[0m\n\u001b[0;32m----> 1\u001b[0;31m \u001b[0mdistinct_cust_data\u001b[0m\u001b[0;34m[\u001b[0m\u001b[0mdistinct_cust_duration\u001b[0m\u001b[0;34m[\u001b[0m\u001b[0;34m'checkout'\u001b[0m\u001b[0;34m]\u001b[0m\u001b[0;34m.\u001b[0m\u001b[0misnull\u001b[0m\u001b[0;34m(\u001b[0m\u001b[0;34m)\u001b[0m\u001b[0;34m]\u001b[0m\u001b[0;34m\u001b[0m\u001b[0;34m\u001b[0m\u001b[0m\n\u001b[0m",
      "\u001b[0;31mNameError\u001b[0m: name 'distinct_cust_duration' is not defined"
     ]
    }
   ],
   "source": [
    "distinct_cust_data[distinct_cust_data['checkout'].isnull()]"
   ]
  },
  {
   "cell_type": "code",
   "execution_count": null,
   "metadata": {},
   "outputs": [],
   "source": [
    "distinct_cust_data.value_counts()"
   ]
  },
  {
   "cell_type": "code",
   "execution_count": null,
   "metadata": {},
   "outputs": [],
   "source": [
    "type(distinct_cust_data.value_counts)"
   ]
  },
  {
   "cell_type": "code",
   "execution_count": null,
   "metadata": {},
   "outputs": [],
   "source": [
    "type(distinct_cust_data.nunique)"
   ]
  },
  {
   "cell_type": "code",
   "execution_count": null,
   "metadata": {},
   "outputs": [],
   "source": [
    "distinct_cust_data.groupby('weekday')['checkout'].value_counts()"
   ]
  },
  {
   "cell_type": "code",
   "execution_count": null,
   "metadata": {},
   "outputs": [],
   "source": []
  },
  {
   "cell_type": "code",
   "execution_count": null,
   "metadata": {},
   "outputs": [],
   "source": []
  },
  {
   "cell_type": "code",
   "execution_count": null,
   "metadata": {},
   "outputs": [],
   "source": []
  },
  {
   "cell_type": "code",
   "execution_count": null,
   "metadata": {},
   "outputs": [],
   "source": []
  },
  {
   "cell_type": "markdown",
   "metadata": {},
   "source": [
    "<a href='#TOC' style=\"margin:45%;margin-bottom-50px;padding:5px;border:0px solid #190000;border-radius:5px;background-color:rgba(195,105,5,0.95);color:#fff;text-decoration:none;\">\n",
    "<span style=\"font-size:1.2em\">&uarr; TOP &uarr;</span>\n",
    "</a>\n",
    "<hr style=\"margin-top:-15px;height:8px;border:0;border-radius:5px;box-shadow:0 10px 15px -10px #111 inset;background-color:rgba(79,170,108,0.7);\">"
   ]
  },
  {
   "cell_type": "markdown",
   "metadata": {},
   "source": [
    "## "
   ]
  },
  {
   "cell_type": "code",
   "execution_count": null,
   "metadata": {},
   "outputs": [],
   "source": []
  },
  {
   "cell_type": "code",
   "execution_count": null,
   "metadata": {},
   "outputs": [],
   "source": []
  },
  {
   "cell_type": "markdown",
   "metadata": {},
   "source": [
    "<a href='#TOC' style=\"margin:45%;margin-bottom-50px;padding:5px;border:0px solid #190000;border-radius:5px;background-color:rgba(195,105,5,0.95);color:#fff;text-decoration:none;\">\n",
    "<span style=\"font-size:1.2em\">&uarr; TOP &uarr;</span>\n",
    "</a>\n",
    "<hr style=\"margin-top:-15px;height:8px;border:0;border-radius:5px;box-shadow:0 10px 15px -10px #111 inset;background-color:rgba(79,170,108,0.7);\">"
   ]
  },
  {
   "cell_type": "markdown",
   "metadata": {},
   "source": [
    "## "
   ]
  },
  {
   "cell_type": "code",
   "execution_count": null,
   "metadata": {},
   "outputs": [],
   "source": []
  },
  {
   "cell_type": "code",
   "execution_count": null,
   "metadata": {},
   "outputs": [],
   "source": []
  },
  {
   "cell_type": "markdown",
   "metadata": {},
   "source": [
    "<a href='#TOC' style=\"margin:45%;margin-bottom-50px;padding:5px;border:0px solid #190000;border-radius:5px;background-color:rgba(195,105,5,0.95);color:#fff;text-decoration:none;\">\n",
    "<span style=\"font-size:1.2em\">&uarr; TOP &uarr;</span>\n",
    "</a>\n",
    "<hr style=\"margin-top:-15px;height:8px;border:0;border-radius:5px;box-shadow:0 10px 15px -10px #111 inset;background-color:rgba(79,170,108,0.7);\">"
   ]
  },
  {
   "cell_type": "markdown",
   "metadata": {},
   "source": [
    "# - Fin -"
   ]
  },
  {
   "cell_type": "code",
   "execution_count": null,
   "metadata": {},
   "outputs": [],
   "source": []
  },
  {
   "cell_type": "code",
   "execution_count": null,
   "metadata": {},
   "outputs": [],
   "source": []
  },
  {
   "cell_type": "markdown",
   "metadata": {},
   "source": [
    "<a href='#TOC' style=\"margin:45%;margin-bottom-50px;padding:5px;border:0px solid #190000;border-radius:5px;background-color:rgba(195,105,5,0.95);color:#fff;text-decoration:none;\">\n",
    "<span style=\"font-size:1.2em\">&uarr; TOP &uarr;</span>\n",
    "</a>\n",
    "<hr style=\"margin-top:-15px;height:8px;border:0;border-radius:5px;box-shadow:0 10px 15px -10px #111 inset;background-color:rgba(79,170,108,0.7);\">"
   ]
  },
  {
   "cell_type": "markdown",
   "metadata": {},
   "source": [
    "## "
   ]
  },
  {
   "cell_type": "code",
   "execution_count": null,
   "metadata": {},
   "outputs": [],
   "source": []
  },
  {
   "cell_type": "code",
   "execution_count": null,
   "metadata": {},
   "outputs": [],
   "source": []
  },
  {
   "cell_type": "markdown",
   "metadata": {},
   "source": [
    "<a href='#TOC' style=\"margin:45%;margin-bottom-50px;padding:5px;border:0px solid #190000;border-radius:5px;background-color:rgba(195,105,5,0.95);color:#fff;text-decoration:none;\">\n",
    "<span style=\"font-size:1.2em\">&uarr; TOP &uarr;</span>\n",
    "</a>\n",
    "<hr style=\"margin-top:-15px;height:8px;border:0;border-radius:5px;box-shadow:0 10px 15px -10px #111 inset;background-color:rgba(79,170,108,0.7);\">"
   ]
  }
 ],
 "metadata": {
  "kernelspec": {
   "display_name": "Python 3",
   "language": "python",
   "name": "python3"
  },
  "language_info": {
   "codemirror_mode": {
    "name": "ipython",
    "version": 3
   },
   "file_extension": ".py",
   "mimetype": "text/x-python",
   "name": "python",
   "nbconvert_exporter": "python",
   "pygments_lexer": "ipython3",
   "version": "3.7.4"
  }
 },
 "nbformat": 4,
 "nbformat_minor": 2
}
