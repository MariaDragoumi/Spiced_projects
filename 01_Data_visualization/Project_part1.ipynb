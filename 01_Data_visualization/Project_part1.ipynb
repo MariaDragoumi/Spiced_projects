{
 "cells": [
  {
   "cell_type": "code",
   "execution_count": 1,
   "id": "04f05aaa-9670-432b-8bf7-bc7a8299c8cb",
   "metadata": {
    "tags": []
   },
   "outputs": [
    {
     "name": "stdout",
     "output_type": "stream",
     "text": [
      "         Life expectancy  1800.0  1801.0  1802.0  1803.0  1804.0  1805.0  \\\n",
      "0               Abkhazia     NaN     NaN     NaN     NaN     NaN     NaN   \n",
      "1            Afghanistan   28.21   28.20   28.19   28.18   28.17   28.16   \n",
      "2  Akrotiri and Dhekelia     NaN     NaN     NaN     NaN     NaN     NaN   \n",
      "3                Albania   35.40   35.40   35.40   35.40   35.40   35.40   \n",
      "4                Algeria   28.82   28.82   28.82   28.82   28.82   28.82   \n",
      "\n",
      "   1806.0  1807.0  1808.0  ...  2007.0  2008.0  2009.0  2010.0  2011.0  \\\n",
      "0     NaN     NaN     NaN  ...     NaN     NaN     NaN     NaN     NaN   \n",
      "1   28.15   28.14   28.13  ...    52.4    52.8    53.3    53.6    54.0   \n",
      "2     NaN     NaN     NaN  ...     NaN     NaN     NaN     NaN     NaN   \n",
      "3   35.40   35.40   35.40  ...    76.6    76.8    77.0    77.2    77.4   \n",
      "4   28.82   28.82   28.82  ...    75.3    75.5    75.7    76.0    76.1   \n",
      "\n",
      "   2012.0  2013.0  2014.0  2015.0  2016.0  \n",
      "0     NaN     NaN     NaN     NaN     NaN  \n",
      "1    54.4    54.8    54.9    53.8   52.72  \n",
      "2     NaN     NaN     NaN     NaN     NaN  \n",
      "3    77.5    77.7    77.9    78.0   78.10  \n",
      "4    76.2    76.3    76.3    76.4   76.50  \n",
      "\n",
      "[5 rows x 218 columns]\n",
      "(260, 218)\n",
      "           1800.0      1801.0      1802.0      1803.0      1804.0      1805.0  \\\n",
      "count  201.000000  201.000000  201.000000  201.000000  201.000000  201.000000   \n",
      "mean    31.486020   31.448905   31.463483   31.377413   31.446318   31.562537   \n",
      "std      3.763585    3.755739    3.878204    3.901966    3.877156    3.947957   \n",
      "min     23.390000   23.390000   23.390000   19.600000   23.390000   23.390000   \n",
      "25%     29.000000   28.950000   28.900000   28.900000   28.950000   29.000000   \n",
      "50%     31.800000   31.700000   31.600000   31.500000   31.600000   31.700000   \n",
      "75%     33.900000   33.900000   33.900000   33.800000   33.870000   33.900000   \n",
      "max     42.850000   40.300000   44.370000   44.840000   42.830000   44.270000   \n",
      "\n",
      "           1806.0      1807.0      1808.0      1809.0  ...      2007.0  \\\n",
      "count  201.000000  201.000000  201.000000  201.000000  ...  208.000000   \n",
      "mean    31.615970   31.573134   31.376766   31.310448  ...   70.139712   \n",
      "std      4.039261    3.917339    4.017228    3.972970  ...    8.953255   \n",
      "min     23.390000   23.390000   12.480000   13.430000  ...   43.300000   \n",
      "25%     29.000000   29.000000   28.950000   28.820000  ...   64.825000   \n",
      "50%     31.800000   31.800000   31.600000   31.500000  ...   72.750000   \n",
      "75%     34.000000   34.000000   33.870000   33.800000  ...   76.925000   \n",
      "max     45.820000   43.560000   43.550000   41.740000  ...   84.500000   \n",
      "\n",
      "           2008.0      2009.0      2010.0      2011.0      2012.0      2013.0  \\\n",
      "count  208.000000  208.000000  208.000000  208.000000  208.000000  208.000000   \n",
      "mean    70.447163   70.767740   70.969904   71.324375   71.663077   71.916106   \n",
      "std      8.800452    8.610341    8.898859    8.376540    8.217466    8.120852   \n",
      "min     44.500000   45.500000   32.200000   46.700000   46.100000   45.600000   \n",
      "25%     64.875000   65.225000   65.475000   65.600000   66.075000   66.475000   \n",
      "50%     73.000000   73.350000   73.700000   73.750000   74.050000   74.150000   \n",
      "75%     77.150000   77.425000   77.650000   77.825000   78.125000   78.300000   \n",
      "max     84.600000   84.600000   84.700000   84.700000   84.700000   84.800000   \n",
      "\n",
      "           2014.0     2015.0      2016.0  \n",
      "count  208.000000  208.00000  208.000000  \n",
      "mean    72.088125   72.32101   72.556635  \n",
      "std      8.074990    7.90202    7.738535  \n",
      "min     45.400000   47.10000   48.860000  \n",
      "25%     66.775000   67.05000   67.175000  \n",
      "50%     74.300000   74.40000   74.500000  \n",
      "75%     78.400000   78.50000   78.650000  \n",
      "max     84.800000   84.80000   84.800000  \n",
      "\n",
      "[8 rows x 217 columns]\n",
      "1800.0    31.486020\n",
      "1801.0    31.448905\n",
      "1802.0    31.463483\n",
      "1803.0    31.377413\n",
      "1804.0    31.446318\n",
      "            ...    \n",
      "2012.0    71.663077\n",
      "2013.0    71.916106\n",
      "2014.0    72.088125\n",
      "2015.0    72.321010\n",
      "2016.0    72.556635\n",
      "Length: 217, dtype: float64\n"
     ]
    }
   ],
   "source": [
    "import numpy as np\n",
    "import pandas as pd\n",
    "import matplotlib as plt\n",
    "import seaborn as sns\n",
    "\n",
    "df_lifeexp = pd.read_excel('data/gapminder_lifeexpectancy.xlsx')\n",
    "print(df_lifeexp.head())\n",
    "print(df_lifeexp.shape)\n",
    "print(df_lifeexp.describe())\n",
    "\n",
    "#df = df_lifeexp.dropna()\n",
    "#df = df_lifeexp.fillna(method='ffill')\n",
    "\n",
    "mean_df_lifeexp = df_lifeexp.mean(numeric_only = True)\n",
    "print(mean_df_lifeexp)"
   ]
  },
  {
   "cell_type": "code",
   "execution_count": 2,
   "id": "f7dfb1f8-ebcc-45d8-9b42-09231dd02382",
   "metadata": {},
   "outputs": [
    {
     "data": {
      "text/plain": [
       "<AxesSubplot:>"
      ]
     },
     "execution_count": 2,
     "metadata": {},
     "output_type": "execute_result"
    },
    {
     "data": {
      "image/png": "[encoded data removed]",
      "text/plain": [
       "<Figure size 432x288 with 1 Axes>"
      ]
     },
     "metadata": {
      "needs_background": "light"
     },
     "output_type": "display_data"
    }
   ],
   "source": [
    "sns.lineplot(data = mean_df_lifeexp)"
   ]
  },
  {
   "cell_type": "code",
   "execution_count": 3,
   "id": "46977041-ecc3-49ab-b9ca-d30b6104e534",
   "metadata": {},
   "outputs": [
    {
     "name": "stdout",
     "output_type": "stream",
     "text": [
      "                       1800  1801  1802  1803  1804  1805  1806  1807  1808  \\\n",
      "Total fertility rate                                                          \n",
      "Abkhazia                NaN   NaN   NaN   NaN   NaN   NaN   NaN   NaN   NaN   \n",
      "Afghanistan            7.00  7.00  7.00  7.00  7.00  7.00  7.00  7.00  7.00   \n",
      "Akrotiri and Dhekelia   NaN   NaN   NaN   NaN   NaN   NaN   NaN   NaN   NaN   \n",
      "Albania                4.60  4.60  4.60  4.60  4.60  4.60  4.60  4.60  4.60   \n",
      "Algeria                6.99  6.99  6.99  6.99  6.99  6.99  6.99  6.99  6.99   \n",
      "\n",
      "                       1809  ...  2006  2007  2008  2009  2010  2011  2012  \\\n",
      "Total fertility rate         ...                                             \n",
      "Abkhazia                NaN  ...   NaN   NaN   NaN   NaN   NaN   NaN   NaN   \n",
      "Afghanistan            7.00  ...  6.70  6.46  6.20  5.93  5.66  5.40  5.14   \n",
      "Akrotiri and Dhekelia   NaN  ...   NaN   NaN   NaN   NaN   NaN   NaN   NaN   \n",
      "Albania                4.60  ...  1.85  1.80  1.76  1.74  1.74  1.75  1.76   \n",
      "Algeria                6.99  ...  2.58  2.66  2.73  2.78  2.82  2.83  2.82   \n",
      "\n",
      "                       2013  2014  2015  \n",
      "Total fertility rate                     \n",
      "Abkhazia                NaN   NaN   NaN  \n",
      "Afghanistan            4.90  4.68  4.47  \n",
      "Akrotiri and Dhekelia   NaN   NaN   NaN  \n",
      "Albania                1.77  1.78  1.78  \n",
      "Algeria                2.80  2.76  2.71  \n",
      "\n",
      "[5 rows x 216 columns]\n",
      "(260, 216)\n",
      "             1800        1801        1802        1803        1804        1805  \\\n",
      "count  201.000000  201.000000  201.000000  201.000000  201.000000  201.000000   \n",
      "mean     6.084080    6.081244    6.084328    6.083383    6.083682    6.083433   \n",
      "std      0.777465    0.780857    0.775431    0.774806    0.774999    0.771939   \n",
      "min      4.040000    4.040000    3.910000    4.050000    3.940000    4.060000   \n",
      "25%      5.620000    5.620000    5.620000    5.620000    5.640000    5.620000   \n",
      "50%      6.150000    6.150000    6.150000    6.150000    6.150000    6.150000   \n",
      "75%      6.690000    6.690000    6.690000    6.690000    6.690000    6.690000   \n",
      "max      8.100000    8.100000    8.100000    8.100000    8.100000    8.100000   \n",
      "\n",
      "             1806        1807        1808        1809  ...        2006  \\\n",
      "count  201.000000  201.000000  201.000000  201.000000  ...  201.000000   \n",
      "mean     6.079353    6.078159    6.070647    6.059701  ...    2.999403   \n",
      "std      0.776931    0.777962    0.791615    0.817953  ...    1.591173   \n",
      "min      4.070000    4.050000    4.000000    3.210000  ...    0.870000   \n",
      "25%      5.620000    5.620000    5.620000    5.620000  ...    1.820000   \n",
      "50%      6.150000    6.150000    6.130000    6.130000  ...    2.450000   \n",
      "75%      6.690000    6.690000    6.690000    6.690000  ...    3.910000   \n",
      "max      8.100000    8.100000    8.100000    8.100000  ...    7.600000   \n",
      "\n",
      "             2007        2008        2009        2010        2011        2012  \\\n",
      "count  201.000000  201.000000  201.000000  201.000000  201.000000  201.000000   \n",
      "mean     2.971642    2.943881    2.915771    2.884925    2.853433    2.823284   \n",
      "std      1.561309    1.531775    1.502406    1.475264    1.447739    1.418326   \n",
      "min      0.910000    0.940000    0.970000    0.900000    1.030000    1.060000   \n",
      "25%      1.830000    1.830000    1.840000    1.840000    1.820000    1.800000   \n",
      "50%      2.440000    2.430000    2.410000    2.380000    2.350000    2.330000   \n",
      "75%      3.830000    3.760000    3.740000    3.720000    3.640000    3.560000   \n",
      "max      7.590000    7.590000    7.590000    7.580000    7.580000    7.570000   \n",
      "\n",
      "             2013        2014        2015  \n",
      "count  201.000000  199.000000  199.000000  \n",
      "mean     2.794179    2.775176    2.744523  \n",
      "std      1.389848    1.362167    1.332827  \n",
      "min      1.070000    1.110000    1.130000  \n",
      "25%      1.800000    1.795000    1.785000  \n",
      "50%      2.290000    2.260000    2.230000  \n",
      "75%      3.490000    3.565000    3.495000  \n",
      "max      7.560000    7.540000    7.510000  \n",
      "\n",
      "[8 rows x 216 columns]\n",
      "1800    6.084080\n",
      "1801    6.081244\n",
      "1802    6.084328\n",
      "1803    6.083383\n",
      "1804    6.083682\n",
      "          ...   \n",
      "2011    2.853433\n",
      "2012    2.823284\n",
      "2013    2.794179\n",
      "2014    2.775176\n",
      "2015    2.744523\n",
      "Length: 216, dtype: float64\n"
     ]
    }
   ],
   "source": [
    "df_totfert= pd.read_csv('data/gapminder_total_fertility.csv',index_col=0)\n",
    "print(df_totfert.head())\n",
    "print(df_totfert.shape)\n",
    "print(df_totfert.describe())\n",
    "\n",
    "#df = df_totfert.dropna()\n",
    "#df = df_totfert.fillna(method='ffill')\n",
    "\n",
    "mean_df_totfert = df_totfert.mean(numeric_only = True)\n",
    "print(mean_df_totfert)"
   ]
  },
  {
   "cell_type": "code",
   "execution_count": null,
   "id": "f6de5521",
   "metadata": {},
   "outputs": [],
   "source": []
  },
  {
   "cell_type": "code",
   "execution_count": 4,
   "id": "c335b4fc-d237-49e2-861b-b449c96b2f05",
   "metadata": {},
   "outputs": [
    {
     "data": {
      "text/plain": [
       "<AxesSubplot:>"
      ]
     },
     "execution_count": 4,
     "metadata": {},
     "output_type": "execute_result"
    },
    {
     "data": {
      "image/png": "[encoded data removed]",
      "text/plain": [
       "<Figure size 432x288 with 1 Axes>"
      ]
     },
     "metadata": {
      "needs_background": "light"
     },
     "output_type": "display_data"
    }
   ],
   "source": [
    "mean_df_totfert_2 = mean_df_totfert.iloc[1:]\n",
    "mean_df_totfert_2.index= mean_df_totfert_2.index.astype(int)\n",
    "\n",
    "sns.lineplot(data = mean_df_totfert_2) \n",
    "#If I plot without converting strings to integers it plots all strings and loooks bad"
   ]
  },
  {
   "cell_type": "code",
   "execution_count": 5,
   "id": "9ec48dd7",
   "metadata": {},
   "outputs": [
    {
     "data": {
      "text/html": [
       "<div>\n",
       "<style scoped>\n",
       "    .dataframe tbody tr th:only-of-type {\n",
       "        vertical-align: middle;\n",
       "    }\n",
       "\n",
       "    .dataframe tbody tr th {\n",
       "        vertical-align: top;\n",
       "    }\n",
       "\n",
       "    .dataframe thead th {\n",
       "        text-align: right;\n",
       "    }\n",
       "</style>\n",
       "<table border=\"1\" class=\"dataframe\">\n",
       "  <thead>\n",
       "    <tr style=\"text-align: right;\">\n",
       "      <th></th>\n",
       "      <th>1984.0</th>\n",
       "      <th>1994.0</th>\n",
       "      <th>2004.0</th>\n",
       "      <th>2014.0</th>\n",
       "    </tr>\n",
       "  </thead>\n",
       "  <tbody>\n",
       "    <tr>\n",
       "      <th>0</th>\n",
       "      <td>NaN</td>\n",
       "      <td>NaN</td>\n",
       "      <td>NaN</td>\n",
       "      <td>NaN</td>\n",
       "    </tr>\n",
       "    <tr>\n",
       "      <th>1</th>\n",
       "      <td>44.45</td>\n",
       "      <td>48.9</td>\n",
       "      <td>51.80</td>\n",
       "      <td>54.9</td>\n",
       "    </tr>\n",
       "    <tr>\n",
       "      <th>2</th>\n",
       "      <td>NaN</td>\n",
       "      <td>NaN</td>\n",
       "      <td>NaN</td>\n",
       "      <td>NaN</td>\n",
       "    </tr>\n",
       "    <tr>\n",
       "      <th>3</th>\n",
       "      <td>72.42</td>\n",
       "      <td>73.6</td>\n",
       "      <td>75.90</td>\n",
       "      <td>77.9</td>\n",
       "    </tr>\n",
       "    <tr>\n",
       "      <th>4</th>\n",
       "      <td>66.15</td>\n",
       "      <td>71.4</td>\n",
       "      <td>74.40</td>\n",
       "      <td>76.3</td>\n",
       "    </tr>\n",
       "    <tr>\n",
       "      <th>...</th>\n",
       "      <td>...</td>\n",
       "      <td>...</td>\n",
       "      <td>...</td>\n",
       "      <td>...</td>\n",
       "    </tr>\n",
       "    <tr>\n",
       "      <th>255</th>\n",
       "      <td>NaN</td>\n",
       "      <td>NaN</td>\n",
       "      <td>NaN</td>\n",
       "      <td>NaN</td>\n",
       "    </tr>\n",
       "    <tr>\n",
       "      <th>256</th>\n",
       "      <td>56.17</td>\n",
       "      <td>47.7</td>\n",
       "      <td>46.30</td>\n",
       "      <td>56.3</td>\n",
       "    </tr>\n",
       "    <tr>\n",
       "      <th>257</th>\n",
       "      <td>64.63</td>\n",
       "      <td>58.2</td>\n",
       "      <td>44.70</td>\n",
       "      <td>57.0</td>\n",
       "    </tr>\n",
       "    <tr>\n",
       "      <th>258</th>\n",
       "      <td>NaN</td>\n",
       "      <td>NaN</td>\n",
       "      <td>79.88</td>\n",
       "      <td>NaN</td>\n",
       "    </tr>\n",
       "    <tr>\n",
       "      <th>259</th>\n",
       "      <td>46.50</td>\n",
       "      <td>52.3</td>\n",
       "      <td>55.20</td>\n",
       "      <td>56.1</td>\n",
       "    </tr>\n",
       "  </tbody>\n",
       "</table>\n",
       "<p>260 rows × 4 columns</p>\n",
       "</div>"
      ],
      "text/plain": [
       "     1984.0  1994.0  2004.0  2014.0\n",
       "0       NaN     NaN     NaN     NaN\n",
       "1     44.45    48.9   51.80    54.9\n",
       "2       NaN     NaN     NaN     NaN\n",
       "3     72.42    73.6   75.90    77.9\n",
       "4     66.15    71.4   74.40    76.3\n",
       "..      ...     ...     ...     ...\n",
       "255     NaN     NaN     NaN     NaN\n",
       "256   56.17    47.7   46.30    56.3\n",
       "257   64.63    58.2   44.70    57.0\n",
       "258     NaN     NaN   79.88     NaN\n",
       "259   46.50    52.3   55.20    56.1\n",
       "\n",
       "[260 rows x 4 columns]"
      ]
     },
     "execution_count": 5,
     "metadata": {},
     "output_type": "execute_result"
    }
   ],
   "source": [
    "df_lifeexp_1 = df_lifeexp[[1984, 1994, 2004, 2014]]\n",
    "df_lifeexp_1"
   ]
  },
  {
   "cell_type": "code",
   "execution_count": 6,
   "id": "2f03885c",
   "metadata": {},
   "outputs": [
    {
     "data": {
      "image/png": "[encoded data removed]",
      "text/plain": [
       "<Figure size 432x288 with 1 Axes>"
      ]
     },
     "metadata": {
      "needs_background": "light"
     },
     "output_type": "display_data"
    }
   ],
   "source": [
    "df_lifeexp_1[2014].hist()\n",
    "plt.pyplot.savefig('histo.png')"
   ]
  },
  {
   "cell_type": "code",
   "execution_count": 7,
   "id": "e11d79b0",
   "metadata": {},
   "outputs": [
    {
     "data": {
      "text/plain": [
       "<AxesSubplot:>"
      ]
     },
     "execution_count": 7,
     "metadata": {},
     "output_type": "execute_result"
    },
    {
     "data": {
      "image/png": "[encoded data removed]",
      "text/plain": [
       "<Figure size 432x288 with 1 Axes>"
      ]
     },
     "metadata": {
      "needs_background": "light"
     },
     "output_type": "display_data"
    }
   ],
   "source": [
    "df_lifeexp[2014].hist(bins = 20)"
   ]
  },
  {
   "cell_type": "code",
   "execution_count": 8,
   "id": "442509f6",
   "metadata": {},
   "outputs": [
    {
     "data": {
      "text/plain": [
       "<AxesSubplot:>"
      ]
     },
     "execution_count": 8,
     "metadata": {},
     "output_type": "execute_result"
    },
    {
     "data": {
      "image/png": "[encoded data removed]",
      "text/plain": [
       "<Figure size 432x288 with 1 Axes>"
      ]
     },
     "metadata": {
      "needs_background": "light"
     },
     "output_type": "display_data"
    }
   ],
   "source": [
    "df_lifeexp[2014].hist(bins = 100)"
   ]
  },
  {
   "cell_type": "code",
   "execution_count": 9,
   "id": "2afea0d2",
   "metadata": {},
   "outputs": [
    {
     "data": {
      "text/plain": [
       "count    208.000000\n",
       "mean      72.088125\n",
       "std        8.074990\n",
       "min       45.400000\n",
       "25%       66.775000\n",
       "50%       74.300000\n",
       "75%       78.400000\n",
       "max       84.800000\n",
       "Name: 2014.0, dtype: float64"
      ]
     },
     "execution_count": 9,
     "metadata": {},
     "output_type": "execute_result"
    }
   ],
   "source": [
    "df_lifeexp[2014].describe()"
   ]
  },
  {
   "cell_type": "code",
   "execution_count": 10,
   "id": "cc74745a",
   "metadata": {},
   "outputs": [
    {
     "data": {
      "text/plain": [
       "(260, 218)"
      ]
     },
     "execution_count": 10,
     "metadata": {},
     "output_type": "execute_result"
    }
   ],
   "source": [
    "df_lifeexp.shape"
   ]
  },
  {
   "cell_type": "code",
   "execution_count": 11,
   "id": "aba6c7b5",
   "metadata": {},
   "outputs": [
    {
     "data": {
      "text/plain": [
       "Text(0.5, 0, 'years')"
      ]
     },
     "execution_count": 11,
     "metadata": {},
     "output_type": "execute_result"
    },
    {
     "data": {
      "image/png": "[encoded data removed]",
      "text/plain": [
       "<Figure size 432x288 with 1 Axes>"
      ]
     },
     "metadata": {
      "needs_background": "light"
     },
     "output_type": "display_data"
    }
   ],
   "source": [
    "df_lifeexp[2014].hist(bins = 30)\n",
    "plt.pyplot.title('Life Expectancy in 2014 Histogram')\n",
    "plt.pyplot.ylabel('Number of countries')\n",
    "plt.pyplot.xlabel('years')"
   ]
  },
  {
   "cell_type": "code",
   "execution_count": 12,
   "id": "891368b9",
   "metadata": {},
   "outputs": [
    {
     "data": {
      "text/plain": [
       "(0.0, 95.0, 0.0, 30.0)"
      ]
     },
     "execution_count": 12,
     "metadata": {},
     "output_type": "execute_result"
    },
    {
     "data": {
      "image/png": "[encoded data removed]",
      "text/plain": [
       "<Figure size 432x288 with 1 Axes>"
      ]
     },
     "metadata": {
      "needs_background": "light"
     },
     "output_type": "display_data"
    }
   ],
   "source": [
    "df_lifeexp[2014].hist(bins = 30)\n",
    "plt.pyplot.title('Life Expectancy in 2014 Histogram')\n",
    "plt.pyplot.ylabel('Number of countries')\n",
    "plt.pyplot.xlabel('years')\n",
    "plt.pyplot.axis([0.0, 95.0, 0.0, 30.0])"
   ]
  },
  {
   "cell_type": "code",
   "execution_count": 13,
   "id": "6495b84c",
   "metadata": {},
   "outputs": [
    {
     "data": {
      "image/png": "[encoded data removed]",
      "text/plain": [
       "<Figure size 432x288 with 1 Axes>"
      ]
     },
     "metadata": {
      "needs_background": "light"
     },
     "output_type": "display_data"
    }
   ],
   "source": [
    "df_lifeexp[[2014]].hist(\n",
    "    bins = 30,\n",
    "    facecolor='#C875C4',\n",
    "    alpha=.90,\n",
    "    histtype='barstacked',\n",
    ")\n",
    "plt.pyplot.title('Life Expectancy in 2014 Histogram')\n",
    "plt.pyplot.ylabel('Number of countries')\n",
    "plt.pyplot.xlabel('years')\n",
    "plt.pyplot.axis([35.0, 95.0, 0.0, 30.0])\n",
    "plt.pyplot.savefig('histo_2014.png', dpi=150)"
   ]
  },
  {
   "cell_type": "code",
   "execution_count": 14,
   "id": "aa52bbc7",
   "metadata": {},
   "outputs": [
    {
     "data": {
      "image/png": "[encoded data removed]",
      "text/plain": [
       "<Figure size 432x288 with 1 Axes>"
      ]
     },
     "metadata": {
      "needs_background": "light"
     },
     "output_type": "display_data"
    }
   ],
   "source": [
    "df_lifeexp[2014].hist(\n",
    "    bins = 30,\n",
    "    #facecolor='#C875C4',\n",
    "    alpha=.90,\n",
    "    histtype='barstacked',\n",
    ")\n",
    "df_lifeexp[2004].hist(\n",
    "    bins = 30,\n",
    "    #facecolor='#C875C4',\n",
    "    alpha=.90,\n",
    "    histtype='barstacked',\n",
    ")\n",
    "plt.pyplot.title('Life Expectancy in 2014 Histogram')\n",
    "plt.pyplot.ylabel('Number of countries')\n",
    "plt.pyplot.xlabel('years')\n",
    "plt.pyplot.axis([35.0, 95.0, 0.0, 30.0])\n",
    "plt.pyplot.savefig('histo_2014.png', dpi=150)"
   ]
  }
 ],
 "metadata": {
  "kernelspec": {
   "display_name": "Python 3 (ipykernel)",
   "language": "python",
   "name": "python3"
  },
  "language_info": {
   "codemirror_mode": {
    "name": "ipython",
    "version": 3
   },
   "file_extension": ".py",
   "mimetype": "text/x-python",
   "name": "python",
   "nbconvert_exporter": "python",
   "pygments_lexer": "ipython3",
   "version": "3.9.7"
  }
 },
 "nbformat": 4,
 "nbformat_minor": 5
}
